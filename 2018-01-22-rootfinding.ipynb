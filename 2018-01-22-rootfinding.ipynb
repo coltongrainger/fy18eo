{
 "cells": [
  {
   "cell_type": "markdown",
   "metadata": {},
   "source": [
    "### bisection methods\n",
    "\n",
    "This implementation does not create a sequence of values which converge, but rather returns an approximate value within $\\epsilon$ of the true root."
   ]
  },
  {
   "cell_type": "code",
   "execution_count": null,
   "metadata": {},
   "outputs": [],
   "source": [
    "import numpy\n",
    "\n",
    "def bisect(f, a, b, eps, Nmax):\n",
    "    while b - a > eps and N < Nmax:\n",
    "        if sign(f((a+b)/2)) == sign(f(b)):\n",
    "            b = (a+b)/2\n",
    "        else:\n",
    "            a = (a+b)/2\n",
    "        N += 1\n",
    "    return (a+b)/2"
   ]
  },
  {
   "cell_type": "code",
   "execution_count": null,
   "metadata": {},
   "outputs": [],
   "source": [
    "f(x) = x^2 - 3\n",
    "print f(1), f(2)"
   ]
  },
  {
   "cell_type": "code",
   "execution_count": null,
   "metadata": {},
   "outputs": [],
   "source": [
    "bisect(f, 1, 2, 0.001)"
   ]
  },
  {
   "cell_type": "code",
   "execution_count": null,
   "metadata": {},
   "outputs": [],
   "source": [
    "# verifying\n",
    "bool(\n",
    "    n(sqrt(3)) - bisect(f,1,2,0.001) <= 0.001\n",
    ")"
   ]
  },
  {
   "cell_type": "code",
   "execution_count": null,
   "metadata": {},
   "outputs": [],
   "source": [
    "a = 1\n",
    "b = 2\n",
    "f(x) = x^2 - 3\n",
    "eps = 0.001\n",
    "\n",
    "r = bisect(f, a, b, eps)\n",
    "\n",
    "crv = plot(f, (x, 0, 3))\n",
    "pts = point([(1,f(1)),(2,f(2))], pointsize = 40)\n",
    "root = point((r, f(r)), pointsize = 40, color = 'green')\n",
    "show(crv + pts + root)"
   ]
  },
  {
   "cell_type": "markdown",
   "metadata": {},
   "source": [
    "### table for convergence analysis\n",
    "\n",
    "Suppose $f \\colon [a,b] \\to \\mathbf{R}$ is a continuous function with $f(a)\\cdot f(b)< 0$. By the IVT there's a root $p \\in (a,b)$ such that $f(x) = 0$.\n",
    "\n",
    "We'll write an algorithm to generate a sequence $x_n$ such that $x_n \\to x$. \n",
    "\n",
    "But at what rate $O(\\beta_n)$ does $x_n \\to x$? \n",
    "That is, for what seqs $\\beta_n \\to 0$ does there exist a positive constant $\\lambda$ such that \n",
    "$$x_n - x \\leq \\lambda|\\beta_n|?$$ \n",
    "I'd guess the fastest converging $\\beta_n$ is $\\frac1n$.\n",
    "\n",
    "What's the order of this algorithm's convergence? (Likely linear.) \n",
    "That is, for what $\\alpha > 0$ does there exist an asymptotic error constant $\\lambda > 0$ such that \n",
    "$$\\lim_{n\\to \\infty} \\frac{|e_{n+1}|}{|e_n|^\\alpha} = \\lambda ?$$"
   ]
  },
  {
   "cell_type": "code",
   "execution_count": null,
   "metadata": {},
   "outputs": [],
   "source": [
    "import numpy\n",
    "\n",
    "def bisect_verbose(f, a, b, Nmax, root):\n",
    "    n = 0\n",
    "    values = []\n",
    "    while n < Nmax:\n",
    "        x = (a + b)/2\n",
    "        error = abs(root - x)\n",
    "        values.append([n, a, b, x, f(x), error])\n",
    "        if f(x)*f(a) < 0:\n",
    "            b = x\n",
    "        else:\n",
    "            a = x           \n",
    "        n = n + 1\n",
    "    return values"
   ]
  },
  {
   "cell_type": "code",
   "execution_count": null,
   "metadata": {},
   "outputs": [],
   "source": [
    "f(x) = x^2 - 3\n",
    "root = N(sqrt(3))\n",
    "Nmax = 10\n",
    "\n",
    "bisect_verbose(f, 1, 2, Nmax, root)"
   ]
  },
  {
   "cell_type": "code",
   "execution_count": null,
   "metadata": {},
   "outputs": [],
   "source": [
    "# plot the error\n",
    "error_seq = [bisect_verbose(f, 1, 2, Nmax, root)[i][5] for i in range(Nmax)]\n",
    "list_plot(error_seq) "
   ]
  },
  {
   "cell_type": "code",
   "execution_count": null,
   "metadata": {},
   "outputs": [],
   "source": [
    "# bounded by 1/(2^n)?\n",
    "list_plot(error_seq) + plot(1/(2^x), (x, 0, Nmax))"
   ]
  },
  {
   "cell_type": "markdown",
   "metadata": {},
   "source": [
    "### multiplicity\n",
    "\n",
    "A root $p$ of the equation $f(x) = 0$ is said to be a *root of multiplicity* $m$ iff $f$ \"can be written of the form\" $$f(x) = (x - p)^m q(x)$$ where $\\lim_{x \\to p} q(x) \\neq 0$.\n",
    "\n",
    "Rather than factoring, we can take derivatives.\n",
    "\n",
    "Let $f$ be a cts func with $m$ cts derivs; the eqn $f(x) = 0$ has a root of multip $m$ at $x = p$ iff $$\\{f^{(n)}(p) : 0 \\leq n < m\\} = \\{0\\}$$ with $$f^{(m)}(p) \\neq 0$$ i.e. at $x = p$ all derivs of $f$ upto the $m$th are zero but the $m$th is *nonzero*.\n",
    "\n",
    "Consider non-poly funcs, for example, the log of a rational func: "
   ]
  },
  {
   "cell_type": "code",
   "execution_count": null,
   "metadata": {},
   "outputs": [],
   "source": [
    "f(x) = 2*x + log((1-x)/(1+x))\n",
    "plot([f.diff(x,n) for n in range(4)], (x, -1, 1), ymax = 5, ymin = -5)"
   ]
  },
  {
   "cell_type": "code",
   "execution_count": null,
   "metadata": {},
   "outputs": [],
   "source": [
    "for n in range(4):\n",
    "    print str(n)+\"th derivative\"\n",
    "    show(f.diff(x, n))"
   ]
  },
  {
   "cell_type": "code",
   "execution_count": null,
   "metadata": {},
   "outputs": [],
   "source": []
  }
 ],
 "metadata": {
  "kernelspec": {
   "display_name": "SageMath 8.0",
   "language": "",
   "name": "sagemath"
  },
  "language_info": {
   "codemirror_mode": {
    "name": "ipython",
    "version": 2
   },
   "file_extension": ".py",
   "mimetype": "text/x-python",
   "name": "python",
   "nbconvert_exporter": "python",
   "pygments_lexer": "ipython2",
   "version": "2.7.13"
  }
 },
 "nbformat": 4,
 "nbformat_minor": 2
}
