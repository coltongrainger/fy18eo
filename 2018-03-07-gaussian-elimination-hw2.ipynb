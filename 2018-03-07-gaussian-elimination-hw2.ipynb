{
 "cells": [
  {
   "cell_type": "markdown",
   "metadata": {},
   "source": [
    "### Prob 7\n",
    "\n",
    "We find the [LU decomposition](https://en.wikipedia.org/wiki/LU_decomposition) of matrix $A$ by running [Gaussian elimination](https://en.wikipedia.org/wiki/Gaussian_elimination) on $A$. The reduced matrix is the upper triangular matrix $U$, where the reduction is represented by left multiplication of transformation matrices $E_i$ for $i \\in\\{1,\\ldots, n-1\\}$,\n",
    "\n",
    "$$U = \\left(\\overset{\\curvearrowleft}{\\prod_{i=1}^{n-1}} E_i\\right) A = E_{n-1}\\cdots E_1 A.$$\n",
    "\n",
    "Further, it can be shown that \n",
    "\n",
    "$$L = \\overset{\\curvearrowright}{\\prod_{i=1}^{n-1}} E_i^{-1} = E_1^{-1}\\cdots E_{n-1}^{-1}$$\n",
    "\n",
    "is a lower triangular matrix. Whence we obtain $A = LU$."
   ]
  },
  {
   "cell_type": "code",
   "execution_count": null,
   "metadata": {},
   "outputs": [],
   "source": [
    "A = matrix(QQ, [[4,1,0,0], [1,4,1,0], [0,1,4,1], [0,0,1,4]])\n",
    "show(A)"
   ]
  },
  {
   "cell_type": "code",
   "execution_count": null,
   "metadata": {},
   "outputs": [],
   "source": [
    "L = matrix(QQ, [[1,0,0,0],[1/4,1,0,0],[0,4/15,1,0],[0,0,15/56,1]])\n",
    "show(L)"
   ]
  },
  {
   "cell_type": "code",
   "execution_count": null,
   "metadata": {},
   "outputs": [],
   "source": [
    "U = matrix(QQ, [[4,1,0,0],[0,15/4,1,0],[0,0,56/15,1],[0,0,0,209/56]])\n",
    "show(U)"
   ]
  },
  {
   "cell_type": "code",
   "execution_count": null,
   "metadata": {},
   "outputs": [],
   "source": [
    "A == L*U"
   ]
  },
  {
   "cell_type": "code",
   "execution_count": null,
   "metadata": {},
   "outputs": [],
   "source": [
    "b = vector(QQ, [2,-3,3,-2])\n",
    "y = L.solve_right(b)\n",
    "show(y)"
   ]
  },
  {
   "cell_type": "code",
   "execution_count": null,
   "metadata": {},
   "outputs": [],
   "source": [
    "x = U.solve_right(y)\n",
    "show(x)"
   ]
  },
  {
   "cell_type": "code",
   "execution_count": null,
   "metadata": {},
   "outputs": [],
   "source": [
    "# to wit\n",
    "L*y == b"
   ]
  },
  {
   "cell_type": "code",
   "execution_count": null,
   "metadata": {},
   "outputs": [],
   "source": [
    "U*x == y"
   ]
  },
  {
   "cell_type": "code",
   "execution_count": null,
   "metadata": {},
   "outputs": [],
   "source": [
    "A*x == b"
   ]
  },
  {
   "cell_type": "markdown",
   "metadata": {},
   "source": [
    "### Prob 8"
   ]
  },
  {
   "cell_type": "markdown",
   "metadata": {},
   "source": [
    "def wellposed(U,b):\n",
    "    if not all(len(U[i]) == len(U) for i in range(len(U))):\n",
    "        print \"Matrix U is not square.\"; return False\n",
    "    if not len(U[0]) == len(b):\n",
    "        print \"Vector b is not of compatible dimension with matrix U.\"; return False\n",
    "    if not all(U[i][j] == 0 for i in range(len(U)) for j in range(i)): \n",
    "        print \"Matrix U is not upper triangular.\"; return False\n",
    "    if not all(U[i][i] != 0 for i in range(len(U))): \n",
    "        print \"Matrix U has zero'd out pivot elements.\"; return False\n",
    "    return True\n",
    "\n",
    "def backsub(U,b):\n",
    "    if not wellposed(U,b):\n",
    "        return \"Back substitution is ill-posed.\"\n",
    "    x = []\n",
    "    for i in range(len(b)):\n",
    "        offset = sum(U[-(i+1)][-(j+1)]*x[-(j+1)] for j in range(i))\n",
    "        elem = (b[-(i+1)] - offset)/U[-(i+1)][-(i+1)]\n",
    "        x.insert(0, elem)\n",
    "    return x"
   ]
  },
  {
   "cell_type": "code",
   "execution_count": null,
   "metadata": {},
   "outputs": [],
   "source": [
    "# for example \n",
    "U = [[1,2],[0,1]]\n",
    "b = [3,1]\n",
    "backsub(U,b)"
   ]
  },
  {
   "cell_type": "code",
   "execution_count": null,
   "metadata": {},
   "outputs": [],
   "source": [
    "# ill-posed example\n",
    "U = [[2,1],[0,0]]\n",
    "backsub(U,b)"
   ]
  },
  {
   "cell_type": "code",
   "execution_count": null,
   "metadata": {},
   "outputs": [],
   "source": [
    "# desideratum\n",
    "U = [[1,2,-1],[0,3,-1],[0,0,2]]\n",
    "b = [-1, 0, 1]\n",
    "backsub(U,b)"
   ]
  },
  {
   "cell_type": "code",
   "execution_count": null,
   "metadata": {},
   "outputs": [],
   "source": [
    "# checking work with SageMath's matrix notation\n",
    "U = matrix(QQ, [[1,2,-1],[0,3,-1],[0,0,2]])\n",
    "b = vector(QQ, [-1, 0, 1])\n",
    "U.solve_right(b)"
   ]
  },
  {
   "cell_type": "code",
   "execution_count": null,
   "metadata": {},
   "outputs": [],
   "source": [
    "def wellposed(L,b):\n",
    "    if not all(len(L[i]) == len(L) for i in range(len(L))):\n",
    "        print \"Matrix L is not square.\"; return False\n",
    "    if not len(L[0]) == len(b):\n",
    "        print \"Vector b is not of compatible dimension with matrix L.\"; return False\n",
    "    if not all(L[i][j] == 0 for j in range(len(L)) for i in range(j)): \n",
    "        print \"Matrix L is not lower triangular.\"; return False\n",
    "    if not all(L[i][i] != 0 for i in range(len(L))): \n",
    "        print \"Matrix L has zero'd out pivot elements.\"; return False\n",
    "    return True\n",
    "\n",
    "def forwardsub(L,b):\n",
    "    if not wellposed(L,b):\n",
    "        return \"Forward substitution is ill-posed.\"\n",
    "    x = []\n",
    "    for i in range(len(b)):\n",
    "        offset = sum(L[i][j]*x[j] for j in range(i))\n",
    "        elem = (b[i] - offset)/L[i][i]\n",
    "        x.append(elem)\n",
    "    return x"
   ]
  },
  {
   "cell_type": "code",
   "execution_count": null,
   "metadata": {},
   "outputs": [],
   "source": [
    "# for example (the transpose of the previous)\n",
    "L = [[1,0],[2,1]]\n",
    "b = [1,3]\n",
    "forwardsub(L,b)"
   ]
  },
  {
   "cell_type": "code",
   "execution_count": null,
   "metadata": {},
   "outputs": [],
   "source": [
    "# ill-posed\n",
    "L = [[1,9],[0,1]]\n",
    "b = [1,3]\n",
    "forwardsub(L,b)"
   ]
  },
  {
   "cell_type": "code",
   "execution_count": null,
   "metadata": {},
   "outputs": [],
   "source": [
    "# desideratum\n",
    "L = [[1,0,0],[2,1,0],[3,4,1]]\n",
    "b = [-1, 0, 1]\n",
    "forwardsub(L,b)"
   ]
  },
  {
   "cell_type": "code",
   "execution_count": null,
   "metadata": {},
   "outputs": [],
   "source": [
    "# checking work with SageMath's matrix notation\n",
    "L = matrix(QQ, [[1,0,0],[2,1,0],[3,4,1]])\n",
    "b = vector(QQ, [-1, 0, 1])\n",
    "L.solve_right(b)"
   ]
  },
  {
   "cell_type": "markdown",
   "metadata": {},
   "source": [
    "### Prob 9\n",
    "\n",
    "Suppose that $A$ is a tridiagonal $n\\times n$ matrix with all pivot elements nonzero. Consider the linear system $A\\mathbf{x} = \\mathbf{b}$.\n",
    "\n",
    "Gaussian Elimination takes $n-1$ passes to reduce the augmented matrix $[A|\\mathbf{b}]$ to $[A'|\\mathbf{b}']$ where $A'$ is upper triangular. In term, back substitution takes $n$ passes to produce the vector $\\mathbf{x}$ from $\\mathbf{b}'$ and $A'$.\n",
    "\n",
    "Then, what is the order $O(n^p)$ of arithmetical operations required for the solution of $A\\mathbf{x} = \\mathbf{b}$ by Gaussian Elimination and back substitution? We'll count division and subtraction as $*$ and $+$ operations, respectively. \n",
    "\n",
    "Consider the structure of the matrix $[A|\\mathbf{b}]$. I claim the $i$th pass of GE on $[A|\\mathbf{b}]$ requires $3$ multiplications and $2$ additions.\n",
    "\n",
    "$$\\begin{align}\n",
    "m_{i+1,i} &\\leftarrow \\frac{a_{i+1,i}}{a_{ii}}\\\\\n",
    "a_{i+1,i+1}' &\\leftarrow a_{i+1,i+1} - a_{i,i+1}*m_{i+1,i}\\\\\n",
    "b_{i+1}' &\\leftarrow b_{i+1} - b_i*m_{i+1,i}\n",
    "\\end{align}$$\n",
    "\n",
    "where we need neither compute\n",
    "\n",
    "$$\\begin{align}\n",
    "a_{i+1,i}' &\\leftarrow a_{i+1,i} - a_{ii}*m_{i+1,i}\\\\\n",
    "a_{i+1,j}' &\\leftarrow a_{i+1,j} - a_{i,j}*m_{i+1,i} &\\text{for $j > i+1$}\n",
    "\\end{align}$$ \n",
    "\n",
    "since we *know* $a_{i+1,i}' \\leftarrow 0$ and $a_{i+1,j}' \\leftarrow a_{i+1,j}$. (That is, $a_{i+1,i} - a_{ii}*m_{i+1,i} = 0$ by design of GE, and $a_{i,j} = 0$ for all $j > i+1$ by the tridiagonal structure of $A$.)\n",
    "\n",
    "In turn, the $i$th pass ($i \\in \\{n, \\ldots, 1\\}$, decrementing) of back substitution requires $2$ multiplications and $1$ addition.\n",
    "\n",
    "$$x_{i} \\leftarrow \\frac{b'_{i} - a_{i, i+1}*x_{i+1}}{a_{ii}}$$\n",
    "\n",
    "where $a_{n,n+1}$ and $x_{n+1}$ are undefined (so we take $1$ addition and $1$ multiplication out of the whole count).\n",
    "\n",
    "In total, the count of multiplications is \n",
    "$$GE(*) + RS(*) = 3n-3+2n-1 = 5n-4$$\n",
    "and the count of additions is\n",
    "$$GE(+) + RS(+) = 2n-2+n-1 = 3n-3$$\n",
    "\n",
    "The order of arithmetical operations for Gaussian elimination and back substitution is thus $O(n)$ for tridiagonal matrices of size $n\\times n$.\n"
   ]
  }
 ],
 "metadata": {
  "kernelspec": {
   "display_name": "SageMath 8.0",
   "language": "",
   "name": "sagemath"
  },
  "language_info": {
   "codemirror_mode": {
    "name": "ipython",
    "version": 2
   },
   "file_extension": ".py",
   "mimetype": "text/x-python",
   "name": "python",
   "nbconvert_exporter": "python",
   "pygments_lexer": "ipython2",
   "version": "2.7.13"
  }
 },
 "nbformat": 4,
 "nbformat_minor": 2
}
