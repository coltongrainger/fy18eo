{
 "cells": [
  {
   "cell_type": "markdown",
   "metadata": {},
   "source": [
    "## Taylor Polynomials\n",
    "### prob 1\n",
    "\n",
    "Let's have the function $f(x)=\\cos(\\pi x/2)$."
   ]
  },
  {
   "cell_type": "code",
   "execution_count": null,
   "metadata": {},
   "outputs": [],
   "source": [
    "f = cos(pi*x/2)\n",
    "p = f.plot((x, -2, 2))\n",
    "p.show(figsize = [7, 2])"
   ]
  },
  {
   "cell_type": "markdown",
   "metadata": {},
   "source": [
    "We expand $f(x)$ in a Taylor series about the point $x_0=0$.\n",
    "\n",
    "Since (about $x =\n",
    "0$)\n",
    "$$\\cos x = \\sum^{\\infty}_{n=0} \\frac{(-1)^n}{(2n)!} x^{2n} =  1 -\n",
    "\\frac{x^2}{2!} + \\frac{x^4}{4!} - \\cdots$$\n",
    "our Taylor expansion is just"
   ]
  },
  {
   "cell_type": "code",
   "execution_count": null,
   "metadata": {},
   "outputs": [],
   "source": [
    "f.series(x, 8)"
   ]
  },
  {
   "cell_type": "code",
   "execution_count": null,
   "metadata": {},
   "outputs": [],
   "source": [
    "# here's the 6th degree Taylor polynomial\n",
    "f.taylor(x, 0, 6)"
   ]
  },
  {
   "cell_type": "markdown",
   "metadata": {},
   "source": [
    "We find an expression for the remainder $R_n = f - P_n$ between the function $f$\n",
    "and its $n$th degree Taylor $P_n$ polynomial.\n",
    "\n",
    "By Taylor's theorem, there exists\n",
    "an $\\xi(x)$ between $x$ and the origin such that\n",
    "$$R_n(x) =\n",
    "\\frac{x^{n+1}}{(n+1)!}f^{(n+1)}(\\xi).$$\n",
    "\n",
    "Since $f(x) = \\cos\\frac\\pi2 x$, we can\n",
    "express derivatives as \n",
    "$$f^{(k)}(x) = (\\pi/2)^k\\cos\\left(\\frac\\pi2(x +\n",
    "k)\\right)$$"
   ]
  },
  {
   "cell_type": "code",
   "execution_count": null,
   "metadata": {},
   "outputs": [],
   "source": [
    "# some evidence for the claim\n",
    "for k in range(4):\n",
    "    error(x) = f.diff(x, k) - (pi/2)^k*cos((pi/2)*(x + k))\n",
    "    print bool(error == 0)"
   ]
  },
  {
   "cell_type": "code",
   "execution_count": null,
   "metadata": {},
   "outputs": [],
   "source": [
    "# and graphically, we see differentiation is just translation and scaling\n",
    "plot([f.diff(x, k) for k in range(4)], (x, -4, 0), \n",
    "     legend_label = ['$f$','$f^{(1)}$', '$f^{(2)}$', '$f^{(3)}$'],\n",
    "     figsize = [7,3])"
   ]
  },
  {
   "cell_type": "markdown",
   "metadata": {},
   "source": [
    "Whence \n",
    "$$\n",
    "R_n(x) = \\frac{x^{n+1}}{(n+1)!}(\\pi/2)^{(n+1)}\\cos\\left(\\frac\\pi2(\\xi\n",
    "+ n + 1)\\right) \\quad \\text{for some $\\xi$ between $x$ and the origin.}\n",
    "$$\n",
    "\n",
    "We\n",
    "estimate the number of terms required to guarantee <!---six-significant-\n",
    "digit---> \n",
    "accuracy for $f(x)$ within $10^{-5}$  for all $x$ in the interval\n",
    "$[-1, 1]$.\n",
    "\n",
    "The error $\\left|P_n(x) - f\\right|$ is just $\\left|R_n(x)\\right|$.\n",
    "Since $\\cos \\colon \\mathbf{R} \\to [-1,1]$, for whatever $\\xi$, we have the\n",
    "inequality \n",
    "$$\n",
    "\\left|R_n(x)\\right| \\leq\n",
    "\\left|\\frac{x^{n+1}}{(n+1)!}(\\pi/2)^{(n+1)}\\right|.\n",
    "$$\n",
    "\n",
    "Further, we notice \n",
    "$$\n",
    "\\max_{\\substack{x \\in [-1, 1]}}\n",
    "\\left|\\frac{x^{n+1}}{(n+1)!}(\\pi/2)^{(n+1)}\\right| =\n",
    "\\frac{(\\pi/2)^{(n+1)}}{(n+1)!}.\n",
    "$$\n",
    "which is our desired error bound. \n",
    "\n",
    "To find\n",
    "$n$ such that $\\left|R_n(x)\\right| \\leq \\varepsilon$ with $\\varepsilon =\n",
    "10^{-5}$, we iterate."
   ]
  },
  {
   "cell_type": "code",
   "execution_count": null,
   "metadata": {},
   "outputs": [],
   "source": [
    "from math import factorial\n",
    "\n",
    "n = 0; eps = 10**(-5)\n",
    "error_bound = lambda n : ((pi/2)**(n+1))/factorial(n+1)\n",
    "\n",
    "while error_bound(n) > eps:\n",
    "    n += 1\n",
    "n"
   ]
  },
  {
   "cell_type": "markdown",
   "metadata": {},
   "source": [
    "We plot $f(x)$ and its 1st, 3rd, 5th and 7th degree Taylor polynomials over\n",
    "$[-2, 2]$."
   ]
  },
  {
   "cell_type": "code",
   "execution_count": null,
   "metadata": {},
   "outputs": [],
   "source": [
    "curves = [f] + [f.taylor(x,0,i) for i in [1,3,5,7]]\n",
    "p = plot(curves, (x,-2,2), \n",
    "         legend_label = ['$f$','$P_1$', '$P_3$', '$P_5$', '$P_7$'],\n",
    "         thickness = 2.0)\n",
    "p.show(ymin = -1.5, figsize = [8,5])"
   ]
  },
  {
   "cell_type": "markdown",
   "metadata": {},
   "source": [
    "### prob 2\n",
    "\n",
    "We define a fixed point iteration function, which returns a list\n",
    "with 2 entries\n",
    "- a list of the first so many terms in the fixed point iteration\n",
    "sequence\n",
    "- the last term before the function halts fixed point iteration"
   ]
  },
  {
   "cell_type": "code",
   "execution_count": null,
   "metadata": {},
   "outputs": [],
   "source": [
    "def fixedpt(g, approx, eps, Nmax, SAVELIST = True):\n",
    "    i=0; previous = float(\"inf\"); seq = [approx]\n",
    "    while abs(approx - previous) > eps and i < Nmax:\n",
    "        previous = approx\n",
    "        approx = g(x=approx)\n",
    "        i += 1\n",
    "        if SAVELIST:\n",
    "            seq = seq + [approx]\n",
    "    return [seq, N(approx)]"
   ]
  },
  {
   "cell_type": "markdown",
   "metadata": {},
   "source": [
    "We'll consider a few fixed point iteration schemes. Each of the following\n",
    "functions $g$ have a fixed point $\\alpha$. But which converge to $\\alpha$\n",
    "(provided $|x_0-\\alpha|$ is sufficiently small)? (For discussion on *writing*\n",
    "such an iterator function, see [fixed point iteration: finding\n",
    "g(x)](https://math.stackexchange.com/questions/2053965/fixed-point-iteration-\n",
    "finding-gx?rq=1) on Stack Exchange.)\n",
    "\n",
    "If it does converge, we'll give the order\n",
    "of convergence; for linear\n",
    "convergence, give the rate of linear convergence\n",
    "(i.e., the asymptotic\n",
    "constant). In the case that $g^{\\prime}(\\alpha)=0$, we'll\n",
    "expand $g(x)$ in a\n",
    "Taylor polynomial about $x=\\alpha$ to determine the order of\n",
    "convergence.\n",
    "\n",
    "### prob 2 (a)\n",
    "\n",
    "Consider the fixed point iteration (to find\n",
    "$\\alpha=2$).\n",
    "$$x_{n+1}=-16+6x_n+\\frac{12}{x_n}$$"
   ]
  },
  {
   "cell_type": "code",
   "execution_count": null,
   "metadata": {},
   "outputs": [],
   "source": [
    "g = -16 + 6*x + 12/x\n",
    "approx=2.1; eps=10^(-15); Nmax=10\n",
    "fixedpt(g, approx, eps, Nmax)"
   ]
  },
  {
   "cell_type": "markdown",
   "metadata": {},
   "source": [
    "Starting with $x_0= 2.1$, this iteration scheme diverges, as evinced by the\n",
    "above sequence of values and the following graphs."
   ]
  },
  {
   "cell_type": "code",
   "execution_count": null,
   "metadata": {},
   "outputs": [],
   "source": [
    "A = plot([g, x], (x, 0, 4), ymin=0, ymax=4, legend_label = 'automatic')\n",
    "show(A, figsize = [7,4])"
   ]
  },
  {
   "cell_type": "markdown",
   "metadata": {},
   "source": [
    "We'll generate [cobweb plots](https://en.wikipedia.org/wiki/Cobweb_plot) to get\n",
    "some intuition as to why these iterations diverge."
   ]
  },
  {
   "cell_type": "code",
   "execution_count": null,
   "metadata": {},
   "outputs": [],
   "source": [
    "approx=2.1; eps=10^(-15); Nmax=10\n",
    "\n",
    "seq = fixedpt(g, approx, eps, Nmax)[0]\n",
    "points = []\n",
    "for i in range(Nmax):\n",
    "    points.append((seq[i], seq[i+1]))\n",
    "    points.append((seq[i+1], seq[i+1]))\n",
    "\n",
    "h = 10\n",
    "A = plot([g, x], xmin=1.5, xmax=1.5+h, ymin = 0, ymax = h, legend_label = 'automatic') \n",
    "B = list_plot(points, xmin=1.5, xmax=1.5+h, ymin = 0, ymax = h, plotjoined = True, color = 'red')\n",
    "show(A+B, figsize = [7,3])"
   ]
  },
  {
   "cell_type": "markdown",
   "metadata": {},
   "source": [
    "We can also try the iteration scheme from just below $\\alpha$; this sequence\n",
    "also diverges."
   ]
  },
  {
   "cell_type": "code",
   "execution_count": null,
   "metadata": {},
   "outputs": [],
   "source": [
    "approx=1.99999; eps=10^(-15); Nmax=10\n",
    "\n",
    "seq = fixedpt(g, approx, eps, Nmax)[0]\n",
    "points = []\n",
    "for i in range(Nmax):\n",
    "    points.append((seq[i], seq[i+1]))\n",
    "    points.append((seq[i+1], seq[i+1]))\n",
    "\n",
    "h = 1\n",
    "A = plot([g, x], xmin=2-h, xmax=2+h, ymin = 0, ymax = 2+h, legend_label = 'automatic') \n",
    "B = list_plot(points, xmin=2-h, xmax=2+h, ymin = 0, ymax = 2+h, plotjoined = True, color = 'red')\n",
    "show(A+B, figsize = [5,3])\n",
    "\n",
    "approx=1.99999; eps=10^(-15); Nmax=25\n",
    "\n",
    "seq = fixedpt(g, approx, eps, Nmax)[0]\n",
    "points = []\n",
    "for i in range(Nmax):\n",
    "    points.append((seq[i], seq[i+1]))\n",
    "    points.append((seq[i+1], seq[i+1]))\n",
    "\n",
    "h = 1\n",
    "A = plot([g, x], xmin=2-h, xmax=2+h, ymin = 0, ymax = 2+h, legend_label = 'automatic') \n",
    "B = list_plot(points, xmin=2-h, xmax=2+h, ymin = 0, ymax = 2+h, plotjoined = True, color = 'red')\n",
    "show(A+B, figsize = [5,3])"
   ]
  },
  {
   "cell_type": "markdown",
   "metadata": {},
   "source": [
    "Additionally, we consider the other fixed point $1.2$ (from below and from\n",
    "above); it seems the graph of $g$ is *too steep* for convergence."
   ]
  },
  {
   "cell_type": "code",
   "execution_count": null,
   "metadata": {},
   "outputs": [],
   "source": [
    "#below\n",
    "approx=1.1999999; eps=10^(-15); Nmax=10\n",
    "seq = fixedpt(g, approx, eps, Nmax)[0]\n",
    "points = []\n",
    "for i in range(Nmax):\n",
    "    points.append((seq[i], seq[i+1]))\n",
    "    points.append((seq[i+1], seq[i+1]))\n",
    "\n",
    "h = 0.5*10^(-3)\n",
    "A = plot([g, x], (x, 1.2-h, 1.2+h), legend_label = 'automatic')\n",
    "B = list_plot(points, plotjoined = True, color = 'red')\n",
    "show(A+B, figsize = [7,5])"
   ]
  },
  {
   "cell_type": "code",
   "execution_count": null,
   "metadata": {},
   "outputs": [],
   "source": [
    "# from above\n",
    "approx=1.2000001; eps=10^(-15); Nmax=10\n",
    "seq = fixedpt(g, approx, eps, Nmax)[0]\n",
    "points = []\n",
    "for i in range(Nmax):\n",
    "    points.append((seq[i], seq[i+1]))\n",
    "    points.append((seq[i+1], seq[i+1]))\n",
    "\n",
    "h = 0.5*10^(-3)\n",
    "A = plot([g, x], (x, 1.2-h, 1.2+h), legend_label = 'automatic')\n",
    "B = list_plot(points, plotjoined = True, color = 'red')\n",
    "show(A+B, figsize = [7,5])"
   ]
  },
  {
   "cell_type": "markdown",
   "metadata": {},
   "source": [
    "Looking at $g'$ at both $1.2$ and $2$, we see"
   ]
  },
  {
   "cell_type": "code",
   "execution_count": null,
   "metadata": {},
   "outputs": [],
   "source": [
    "print \"g'(1.2) = \" + str(g.diff(x)(x=1.2))\n",
    "print \"g'(2.0) = \" + str(g.diff(x)(x=2))"
   ]
  },
  {
   "cell_type": "markdown",
   "metadata": {},
   "source": [
    "### prob 2 (b)\n",
    "\n",
    "Now consider the iteration scheme (to find the fixed point\n",
    "$\\alpha=3^{1/3}$)\n",
    "$$x_{n+1}=\\frac{2}{3}x_n+\\frac{1}{x_n^2}$$\n",
    "\n",
    "To determine if\n",
    "this iteration scheme produces a convergent sequence, we'll state a simple\n",
    "existence theorem.\n",
    "\n",
    "Let $g:[a,b] \\to [a,b]$ be a continuous function with $g$\n",
    "differentiable on $(a,b)$ and $|g'(x)|<1$ for all $x$ in $(a,b)$. Then the\n",
    "sequence $\\{p_n\\}$ generated by $p_n = g(p_{n-1})$ converges to the fixed point\n",
    "$p$ for any initial point $p_0 \\in (a,b)$.\n",
    "\n",
    "Looking at the following graph, it\n",
    "seems likely that the fixed point iterator will produce a convergent sequence.\n",
    "We'll construct a cobweb diagram before rigorously demonstrating the sequence\n",
    "converges."
   ]
  },
  {
   "cell_type": "code",
   "execution_count": null,
   "metadata": {},
   "outputs": [],
   "source": [
    "g = (2/3)*x + 1/(x^2)\n",
    "xmin = 1; xmax = 3\n",
    "a = plot(g, (x, xmin, xmax))\n",
    "b = plot(x, (x, xmin, xmax), color = 'green')\n",
    "show(a+b, figsize = [7,4])"
   ]
  },
  {
   "cell_type": "code",
   "execution_count": null,
   "metadata": {},
   "outputs": [],
   "source": [
    "# from above\n",
    "approx=1.5; eps=10^(-15); Nmax=10\n",
    "fixedpt(g, approx, eps, Nmax)"
   ]
  },
  {
   "cell_type": "code",
   "execution_count": null,
   "metadata": {},
   "outputs": [],
   "source": [
    "# cobweb from above\n",
    "seq = fixedpt(g, approx, eps, Nmax)[0]\n",
    "points = []\n",
    "for i in range(len(seq)-1):\n",
    "    points.append((seq[i], seq[i+1]))\n",
    "    points.append((seq[i+1], seq[i+1]))\n",
    "\n",
    "h = 0.07\n",
    "A = plot([g, x], (x, approx-h, approx), ymax = 1.45, ymin =1.44, legend_label = 'automatic')\n",
    "B = list_plot(points, plotjoined = True, color = 'red')\n",
    "show(A+B, figsize = [7,5])"
   ]
  },
  {
   "cell_type": "code",
   "execution_count": null,
   "metadata": {},
   "outputs": [],
   "source": [
    "# from below\n",
    "approx=1.3; eps=10^(-15); Nmax=10\n",
    "fixedpt(g, approx, eps, Nmax)"
   ]
  },
  {
   "cell_type": "code",
   "execution_count": null,
   "metadata": {},
   "outputs": [],
   "source": [
    "# cobweb from below\n",
    "seq = fixedpt(g, approx, eps, Nmax)[0]\n",
    "points = []\n",
    "for i in range(len(seq)-1):\n",
    "    points.append((seq[i], seq[i+1]))\n",
    "    points.append((seq[i+1], seq[i+1]))\n",
    "\n",
    "A = plot([g, x], xmin=1.3, xmax=1.5, ymin=1.4, ymax=1.5, legend_label = 'automatic')\n",
    "B = list_plot(points, plotjoined = True, color = 'red')\n",
    "show(A+B, figsize = [7,5])"
   ]
  },
  {
   "cell_type": "markdown",
   "metadata": {},
   "source": [
    "In this case $g^{\\prime}(\\alpha)=0$, so we'll try expanding $g(x)$ in a Taylor\n",
    "polynomial about $x=\\alpha$ to determine the order of convergence."
   ]
  },
  {
   "cell_type": "code",
   "execution_count": null,
   "metadata": {},
   "outputs": [],
   "source": [
    "show(g.taylor(x, 3^(1/3), 4))"
   ]
  },
  {
   "cell_type": "markdown",
   "metadata": {},
   "source": [
    "As the smallest non-zero power of $g$'s Taylor series representation is $2$, \n",
    "we\n",
    "ought to suspect the order of convergence is $2$. \n",
    "\n",
    "To numerically confirm this\n",
    "intuition, consider $$r \\approx \\frac{\\ln{E_n}}{\\ln{E_{n-1}}},$$ where $E_n =\n",
    "|x_n - \\alpha| \\approx |x_n - x_{n+1}|$."
   ]
  },
  {
   "cell_type": "code",
   "execution_count": null,
   "metadata": {},
   "outputs": [],
   "source": [
    "# we find r approximated at different steps n\n",
    "rate_approx = []\n",
    "for n in [1..len(seq)-2]:\n",
    "    rate_approx.append(log(abs(seq[n]-seq[n+1]))/log(abs(seq[n-1]-seq[n])))\n",
    "    \n",
    "rate_approx"
   ]
  },
  {
   "cell_type": "markdown",
   "metadata": {},
   "source": [
    "Aside: is the asymptotic error constant given by $C = g''(3^{1/3}) \\approx\n",
    "1.386$? No."
   ]
  },
  {
   "cell_type": "code",
   "execution_count": null,
   "metadata": {},
   "outputs": [],
   "source": [
    "N(g.diff(x,2)(x=3^(1/3)))"
   ]
  },
  {
   "cell_type": "markdown",
   "metadata": {},
   "source": [
    "Why not? Consider a set of starting points for the fixed point iteration scheme\n",
    "$$\\texttt{starts} = \\{1.1, 1.2, 1.3, 1.4, 1.5, 1.6\\}$$\n",
    "and look at the sequences\n",
    "of values generated."
   ]
  },
  {
   "cell_type": "code",
   "execution_count": null,
   "metadata": {},
   "outputs": [],
   "source": [
    "# halting parameters\n",
    "eps=10^(-20); Nmax=10\n",
    "\n",
    "# starting points\n",
    "starts = [1.1, 1.2, 1.3, 1.4, 1.5, 1.6]\n",
    "\n",
    "# sequences generated from starting points\n",
    "seqs = []\n",
    "for start in starts:\n",
    "    seqs.append(fixedpt(g, start, eps, Nmax)[0])"
   ]
  },
  {
   "cell_type": "markdown",
   "metadata": {},
   "source": [
    "Aside: is the order of this method $r = 2$?\n",
    "\n",
    "By definition, a sequence ${x_n}$\n",
    "converges to $\\alpha$ of *order* $r$ with asymptotic error constant $C$ iff\n",
    "$$\\lim_{n\\to\\infty} \\frac{|x_n - \\alpha|}{|x_{n-1} - \\alpha|^r} = C.$$\n",
    "\n",
    "We'll\n",
    "estimate $C$ by evaluating the ratio $|x_{n+1} - x_n|:|x_{n} - x_{n-1}|^r$ for\n",
    "all $n$ in $\\{0,1,2,3,4\\}$."
   ]
  },
  {
   "cell_type": "code",
   "execution_count": null,
   "metadata": {},
   "outputs": [],
   "source": [
    "r = 2\n",
    "\n",
    "for i in range(len(seqs)):\n",
    "    print(\"starting at \" + str(N(starts[i], digits = 2)))\n",
    "    for n in range(5):\n",
    "        print(\"E_\"+str(n+1)+\":(E_\"+str(n)+\")^\"+str(r)+\" ~ \"+str(abs(seqs[i][n+1]-seqs[i][n])/abs(seqs[i][n]-seqs[i][n-1])^r))\n",
    "    print(\"\")"
   ]
  },
  {
   "cell_type": "markdown",
   "metadata": {},
   "source": [
    "Do the above ratios converge? Well, the algorithm quits after a certain degree\n",
    "of precision, so we'll only consider the good middle values. \n",
    "\n",
    "TODO: Firm up\n",
    "definition of asymptotic error constant, by varying $r$ and while looking for\n",
    "convergent values $C$.\n",
    "\n",
    "Plotting $r$ against $\\sigma^2_C$ (the standard\n",
    "deviation of the `E_4:(E_3)^r`'s generated above), we find:"
   ]
  },
  {
   "cell_type": "code",
   "execution_count": null,
   "metadata": {},
   "outputs": [],
   "source": [
    "def std_C(r):\n",
    "    return std([abs(seqs[i][3+1]-seqs[i][3])/abs(seqs[i][3]-seqs[i][3-1])^r for i in range(len(starts))])\n",
    "\n",
    "var('r')\n",
    "plot(std_C(r), (r,0,2), plot_points=20, \n",
    "     marker='.', legend_label= '$\\\\sigma^2_C(r)$',\n",
    "     figsize = [8,4])"
   ]
  },
  {
   "cell_type": "markdown",
   "metadata": {},
   "source": [
    "Well, while varying $r$, we find that the approximate $C$ have *no deviation*\n",
    "about $r=2$. As we need our iterative scheme to converge upon an asymptotic\n",
    "error constant, I continue to suspect $r=2$. (Update: this can/will be\n",
    "theoretically shown.)\n",
    "\n",
    "TODO: find $r$ and $C$ rigorously.\n",
    "\n",
    "### prob 2 (c)\n",
    "Lastly, consider (to find the fixed point $\\alpha=3$)\n",
    "$$x_{n+1}=\\frac{12}{1+x_n}, $$"
   ]
  },
  {
   "cell_type": "code",
   "execution_count": null,
   "metadata": {},
   "outputs": [],
   "source": [
    "g = 12/(1+x)\n",
    "xmin = 2; xmax = 4\n",
    "plot([g,x], (x, xmin, xmax), legend_label = 'automatic', figsize=[7,4])"
   ]
  },
  {
   "cell_type": "code",
   "execution_count": null,
   "metadata": {},
   "outputs": [],
   "source": [
    "# notice the derivative at x = 3 is small enough, and this is likely the asymptotic error constant\n",
    "abs(g.diff(x,1)(x=3))"
   ]
  },
  {
   "cell_type": "code",
   "execution_count": null,
   "metadata": {},
   "outputs": [],
   "source": [
    "# cobweb diagram from starting point 2.9\n",
    "approx=2.9; eps=10^(-15); Nmax=20\n",
    "seq = fixedpt(g, approx, eps, Nmax)[0]\n",
    "points = []\n",
    "for i in range(len(seq)-1):\n",
    "    points.append((seq[i], seq[i+1]))\n",
    "    points.append((seq[i+1], seq[i+1]))\n",
    "\n",
    "# draw the figure\n",
    "h = 0.1\n",
    "A = plot([g, x], xmin=3-h, xmax=3+h, ymin=3-h, ymax=3+h, legend_label = 'automatic')\n",
    "B = list_plot(points, plotjoined = True, color = 'red')\n",
    "show(A+B, figsize = [7,5])"
   ]
  },
  {
   "cell_type": "code",
   "execution_count": null,
   "metadata": {},
   "outputs": [],
   "source": [
    "# halting parameters\n",
    "eps=10^(-20); Nmax=20\n",
    "\n",
    "# starting points\n",
    "starts = [2.9, 2.95, 2.99, 3.01, 3.05, 3.1]\n",
    "\n",
    "# sequences generated from starting points\n",
    "seqs = []\n",
    "for start in starts:\n",
    "    seqs.append(fixedpt(g, start, eps, Nmax)[0])"
   ]
  },
  {
   "cell_type": "markdown",
   "metadata": {},
   "source": [
    "Again, I'm not sure how to determine the order of convergence $r$.\n",
    "Theoretically, I'm led to believe that $r = 1$ and\n",
    "the asymptotic error constant\n",
    "$C$ is bounded by \n",
    "\n",
    "$$ C \\leq \\max_{\\substack{x \\in [2.8,3.2]}}|g'(x)| $$\n",
    "\n",
    "We\n",
    "can verify this hunch by comparing the numerically determined asymptotic\n",
    "constants to the maximum slope on the interval $[2.8,3.2]$."
   ]
  },
  {
   "cell_type": "code",
   "execution_count": null,
   "metadata": {},
   "outputs": [],
   "source": [
    "# numerically determined C from differnt starting points\n",
    "r = 1\n",
    "[abs(seqs[i][10+1]-seqs[i][10])/abs(seqs[i][10]-seqs[i][10-1])^r for i in range(len(starts))]"
   ]
  },
  {
   "cell_type": "code",
   "execution_count": null,
   "metadata": {},
   "outputs": [],
   "source": [
    "# max slope on [2.8,3.2]\n",
    "max([abs(g.diff(x,1)(x=start)) for start in starts])"
   ]
  },
  {
   "cell_type": "markdown",
   "metadata": {},
   "source": [
    "### prob 3\n",
    "\n",
    "Let $\\alpha$ be a fixed point of $g(x)$. \n",
    "Consider the fixed-point\n",
    "iteration $x_{n+1}\n",
    "=g(x_n)$ and suppose that $\\max_x\\left|g'(x)\\right|=k<1$. \n",
    "\n",
    "I\n",
    "claim $\\left|\\alpha-x_{n+1}\\right|\\le \\frac{k}{1-k}\\left|x_{n+1}-x_n\\right|.$\n",
    "*Proof*. \n",
    "\n",
    "We desire\n",
    "$(1-k)\\left|\\alpha-x_{n+1}\\right|\\le\n",
    "k\\left|x_{n+1}-x_n\\right|.$\n",
    "\n",
    "Suppose $g\\colon[\\alpha, x_n]\\to[\\alpha,x_n]$ is a\n",
    "continuous function, differentiable on $(\\alpha, x_n)$. Then the [mean value\n",
    "theorem](https://calculus.subwiki.org/wiki/Lagrange_mean_value_theorem) implies\n",
    "there's a $\\xi$ in $(\\alpha,x_n)$ such that \n",
    "$\\frac{g(\\alpha) - g(x_n)}{\\alpha\n",
    "-x_n} = g'(\\xi).$\n",
    "\n",
    "Moving the denominator, taking absolute values, \n",
    "and noting\n",
    "$k = \\max_x\\left|g'(x)\\right|$, we find\n",
    "$\\left|g(\\alpha) - g(x_n)\\right| \\le\n",
    "k\\left|\\alpha -x_n\\right|.$\n",
    "\n",
    "We assume $\\alpha = g(\\alpha)$, and by definition\n",
    "$x_{n+1} = g(x_n)$. It follows that \n",
    "$$\\left|\\alpha - x_{n+1}\\right| \\le\n",
    "k\\left|\\alpha -x_n\\right|.$$\n",
    "\n",
    "Now consider that $\\alpha - x_n = \\alpha - x_{n+1}\n",
    "+ x_{n+1} - x_n.$\n",
    "\n",
    "Applying the triangle inequality, we find \n",
    "$\\left|\\alpha -\n",
    "x_n\\right| \\leq  \\left|\\alpha - x_{n+1}\\right| + \\left|x_{n+1} - x_n\\right|.$\n",
    "With a bound for $\\left|\\alpha - x_n\\right|$, we obtain\n",
    "$$\\left|\\alpha -\n",
    "x_{n+1}\\right| \\leq  k\\left|\\alpha - x_{n+1}\\right| + k\\left|x_{n+1} -\n",
    "x_n\\right|.$$\n",
    "\n",
    "from which the desired inequality results:\n",
    "$(1-k)\\left|\\alpha -\n",
    "x_{n+1}\\right| \\leq  k\\left|\\alpha - x_{n+1}\\right|.$"
   ]
  }
 ],
 "metadata": {},
 "nbformat": 4,
 "nbformat_minor": 2
}
