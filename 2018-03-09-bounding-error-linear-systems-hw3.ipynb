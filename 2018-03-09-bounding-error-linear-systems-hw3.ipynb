{
 "cells": [
  {
   "cell_type": "markdown",
   "metadata": {},
   "source": [
    "### Prob 5(a)"
   ]
  },
  {
   "cell_type": "code",
   "execution_count": null,
   "metadata": {},
   "outputs": [],
   "source": [
    "A = matrix(QQ, [[2,-3,1],[-4,1,2],[5,0,1]])\n",
    "A.norm(Infinity)"
   ]
  },
  {
   "cell_type": "code",
   "execution_count": null,
   "metadata": {},
   "outputs": [],
   "source": [
    "for x in [-5..5]:\n",
    "    for y in [-5..5]:\n",
    "        for z in [-5.. 5]:\n",
    "            v = vector(QQ, [x,y,z])\n",
    "            if 7*v.norm(Infinity) ==  (A*v).norm(Infinity):\n",
    "                print [x,y,z] "
   ]
  },
  {
   "cell_type": "markdown",
   "metadata": {},
   "source": [
    "### Prob 6"
   ]
  },
  {
   "cell_type": "code",
   "execution_count": null,
   "metadata": {},
   "outputs": [],
   "source": [
    "A = matrix(QQ, [[1.2969, 0.8648],[0.2161, 0.1441]])\n",
    "b = vector(QQ, [0.8642, 0.1440])\n",
    "x = vector(QQ, [2,-2])\n",
    "\n",
    "A*x == b"
   ]
  },
  {
   "cell_type": "code",
   "execution_count": null,
   "metadata": {},
   "outputs": [],
   "source": [
    "x1 = vector(QQ, [0,1])\n",
    "x2 = vector(QQ, [0.9911,-0.4870])\n",
    "\n",
    "print b - A*x1\n",
    "print x - x1\n",
    "print b - A*x2\n",
    "print x - x2"
   ]
  },
  {
   "cell_type": "code",
   "execution_count": null,
   "metadata": {},
   "outputs": [],
   "source": [
    "print A.norm(Infinity)\n",
    "print ((A^(-1)).norm(Infinity))\n",
    "print A.norm(Infinity)*((A^(-1)).norm(Infinity))"
   ]
  },
  {
   "cell_type": "markdown",
   "metadata": {},
   "source": [
    "It should be true that\n",
    "$$\\frac1{\\kappa(A)}\\frac{||\\vec{r}||}{||\\vec{b}||}\n",
    "\\leq \\frac{||\\vec{e}||}{||\\vec{x}||}\n",
    "\\leq \\kappa(A)\\frac{||\\vec{r}||}{||\\vec{b}||}$$"
   ]
  },
  {
   "cell_type": "code",
   "execution_count": null,
   "metadata": {},
   "outputs": [],
   "source": [
    "cond = A.norm(Infinity)*((A^(-1)).norm(Infinity))\n",
    "\n",
    "r1 = b - A*x1\n",
    "e1 = x - x1\n",
    "r2 = b - A*x2\n",
    "e2 = x - x2\n",
    "\n",
    "print n((1/cond)*(r1.norm(Infinity)/b.norm(Infinity)))\n",
    "print n((e1.norm(Infinity)/x.norm(Infinity)))\n",
    "print n(cond*(r1.norm(Infinity)/b.norm(Infinity)))\n",
    "print\n",
    "print n((2/cond)*(r2.norm(Infinity)/b.norm(Infinity)))\n",
    "print n((e2.norm(Infinity)/x.norm(Infinity)))\n",
    "print n(cond*(r2.norm(Infinity)/b.norm(Infinity)))"
   ]
  },
  {
   "cell_type": "markdown",
   "metadata": {},
   "source": [
    "works cited\n",
    "- https://www.student.cs.uwaterloo.ca/~cs370/notes/LUExample2.pdf\n",
    "- http://www4.ncsu.edu/~kksivara/ma505/handouts/lu-pivot.pdf"
   ]
  },
  {
   "cell_type": "code",
   "execution_count": null,
   "metadata": {},
   "outputs": [],
   "source": []
  }
 ],
 "metadata": {
  "kernelspec": {
   "display_name": "SageMath 8.0",
   "language": "",
   "name": "sagemath"
  },
  "language_info": {
   "codemirror_mode": {
    "name": "ipython",
    "version": 2
   },
   "file_extension": ".py",
   "mimetype": "text/x-python",
   "name": "python",
   "nbconvert_exporter": "python",
   "pygments_lexer": "ipython2",
   "version": "2.7.13"
  }
 },
 "nbformat": 4,
 "nbformat_minor": 2
}
