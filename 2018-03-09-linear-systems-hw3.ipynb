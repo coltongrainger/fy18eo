{
 "cells": [
  {
   "cell_type": "raw",
   "metadata": {},
   "source": [
    "\\pagenumbering{gobble}\n",
    "\\title{Numerical Methods: HW 3}\n",
    "\\date{\\today}\n",
    "\\author{Colton Grainger}\n",
    "\\maketitle"
   ]
  },
  {
   "cell_type": "markdown",
   "metadata": {},
   "source": [
    "### Prob 1\n",
    "\n",
    "We show that the $l_{1}$ vector norm satisfies three properties:\n",
    "\n",
    "- $||x||_1\\geq 0$ for $x \\in \\mathbf{R}^n$ and  $||x||_1= 0$ if and only if $x=0$\n",
    "- $|| \\lambda x||_1 = | \\lambda | \\; ||x||_1$ for $\\lambda \\in \\mathbf{R}$ and\n",
    "   $x \\in \\mathbf{R}^n$\n",
    "- $|| x + y||_1 \\leq ||x||_1+||y||_1$ for  $x,y \\in \\mathbf{R}^n$\n",
    "\n",
    "*Proof*. \n",
    "\n",
    "For any $x \\in \\mathbf{R}^n$, we have \n",
    " $$||x||_1 = \\sum_i |x_i| \\geq |\\sum_i x_i | \\geq 0$$\n",
    " by the triangle inequality. \n",
    "\n",
    "Further, \n",
    " \\begin{align*}\n",
    "  ||x||_1 = 0 &\\iff \\sum_i |x_i| = 0\\\\\n",
    "    &\\iff x_i = 0 \\text{ for all } i\\\\\n",
    "    &\\iff x = 0.\n",
    "\\end{align*}\n",
    "\n",
    "Next, for any $\\lambda \\in \\mathbf{R}$, \n",
    " \\begin{align*}\n",
    "  ||\\lambda x||_1 &= \\sum_i |\\lambda x_i|\\\\\n",
    "    &= \\sum_i |\\lambda| |x_i|\\\\\n",
    "    &= |\\lambda| \\sum_i |x_i|\\\\\n",
    "    &= |\\lambda| ||x||_1.\n",
    "\\end{align*}\n",
    "\n",
    "Lastly, for any $y \\in \\mathbf{R}^n$, we have \n",
    " $$||x+y||_1 = \\sum_i |x_i + y+i| \\leq \\sum_i (|x_i| + |y_i|) = \\sum_i |x_i| + \\sum_i |y_i| = ||x||_1 + ||y||_1$$\n",
    " since for all $i$, $|x_i + y_i| \\leq |x_i + y_i|$. \n",
    " \n",
    "QED."
   ]
  },
  {
   "cell_type": "markdown",
   "metadata": {},
   "source": [
    "### Prob 2\n",
    "\n",
    "We'll show that an LU-decomposition does not exist for the given matrix $A = \\begin{pmatrix} 0 & 1\\\\ 1 & 1 \\end{pmatrix}.$\n",
    "\n",
    "For contradiction, suppose there exist $L, U \\in \\mathcal{M}_2(\\mathbf{R})$ where $L$ is lower triangular, $U$ is upper triangular, and $$LU = \\begin{pmatrix} 0 & 1\\\\ 1 & 1 \\end{pmatrix}.$$\n",
    "\n",
    "Then we have\n",
    "$$\\begin{pmatrix}\n",
    "  l_{11} & 0\\\\ l_{21} & l_{22}\n",
    "  \\end{pmatrix}\n",
    "  \\begin{pmatrix}\n",
    "  u_{11} & u_{12}\\\\ 0 & u_{22}\n",
    "  \\end{pmatrix}\n",
    "  = \n",
    "  \\begin{pmatrix}\n",
    "  0 & 1\\\\ 1 & 1\n",
    "  \\end{pmatrix}.$$\n",
    "  \n",
    "But this statement represents an inconsistent system, \n",
    "\\begin{align}\n",
    "  l_{11}u_{11} &= 0\\\\\n",
    "  l_{21}u_{11} &= 1\\\\\n",
    "  l_{21}u_{12} &= 1\\\\\n",
    "\\end{align}\n",
    "as $l_{11}u_{11} = 0 \\iff (l_{11} = 0 \\text{ or } u_{11} = 0)$ is inconsistent with $l_{21}u_{11} = 1 \\text{ and } l_{21}u_{12} = 1$.\n",
    "\n",
    "So the LU-decomposition of $A$ does not exist. \n",
    "\n",
    "However, since $\\det A = -1 \\neq 0$, there's a unique solution $x$ to the system $Ax = b$.\n",
    "\n",
    "We can find an LU-decomposition of the permuted matrix $PA$ where \n",
    "$$P = \\begin{pmatrix} 0 &1 \\\\ 1 & 0\\end{pmatrix}.$$\n",
    "\n",
    "We obtain the unique solution $x$ to the system $Ax = b \\iff PAx = Pb \\iff LUx = Pb$:\n",
    " \n",
    "- First produce $y$ such that $Ly = Pb$ by forward substitution,\n",
    "- then find $x$ such that $Ux = y$ by back substitution.\n",
    "\n",
    "I claim $x$ is the unique solution to $Ax = b$, since \n",
    "\\begin{align}\n",
    "  x = U^{-1}L^{-1}Pb &\\iff Ax = AU^{-1}L^{-1}Pb\\\\\n",
    "    &\\iff Ax = (P^{-1}LU)U^{-1}L^{-1}Pb\\\\\n",
    "    &\\iff Ax = b.\n",
    "\\end{align}"
   ]
  },
  {
   "cell_type": "markdown",
   "metadata": {},
   "source": [
    "### Prob 3\n",
    "\n",
    "To find the PLU-decomposition of the matrix \n",
    "$$A = \n",
    "  \\begin{pmatrix}\n",
    "    -5  &   2  &   -1   \\\\\n",
    "    1  &   0  &   3   \\\\\n",
    "    3  &   1  &   6\n",
    "  \\end{pmatrix}$$\n",
    "we'll use Bradie's abbreviated notation, tracking the pivot operations $P_i$ in $\\vec{r}$ and row reduction multipliers $m_{ij}$ (negated and braced with parentheses) in situ of zero'd out elements.\n",
    "\n",
    "Pass 1 uses the pivot element $a_{11} = -5$.\n",
    "$$\\begin{pmatrix}\n",
    "    -5  &   2  &   -1   \\\\\n",
    "    (-1/5) &  2/5  &   14/5\\\\\n",
    "    (-3/5)  &   11/5 &   27/5\n",
    "  \\end{pmatrix}\n",
    "  \\quad\n",
    "  \\vec{r} = \\begin{pmatrix}1\\\\2\\\\3\\end{pmatrix}.$$\n",
    "\n",
    "Pass 2 uses the pivot element $a_{32} = 11/5$.\n",
    "$$\\begin{pmatrix}\n",
    "    -5  &   2  &   -1   \\\\\n",
    "    (-1/5) &  (2/11) &  20/11\\\\\n",
    "    (-3/5)  &   11/5 &   27/5\n",
    "  \\end{pmatrix}\n",
    "  \\quad\n",
    "  \\vec{r} = \\begin{pmatrix}1\\\\3\\\\2\\end{pmatrix}.$$\n",
    "\n",
    "It follows that $PA = LU$, with \n",
    "$$L =\n",
    "  \\begin{pmatrix}\n",
    "  1 & 0 & 0\\\\\n",
    "  -3/5 & 1 & 0\\\\\n",
    "  -1/5 & 2/11 & 1\n",
    "  \\end{pmatrix},\n",
    "  \\quad\n",
    "  U = \n",
    "  \\begin{pmatrix}\n",
    "  -5 & 2 & 1\\\\\n",
    "  0 & 11/5 & 27/5\\\\\n",
    "  0 & 0 & 20/11\n",
    "  \\end{pmatrix},\n",
    "  \\quad\\text{and}\\quad\n",
    "  P = \n",
    "  \\begin{pmatrix}\n",
    "  1 & 0 &0\\\\\n",
    "  0 &0&1\\\\\n",
    "  0&1&0\n",
    "  \\end{pmatrix}.$$\n",
    "  "
   ]
  },
  {
   "cell_type": "code",
   "execution_count": null,
   "metadata": {
    "collapsed": true
   },
   "outputs": [],
   "source": [
    "A = matrix(QQ, [[-5,2,-1],[1,0,3],[3,1,6]])"
   ]
  },
  {
   "cell_type": "code",
   "execution_count": null,
   "metadata": {
    "collapsed": true
   },
   "outputs": [],
   "source": [
    "#pass 1\n",
    "E1 = matrix(QQ, [[1,0,0],[1/5,1,0],[3/5,0,1]])\n",
    "E1*A"
   ]
  },
  {
   "cell_type": "code",
   "execution_count": null,
   "metadata": {
    "collapsed": true
   },
   "outputs": [],
   "source": [
    "#pass 2\n",
    "P2 = matrix(QQ, [[1,0,0],[0,0,1],[0,1,0]])\n",
    "E2 = matrix(QQ, [[1,0,0],[0,1,0],[0,-2/11,1]])\n",
    "U = E2*P2*E1*A\n",
    "U"
   ]
  },
  {
   "cell_type": "code",
   "execution_count": null,
   "metadata": {
    "collapsed": true
   },
   "outputs": [],
   "source": [
    "#verifying the decomposition\n",
    "L = matrix(QQ, [[1,0,0],[-3/5,1,0],[-1/5,2/11,1]])\n",
    "P2*A == L*U"
   ]
  },
  {
   "cell_type": "markdown",
   "metadata": {},
   "source": [
    "Now suppose that $A\\vec{x} = \\vec{b}$ with $\\vec{b} = (2,-2,1)^T$. "
   ]
  },
  {
   "cell_type": "code",
   "execution_count": null,
   "metadata": {
    "collapsed": true
   },
   "outputs": [],
   "source": [
    "b = vector(QQ,[2,-2,1])"
   ]
  },
  {
   "cell_type": "markdown",
   "metadata": {},
   "source": [
    "To find $\\vec{x}$ given the PLU-decomposition of $A$."
   ]
  },
  {
   "cell_type": "code",
   "execution_count": null,
   "metadata": {
    "collapsed": true
   },
   "outputs": [],
   "source": [
    "def forwardsub(L,b):\n",
    "    x = []\n",
    "    for i in range(len(b)):\n",
    "        offset = sum(L[i][j]*x[j] for j in range(i))\n",
    "        elem = (b[i] - offset)/L[i][i]\n",
    "        x.append(elem)\n",
    "    return x\n",
    "\n",
    "y = forwardsub(L,P2*b)\n",
    "y"
   ]
  },
  {
   "cell_type": "code",
   "execution_count": null,
   "metadata": {
    "collapsed": true
   },
   "outputs": [],
   "source": [
    "def backsub(U,b):\n",
    "    x = []\n",
    "    for i in range(len(b)):\n",
    "        offset = sum(U[-(i+1)][-(j+1)]*x[-(j+1)] for j in range(i))\n",
    "        elem = (b[-(i+1)] - offset)/U[-(i+1)][-(i+1)]\n",
    "        x.insert(0, elem)\n",
    "    return x\n",
    "\n",
    "x = backsub(U, y)\n",
    "x"
   ]
  },
  {
   "cell_type": "code",
   "execution_count": null,
   "metadata": {
    "collapsed": true
   },
   "outputs": [],
   "source": [
    "x = vector(x)\n",
    "A*x == b"
   ]
  },
  {
   "cell_type": "markdown",
   "metadata": {},
   "source": [
    "It is inexpensive to solve linear systems once the PLU-decomposition of the RHS matrix $A$ is obtained. For example, we vary $\\vec{b}$ to $(0,1,5)^T$. "
   ]
  },
  {
   "cell_type": "code",
   "execution_count": null,
   "metadata": {
    "collapsed": true
   },
   "outputs": [],
   "source": [
    "b = vector(QQ,[0,1,5])\n",
    "# then following the same process as above\n",
    "y = forwardsub(L,P2*b)\n",
    "x = backsub(U,y)\n",
    "x"
   ]
  },
  {
   "cell_type": "markdown",
   "metadata": {},
   "source": [
    "### Prob 4\n",
    "\n",
    "We write a program to find the $LU$ decomposition of a given $n \\times n$ matrix $A$ using *partial pivoting*. \n",
    "\n",
    "The program returns the updated matrix $A$ and the pivot vector $p$. "
   ]
  },
  {
   "cell_type": "code",
   "execution_count": null,
   "metadata": {
    "collapsed": true
   },
   "outputs": [],
   "source": [
    "import copy\n",
    "\n",
    "def PLU_decomp(A):\n",
    "    # I don't actually want to modify A, so here's a copy\n",
    "    B = copy.deepcopy(A)\n",
    "    p = []\n",
    "    n = len(B)\n",
    "    for j in range(n):\n",
    "        # to find and store the pivot element B[p[j]][j] \n",
    "        # which is largest in magnitude in column j\n",
    "        # https://stackoverflow.com/a/6194580/8475967\n",
    "        elements = [abs(B[i][j]) for i in set(range(n))-set(p)]\n",
    "        pivot_magn = max(elements)\n",
    "        p.append(elements.index(pivot_magn))\n",
    "        # to reduce\n",
    "        for i in set(range(n))-set(p):\n",
    "            # store the multiplier in its zero'd out position\n",
    "            B[i][j] = B[i][j]/B[p[j]][j]\n",
    "            for k in range(j+1,n):\n",
    "                # then subtract row the remaining \n",
    "                B[i][k] = B[i][k] - B[i][j]*B[p[j]][k]\n",
    "    return p,B"
   ]
  },
  {
   "cell_type": "code",
   "execution_count": null,
   "metadata": {
    "collapsed": true
   },
   "outputs": [],
   "source": [
    "A = [[2,2,-3],[3,2,-1],[6,8,1]]\n",
    "PLU_decomp(A)"
   ]
  },
  {
   "cell_type": "code",
   "execution_count": null,
   "metadata": {
    "collapsed": true
   },
   "outputs": [],
   "source": [
    "A"
   ]
  },
  {
   "cell_type": "markdown",
   "metadata": {},
   "source": [
    "`PLU_decomp` returns the tuple $(\\vec{p}, A)$, but this tuple is just short-hand, convienent for storing $L$ and $U$ *in situ*. \n",
    "\n",
    "To test if the $LU$ decomposition satisfies $PA=LU$, we'll write the function `PLU_unpack` to generate \n",
    "\n",
    "- the permutation matrix $P$ from $\\vec{p}$, \n",
    "- the unit lower triangular matrix $L$ from $A$, and \n",
    "- the upper triangular matrix $U$ from $A$."
   ]
  },
  {
   "cell_type": "code",
   "execution_count": null,
   "metadata": {
    "collapsed": true
   },
   "outputs": [],
   "source": [
    "def PLU_unpack(p,A):\n",
    "    n = len(A)\n",
    "    #obtain P\n",
    "    P = []\n",
    "    for i in range(n):\n",
    "        P.append([0]*p[i] + [1] + [0]*(n-p[i]-1))\n",
    "    PA = matrix(QQ, P)*matrix(QQ, A)\n",
    "    #obtain L from an identity matrix\n",
    "    L = [[0]*i + [1] + [0]*(n-i-1) for i in range(n)]\n",
    "    for j in range(n-1):\n",
    "        for i in range(n-1,j,-1):\n",
    "            L[i][j] = PA[i][j]\n",
    "    #obtain U from a zero matrix\n",
    "    U = [[0]*n for _ in range(n)]\n",
    "    for i in range(n):\n",
    "        for j in range(n-1, i-1, -1):\n",
    "            U[i][j] = PA[i][j]\n",
    "    #wrap lists as matrices \n",
    "    return P,L,U"
   ]
  },
  {
   "cell_type": "code",
   "execution_count": null,
   "metadata": {
    "collapsed": true
   },
   "outputs": [],
   "source": [
    "#for intelligibility\n",
    "def mylu(A):\n",
    "    return PLU_unpack(*PLU_decomp(A))\n",
    "\n",
    "A = [[2,2,-3],[3,2,-1],[6,8,1]]\n",
    "mylu(A)"
   ]
  },
  {
   "cell_type": "code",
   "execution_count": null,
   "metadata": {
    "collapsed": true
   },
   "outputs": [],
   "source": [
    "P,L,U = mylu(A)\n",
    "matrix(P)*matrix(A) == matrix(L)*matrix(U)"
   ]
  },
  {
   "cell_type": "code",
   "execution_count": null,
   "metadata": {
    "collapsed": true
   },
   "outputs": [],
   "source": [
    "#we check our work against SAGE's LU decomp method\n",
    "matrix(A).LU()"
   ]
  },
  {
   "cell_type": "markdown",
   "metadata": {},
   "source": [
    "### Prob 5(a)\n"
   ]
  },
  {
   "cell_type": "code",
   "execution_count": null,
   "metadata": {
    "collapsed": true
   },
   "outputs": [],
   "source": [
    "A = matrix(QQ, [[2,-3,1],[-4,1,2],[5,0,1]])\n",
    "A.norm(Infinity)"
   ]
  },
  {
   "cell_type": "code",
   "execution_count": null,
   "metadata": {
    "collapsed": true
   },
   "outputs": [],
   "source": [
    "for x in [-5..5]:\n",
    "    for y in [-5..5]:\n",
    "        for z in [-5.. 5]:\n",
    "            v = vector(QQ, [x,y,z])\n",
    "            if 7*v.norm(Infinity) ==  (A*v).norm(Infinity):\n",
    "                print [x,y,z] "
   ]
  },
  {
   "cell_type": "markdown",
   "metadata": {},
   "source": [
    "### Prob 5(b)\n",
    "Consider the matrix $A = \\begin{pmatrix} 0 & 1 \\\\ 0 & 0 \\end{pmatrix}$. Then $||A||_\\infty = 1$ and $\\rho(A) = 0$."
   ]
  },
  {
   "cell_type": "code",
   "execution_count": null,
   "metadata": {
    "collapsed": true
   },
   "outputs": [],
   "source": [
    "A = matrix([[0,1],[0,0]])\n",
    "A.eigenvalues()"
   ]
  },
  {
   "cell_type": "markdown",
   "metadata": {},
   "source": [
    "### Prob 6"
   ]
  },
  {
   "cell_type": "code",
   "execution_count": null,
   "metadata": {
    "collapsed": true
   },
   "outputs": [],
   "source": [
    "A = matrix(QQ, [[1.2969, 0.8648],[0.2161, 0.1441]])\n",
    "b = vector(QQ, [0.8642, 0.1440])\n",
    "x = vector(QQ, [2,-2])\n",
    "\n",
    "A*x == b"
   ]
  },
  {
   "cell_type": "code",
   "execution_count": null,
   "metadata": {
    "collapsed": true
   },
   "outputs": [],
   "source": [
    "x1 = vector(QQ, [0,1])\n",
    "x2 = vector(QQ, [0.9911,-0.4870])\n",
    "\n",
    "print b - A*x1\n",
    "print x - x1\n",
    "print b - A*x2\n",
    "print x - x2"
   ]
  },
  {
   "cell_type": "code",
   "execution_count": null,
   "metadata": {
    "collapsed": true
   },
   "outputs": [],
   "source": [
    "print A.norm(Infinity)\n",
    "print ((A^(-1)).norm(Infinity))\n",
    "print A.norm(Infinity)*((A^(-1)).norm(Infinity))"
   ]
  },
  {
   "cell_type": "markdown",
   "metadata": {},
   "source": [
    "It should be true that\n",
    "$$\\frac1{\\kappa(A)}\\frac{||\\vec{r}||}{||\\vec{b}||}\n",
    "\\leq \\frac{||\\vec{e}||}{||\\vec{x}||}\n",
    "\\leq \\kappa(A)\\frac{||\\vec{r}||}{||\\vec{b}||}$$"
   ]
  },
  {
   "cell_type": "code",
   "execution_count": null,
   "metadata": {
    "collapsed": true
   },
   "outputs": [],
   "source": [
    "cond = A.norm(Infinity)*((A^(-1)).norm(Infinity))\n",
    "\n",
    "r1 = b - A*x1\n",
    "e1 = x - x1\n",
    "r2 = b - A*x2\n",
    "e2 = x - x2\n",
    "\n",
    "print n((1/cond)*(r1.norm(Infinity)/b.norm(Infinity)))\n",
    "print n((e1.norm(Infinity)/x.norm(Infinity)))\n",
    "print n(cond*(r1.norm(Infinity)/b.norm(Infinity)))\n",
    "print\n",
    "print n((2/cond)*(r2.norm(Infinity)/b.norm(Infinity)))\n",
    "print n((e2.norm(Infinity)/x.norm(Infinity)))\n",
    "print n(cond*(r2.norm(Infinity)/b.norm(Infinity)))"
   ]
  },
  {
   "cell_type": "markdown",
   "metadata": {},
   "source": [
    "### Prob 7(a)\n",
    "\n",
    "Having defined `mylu`, `forwardsub`, and `backsub`, we'll write a function which accepts \n",
    "\n",
    "- a nonsingular matrix $A$ (for our code, a square list of lists) \n",
    "- a finite list of vectors $\\vec{b}_i$ (also a list of lists)\n",
    "\n",
    "and returns the corresponding list of vectors $\\vec{x}_i$ such that $A\\vec{x}_i = \\vec{b}_i$."
   ]
  },
  {
   "cell_type": "code",
   "execution_count": null,
   "metadata": {
    "collapsed": true
   },
   "outputs": [],
   "source": [
    "def lusolve(A,b_s):\n",
    "    x_s = []\n",
    "    P, L, U = mylu(A)\n",
    "    for b in b_s:\n",
    "        y = forwardsub(L,matrix(P)*vector(b))\n",
    "        x_s.append(backsub(U,y))\n",
    "    return x_s"
   ]
  },
  {
   "cell_type": "code",
   "execution_count": null,
   "metadata": {
    "collapsed": true
   },
   "outputs": [],
   "source": [
    "# a quick example\n",
    "A = [[2,2,-3],[3,2,-1],[6,8,1]]\n",
    "b_s = [[1,1,1]]\n",
    "x_s = lusolve(A,b_s)\n",
    "x_s[0]"
   ]
  },
  {
   "cell_type": "code",
   "execution_count": null,
   "metadata": {
    "collapsed": true
   },
   "outputs": [],
   "source": [
    "# we verify that A*x == b, typing the lists appropriately\n",
    "matrix(A)*vector(x_s[0]) == vector(b_s[0])"
   ]
  },
  {
   "cell_type": "code",
   "execution_count": null,
   "metadata": {
    "collapsed": true
   },
   "outputs": [],
   "source": [
    "# scaling up\n",
    "b_s = []\n",
    "for x in [-5..5]:\n",
    "    for y in [-5..5]:\n",
    "        for z in [-5.. 5]:\n",
    "            b_s.append([x,y,z])\n",
    "x_s = lusolve(A,b_s)\n",
    "\n",
    "# and verifying the solutions\n",
    "all([matrix(A)*vector(x_s[i]) == vector(b_s[i])\\\n",
    "     for i in range(len(b_s))]) "
   ]
  },
  {
   "cell_type": "markdown",
   "metadata": {},
   "source": [
    "### Prob 7(b)\n",
    "\n",
    "The famous Hilbert matrices are given\n",
    "by $H_{ij}=1/(i+j-1)$. \n",
    "\n",
    "Assume the true solution of\n",
    "$H_nx=b$ for a given $n$ is $x={[1, \\ldots ,1]}^T$.\n",
    "Hence the righthand side $b$ is simply the row sums of $H_n$,\n",
    "and  $b$ is easily computed.\n",
    "\n",
    "Use your codes `mylu` and `lusolve` to\n",
    "solve the system $H_n x=b$ for $n=5, 10, 15, 20$.  \n",
    "\n",
    "For each $n$,\n",
    "using the $\\infty-\\mbox{norm}$, compute the relative error and\n",
    "the relative residual.  \n",
    "\n",
    "Discuss what is happening here. \n",
    "\n",
    "<div id='cul_citation_14556993' class='cul_citation'>\n",
    "\t<span class='cul_citation_text'>M.-D. Choi, \"Tricks or treats with the hilbert matrix,\" <em>The American\n",
    "  Mathematical Monthly</em>, vol.&nbsp;90, no.&nbsp;5, pp. 301-312, May 1983. [Online].\n",
    "  Available: https://www.jstor.org/stable/i349442\n",
    "\n",
    "\n",
    "<div class=\"p\"><!----></div>\n",
    "</span>\n",
    "</div>"
   ]
  },
  {
   "cell_type": "markdown",
   "metadata": {},
   "source": [
    "### Prob 8\n",
    "\n",
    "Recall that an $n \\times n$  matrix $A$ is said to be\n",
    "strictly diagonally dominant if\n",
    "$$\\sum_{j = 1, \\; j \\neq i}^n \\left| a_{ij} \\right| < \\left| a_{ii}\n",
    "\\right| \\qquad \\mbox{for} \\ i=1,\\ldots,n \\,.$$\n",
    "Note that the strict inequality implies that each diagonal entry\n",
    "$a_{ii}$ is non-zero. Suppose that $A$ is strictly diagonally\n",
    "dominant.\n",
    "\n",
    "- Show that the Jacobi iteration matrix satisfies $||B_J\n",
    "||_\\infty < 1$ and, therefore, Jacobi iteration converges in this\n",
    "case.\n",
    "\n",
    "- For a $2\\times 2$ matrix $A$, show that the Gauss-Seidel\n",
    "iteration matrix also satisfies $||B_{GS} ||_\\infty < 1$ and,\n",
    "hence, Gauss-Seidel iteration converges as well."
   ]
  }
 ],
 "metadata": {
  "kernelspec": {
   "display_name": "SageMath 8.0",
   "language": "",
   "name": "sagemath"
  },
  "language_info": {
   "codemirror_mode": {
    "name": "ipython",
    "version": 2
   },
   "file_extension": ".py",
   "mimetype": "text/x-python",
   "name": "python",
   "nbconvert_exporter": "python",
   "pygments_lexer": "ipython2",
   "version": "2.7.13"
  },
  "latex_envs": {
   "LaTeX_envs_menu_present": true,
   "autocomplete": true,
   "bibliofile": "biblio.bib",
   "cite_by": "apalike",
   "current_citInitial": 1,
   "eqLabelWithNumbers": true,
   "eqNumInitial": 1,
   "hotkeys": {
    "equation": "Ctrl-E",
    "itemize": "Ctrl-I"
   },
   "labels_anchors": false,
   "latex_user_defs": false,
   "report_style_numbering": false,
   "user_envs_cfg": false
  }
 },
 "nbformat": 4,
 "nbformat_minor": 2
}
