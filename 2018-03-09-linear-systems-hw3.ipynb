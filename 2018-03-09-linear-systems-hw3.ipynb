{
 "cells": [
  {
   "cell_type": "raw",
   "metadata": {},
   "source": [
    "\\pagenumbering{gobble}\n",
    "\\title{Numerical Methods: HW 3}\n",
    "\\date{\\today}\n",
    "\\author{Colton Grainger}\n",
    "\\maketitle"
   ]
  },
  {
   "cell_type": "markdown",
   "metadata": {},
   "source": [
    "### Prob 1\n",
    "\n",
    "We show that the $l_{1}$ vector norm satisfies three properties:\n",
    "\n",
    "- $||x||_1\\geq 0$ for $x \\in \\mathbf{R}^n$ and  $||x||_1= 0$ if and only if $x=0$\n",
    "- $|| \\lambda x||_1 = | \\lambda | \\; ||x||_1$ for $\\lambda \\in \\mathbf{R}$ and\n",
    "   $x \\in \\mathbf{R}^n$\n",
    "- $|| x + y||_1 \\leq ||x||_1+||y||_1$ for  $x,y \\in \\mathbf{R}^n$\n",
    "\n",
    "*Proof*. \n",
    "\n",
    "For any $x \\in \\mathbf{R}^n$, we have \n",
    " $$||x||_1 = \\sum_i |x_i| \\geq |\\sum_i x_i | \\geq 0$$\n",
    " by the triangle inequality. \n",
    "\n",
    "Further, \n",
    " \\begin{align*}\n",
    "  ||x||_1 = 0 &\\iff \\sum_i |x_i| = 0\\\\\n",
    "    &\\iff x_i = 0 \\text{ for all } i\\\\\n",
    "    &\\iff x = 0.\n",
    "\\end{align*}\n",
    "\n",
    "Next, for any $\\lambda \\in \\mathbf{R}$, \n",
    " \\begin{align*}\n",
    "  ||\\lambda x||_1 &= \\sum_i |\\lambda x_i|\\\\\n",
    "    &= \\sum_i |\\lambda| |x_i|\\\\\n",
    "    &= |\\lambda| \\sum_i |x_i|\\\\\n",
    "    &= |\\lambda| ||x||_1.\n",
    "\\end{align*}\n",
    "\n",
    "Lastly, for any $y \\in \\mathbf{R}^n$, we have \n",
    " $$||x+y||_1 = \\sum_i |x_i + y+i| \\leq \\sum_i (|x_i| + |y_i|) = \\sum_i |x_i| + \\sum_i |y_i| = ||x||_1 + ||y||_1$$\n",
    " since for all $i$, $|x_i + y_i| \\leq |x_i + y_i|$. \n",
    " \n",
    "QED."
   ]
  },
  {
   "cell_type": "markdown",
   "metadata": {},
   "source": [
    "### Prob 2\n",
    "\n",
    "We'll show that an LU-decomposition does not exist for the given matrix $A = \\begin{pmatrix} 0 & 1\\\\ 1 & 1 \\end{pmatrix}.$\n",
    "\n",
    "For contradiction, suppose there exist $L, U \\in \\mathcal{M}_2(\\mathbf{R})$ where $L$ is lower triangular, $U$ is upper triangular, and $$LU = \\begin{pmatrix} 0 & 1\\\\ 1 & 1 \\end{pmatrix}.$$\n",
    "\n",
    "Then we have\n",
    "$$\\begin{pmatrix}\n",
    "  l_{11} & 0\\\\ l_{21} & l_{22}\n",
    "  \\end{pmatrix}\n",
    "  \\begin{pmatrix}\n",
    "  u_{11} & u_{12}\\\\ 0 & u_{22}\n",
    "  \\end{pmatrix}\n",
    "  = \n",
    "  \\begin{pmatrix}\n",
    "  0 & 1\\\\ 1 & 1\n",
    "  \\end{pmatrix}.$$\n",
    "  \n",
    "But this statement represents an inconsistent system, \n",
    "\\begin{align}\n",
    "  l_{11}u_{11} &= 0\\\\\n",
    "  l_{21}u_{11} &= 1\\\\\n",
    "  l_{21}u_{12} &= 1\\\\\n",
    "\\end{align}\n",
    "as $l_{11}u_{11} = 0 \\iff (l_{11} = 0 \\text{ or } u_{11} = 0)$ is inconsistent with $l_{21}u_{11} = 1 \\text{ and } l_{21}u_{12} = 1$.\n",
    "\n",
    "So the LU-decomposition of $A$ does not exist. \n",
    "\n",
    "However, since $\\det A = -1 \\neq 0$, there's a unique solution $x$ to the system $Ax = b$.\n",
    "\n",
    "We can find an LU-decomposition of the permuted matrix $PA$ where \n",
    "$$P = \\begin{pmatrix} 0 &1 \\\\ 1 & 0\\end{pmatrix}.$$\n",
    "\n",
    "We obtain the unique solution $x$ to the system $Ax = b \\iff PAx = Pb \\iff LUx = Pb$:\n",
    " \n",
    "- First produce $y$ such that $Ly = Pb$ by forward substitution,\n",
    "- then find $x$ such that $Ux = y$ by back substitution.\n",
    "\n",
    "I claim $x$ is the unique solution to $Ax = b$, since \n",
    "\\begin{align}\n",
    "  x = U^{-1}L^{-1}Pb &\\iff Ax = AU^{-1}L^{-1}Pb\\\\\n",
    "    &\\iff Ax = (P^{-1}LU)U^{-1}L^{-1}Pb\\\\\n",
    "    &\\iff Ax = b.\n",
    "\\end{align}"
   ]
  },
  {
   "cell_type": "markdown",
   "metadata": {},
   "source": [
    "### Prob 3\n",
    "\n",
    "To find the PLU-decomposition of the matrix \n",
    "$$A = \n",
    "  \\begin{pmatrix}\n",
    "    -5  &   2  &   -1   \\\\\n",
    "    1  &   0  &   3   \\\\\n",
    "    3  &   1  &   6\n",
    "  \\end{pmatrix}$$\n",
    "we'll use Bradie's abbreviated notation, tracking the pivot operations $P_i$ in $\\vec{r}$ and row reduction multipliers $m_{ij}$ (negated and braced with parentheses) in situ of zero'd out elements.\n",
    "\n",
    "Pass 1 uses the pivot element $a_{11} = -5$.\n",
    "$$\\begin{pmatrix}\n",
    "    -5  &   2  &   -1   \\\\\n",
    "    (-1/5) &  2/5  &   14/5\\\\\n",
    "    (-3/5)  &   11/5 &   27/5\n",
    "  \\end{pmatrix}\n",
    "  \\quad\n",
    "  \\vec{r} = \\begin{pmatrix}1\\\\2\\\\3\\end{pmatrix}.$$\n",
    "\n",
    "Pass 2 uses the pivot element $a_{32} = 11/5$.\n",
    "$$\\begin{pmatrix}\n",
    "    -5  &   2  &   -1   \\\\\n",
    "    (-1/5) &  (2/11) &  20/11\\\\\n",
    "    (-3/5)  &   11/5 &   27/5\n",
    "  \\end{pmatrix}\n",
    "  \\quad\n",
    "  \\vec{r} = \\begin{pmatrix}1\\\\3\\\\2\\end{pmatrix}.$$\n",
    "\n",
    "It follows that $PA = LU$, with \n",
    "$$L =\n",
    "  \\begin{pmatrix}\n",
    "  1 & 0 & 0\\\\\n",
    "  -3/5 & 1 & 0\\\\\n",
    "  -1/5 & 2/11 & 1\n",
    "  \\end{pmatrix},\n",
    "  \\quad\n",
    "  U = \n",
    "  \\begin{pmatrix}\n",
    "  -5 & 2 & 1\\\\\n",
    "  0 & 11/5 & 27/5\\\\\n",
    "  0 & 0 & 20/11\n",
    "  \\end{pmatrix},\n",
    "  \\quad\\text{and}\\quad\n",
    "  P = \n",
    "  \\begin{pmatrix}\n",
    "  1 & 0 &0\\\\\n",
    "  0 &0&1\\\\\n",
    "  0&1&0\n",
    "  \\end{pmatrix}.$$\n",
    "  "
   ]
  },
  {
   "cell_type": "code",
   "execution_count": null,
   "metadata": {},
   "outputs": [],
   "source": [
    "A = matrix(QQ, [[-5,2,-1],[1,0,3],[3,1,6]])"
   ]
  },
  {
   "cell_type": "code",
   "execution_count": null,
   "metadata": {},
   "outputs": [],
   "source": [
    "#pass 1\n",
    "E1 = matrix(QQ, [[1,0,0],[1/5,1,0],[3/5,0,1]])\n",
    "E1*A"
   ]
  },
  {
   "cell_type": "code",
   "execution_count": null,
   "metadata": {},
   "outputs": [],
   "source": [
    "#pass 2\n",
    "P2 = matrix(QQ, [[1,0,0],[0,0,1],[0,1,0]])\n",
    "E2 = matrix(QQ, [[1,0,0],[0,1,0],[0,-2/11,1]])\n",
    "U = E2*P2*E1*A\n",
    "U"
   ]
  },
  {
   "cell_type": "code",
   "execution_count": null,
   "metadata": {},
   "outputs": [],
   "source": [
    "#verifying the decomposition\n",
    "L = matrix(QQ, [[1,0,0],[-3/5,1,0],[-1/5,2/11,1]])\n",
    "P2*A == L*U"
   ]
  },
  {
   "cell_type": "markdown",
   "metadata": {},
   "source": [
    "Now suppose that $A\\vec{x} = \\vec{b}$ with $\\vec{b} = (2,-2,1)^T$. "
   ]
  },
  {
   "cell_type": "code",
   "execution_count": null,
   "metadata": {},
   "outputs": [],
   "source": [
    "b = vector(QQ,[2,-2,1])"
   ]
  },
  {
   "cell_type": "markdown",
   "metadata": {},
   "source": [
    "To find $\\vec{x}$ given the PLU-decomposition of $A$."
   ]
  },
  {
   "cell_type": "code",
   "execution_count": null,
   "metadata": {},
   "outputs": [],
   "source": [
    "def forwardsub(L,b):\n",
    "    x = []\n",
    "    for i in range(len(b)):\n",
    "        offset = sum(L[i][j]*x[j] for j in range(i))\n",
    "        elem = (b[i] - offset)/L[i][i]\n",
    "        x.append(elem)\n",
    "    return x\n",
    "\n",
    "y = forwardsub(L,P2*b)\n",
    "y"
   ]
  },
  {
   "cell_type": "code",
   "execution_count": null,
   "metadata": {},
   "outputs": [],
   "source": [
    "def backsub(U,b):\n",
    "    x = []\n",
    "    for i in range(len(b)):\n",
    "        offset = sum(U[-(i+1)][-(j+1)]*x[-(j+1)] for j in range(i))\n",
    "        elem = (b[-(i+1)] - offset)/U[-(i+1)][-(i+1)]\n",
    "        x.insert(0, elem)\n",
    "    return x\n",
    "\n",
    "x = backsub(U, y)\n",
    "x"
   ]
  },
  {
   "cell_type": "code",
   "execution_count": null,
   "metadata": {},
   "outputs": [],
   "source": [
    "x = vector(x)\n",
    "A*x == b"
   ]
  },
  {
   "cell_type": "markdown",
   "metadata": {},
   "source": [
    "It is inexpensive to solve linear systems once the PLU-decomposition of the RHS matrix $A$ is obtained. For example, we vary $\\vec{b}$ to $(0,1,5)^T$. "
   ]
  },
  {
   "cell_type": "code",
   "execution_count": null,
   "metadata": {},
   "outputs": [],
   "source": [
    "b = vector(QQ,[0,1,5])\n",
    "# then following the same process as above\n",
    "y = forwardsub(L,P2*b)\n",
    "x = backsub(U,y)\n",
    "x"
   ]
  },
  {
   "cell_type": "markdown",
   "metadata": {},
   "source": [
    "### Prob 5(a)"
   ]
  },
  {
   "cell_type": "code",
   "execution_count": null,
   "metadata": {},
   "outputs": [],
   "source": [
    "A = matrix(QQ, [[2,-3,1],[-4,1,2],[5,0,1]])\n",
    "A.norm(Infinity)"
   ]
  },
  {
   "cell_type": "code",
   "execution_count": null,
   "metadata": {},
   "outputs": [],
   "source": [
    "for x in [-5..5]:\n",
    "    for y in [-5..5]:\n",
    "        for z in [-5.. 5]:\n",
    "            v = vector(QQ, [x,y,z])\n",
    "            if 7*v.norm(Infinity) ==  (A*v).norm(Infinity):\n",
    "                print [x,y,z] "
   ]
  },
  {
   "cell_type": "markdown",
   "metadata": {},
   "source": [
    "### Prob 6"
   ]
  },
  {
   "cell_type": "code",
   "execution_count": null,
   "metadata": {},
   "outputs": [],
   "source": [
    "A = matrix(QQ, [[1.2969, 0.8648],[0.2161, 0.1441]])\n",
    "b = vector(QQ, [0.8642, 0.1440])\n",
    "x = vector(QQ, [2,-2])\n",
    "\n",
    "A*x == b"
   ]
  },
  {
   "cell_type": "code",
   "execution_count": null,
   "metadata": {},
   "outputs": [],
   "source": [
    "x1 = vector(QQ, [0,1])\n",
    "x2 = vector(QQ, [0.9911,-0.4870])\n",
    "\n",
    "print b - A*x1\n",
    "print x - x1\n",
    "print b - A*x2\n",
    "print x - x2"
   ]
  },
  {
   "cell_type": "code",
   "execution_count": null,
   "metadata": {},
   "outputs": [],
   "source": [
    "print A.norm(Infinity)\n",
    "print ((A^(-1)).norm(Infinity))\n",
    "print A.norm(Infinity)*((A^(-1)).norm(Infinity))"
   ]
  },
  {
   "cell_type": "markdown",
   "metadata": {},
   "source": [
    "It should be true that\n",
    "$$\\frac1{\\kappa(A)}\\frac{||\\vec{r}||}{||\\vec{b}||}\n",
    "\\leq \\frac{||\\vec{e}||}{||\\vec{x}||}\n",
    "\\leq \\kappa(A)\\frac{||\\vec{r}||}{||\\vec{b}||}$$"
   ]
  },
  {
   "cell_type": "code",
   "execution_count": null,
   "metadata": {},
   "outputs": [],
   "source": [
    "cond = A.norm(Infinity)*((A^(-1)).norm(Infinity))\n",
    "\n",
    "r1 = b - A*x1\n",
    "e1 = x - x1\n",
    "r2 = b - A*x2\n",
    "e2 = x - x2\n",
    "\n",
    "print n((1/cond)*(r1.norm(Infinity)/b.norm(Infinity)))\n",
    "print n((e1.norm(Infinity)/x.norm(Infinity)))\n",
    "print n(cond*(r1.norm(Infinity)/b.norm(Infinity)))\n",
    "print\n",
    "print n((2/cond)*(r2.norm(Infinity)/b.norm(Infinity)))\n",
    "print n((e2.norm(Infinity)/x.norm(Infinity)))\n",
    "print n(cond*(r2.norm(Infinity)/b.norm(Infinity)))"
   ]
  },
  {
   "cell_type": "markdown",
   "metadata": {},
   "source": [
    "Works cited\n",
    "\n",
    "- https://www.student.cs.uwaterloo.ca/~cs370/notes/LUExample2.pdf\n",
    "- http://www4.ncsu.edu/~kksivara/ma505/handouts/lu-pivot.pdf"
   ]
  },
  {
   "cell_type": "code",
   "execution_count": null,
   "metadata": {},
   "outputs": [],
   "source": []
  }
 ],
 "metadata": {
  "kernelspec": {
   "display_name": "SageMath 8.0",
   "language": "",
   "name": "sagemath"
  },
  "language_info": {
   "codemirror_mode": {
    "name": "ipython",
    "version": 2
   },
   "file_extension": ".py",
   "mimetype": "text/x-python",
   "name": "python",
   "nbconvert_exporter": "python",
   "pygments_lexer": "ipython2",
   "version": "2.7.13"
  },
  "latex_envs": {
   "LaTeX_envs_menu_present": true,
   "autocomplete": true,
   "bibliofile": "biblio.bib",
   "cite_by": "apalike",
   "current_citInitial": 1,
   "eqLabelWithNumbers": true,
   "eqNumInitial": 1,
   "hotkeys": {
    "equation": "Ctrl-E",
    "itemize": "Ctrl-I"
   },
   "labels_anchors": false,
   "latex_user_defs": false,
   "report_style_numbering": false,
   "user_envs_cfg": false
  }
 },
 "nbformat": 4,
 "nbformat_minor": 2
}
