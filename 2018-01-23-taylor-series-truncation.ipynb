{
 "cells": [
  {
   "cell_type": "markdown",
   "metadata": {},
   "source": [
    "## Taylor series \n",
    "\n",
    "It's an power series representation of certain functions.\n",
    "\n",
    "\\begin{eqnarray*}\n",
    "\\frac{1}{1-x} &=& \\sum^{\\infty}_{n=0} x^n = 1 + x + x^2 + x^3 + \\cdots \\hspace{1em}(\\mbox{when $-1 < x < 1$)} \\\\\n",
    "e^{x} &=& \\sum^{\\infty}_{n=0} \\frac{x^n}{n!} = 1 + x + \\frac{x^2}{2!} + \\frac{x^3}{3!} + \\cdots \\\\\n",
    "\\sin x &=& \\sum^{\\infty}_{n=0} \\frac{(-1)^n}{(2n+1)!} x^{2n+1}\\quad =  x - \\frac{x^3}{3!} + \\frac{x^5}{5!} - \\cdots \\\\\n",
    "\\cos x &=& \\sum^{\\infty}_{n=0} \\frac{(-1)^n}{(2n)!} x^{2n}\\quad =  1 - \\frac{x^2}{2!} + \\frac{x^4}{4!} - \\cdots\n",
    "\\end{eqnarray*}"
   ]
  },
  {
   "cell_type": "code",
   "execution_count": null,
   "metadata": {},
   "outputs": [],
   "source": [
    "#formal series rep\n",
    "exp(x).series(x, 7)"
   ]
  },
  {
   "cell_type": "markdown",
   "metadata": {},
   "source": [
    "## Taylor's theorem\n",
    "\n",
    "We express $f(x) = P_n(x) + R_n(x)$ where $P$ is the nth degree Taylor polynomial and $R$ is the remainder, a function of $\\xi(x)$ where $\\xi$ is between $x_0$ and $x$. We can estimate values of $f$ by considering $f(x) \\approx P_n(x)$ (for large enough $n$) and bounding the remainder.\n",
    "\n",
    "Consider right hand differencing $f'(x) \\approx \\frac{f(x+h) - f(x)}h = D_+f(x)$.\n",
    "\n"
   ]
  },
  {
   "cell_type": "code",
   "execution_count": null,
   "metadata": {},
   "outputs": [],
   "source": [
    "# truncating\n",
    "exp(x).taylor(x, 0, 1)"
   ]
  },
  {
   "cell_type": "code",
   "execution_count": null,
   "metadata": {},
   "outputs": [],
   "source": []
  }
 ],
 "metadata": {
  "kernelspec": {
   "display_name": "SageMath 8.0",
   "language": "",
   "name": "sagemath"
  },
  "language_info": {
   "codemirror_mode": {
    "name": "ipython",
    "version": 2
   },
   "file_extension": ".py",
   "mimetype": "text/x-python",
   "name": "python",
   "nbconvert_exporter": "python",
   "pygments_lexer": "ipython2",
   "version": "2.7.13"
  }
 },
 "nbformat": 4,
 "nbformat_minor": 2
}
