{
 "cells": [
  {
   "cell_type": "markdown",
   "metadata": {},
   "source": [
    "$\n",
    "    \\newcommand{\\RR}{\\mathbf{R}}\n",
    "    \\newcommand{\\dv}[3][]{\\frac{d^{#1} #2}{d {#3}^{#1}}}\n",
    "    \\newcommand{\\dwrt}[2][]{\\frac{d^{#1}}{d {#2}^{#1}}}\n",
    "    \\newcommand{\\pdv}[3][]{\\frac{\\partial^{#1} #2}{\\partial {#3}^{#1}}}\n",
    "    \\newcommand{\\pdwrt}[2][]{\\frac{\\partial^{#1}}{\\partial {#2}^{#1}}}\n",
    "    \\newcommand{\\dd}[2][]{\\, d^{#1}#2}\n",
    "    \\newcommand{\\qty}[1]{\\left[#1 \\right]}\n",
    "    \\renewcommand{\\exp}[1]{e^{#1}}\n",
    "    \\newcommand{\\qq}[1]{\\qquad \\text{#1}\\qquad}\n",
    "    \\newcommand{\\leadsto}{\\quad & \\implies \\quad}\n",
    "$"
   ]
  },
  {
   "cell_type": "markdown",
   "metadata": {},
   "source": [
    "# MATH 310-10: Homework 3\n",
    "- Submitted 10/2/17 by Colton Grainger for MATH 310-10: Ordinary Differential Equations, Engineering Outreach\n",
    "- **Text:** *Differential Equations and Boundary Value Problems: Computing and Modeling* by C. Henry Edwards, David E. Penney and David Calvis, 5th Edition, Prentice Hall"
   ]
  },
  {
   "cell_type": "markdown",
   "metadata": {},
   "source": [
    "## &sect; 2.4\n",
    "### Euler Method\n",
    "\n",
    "I define an Euler (constant slope) method with a while loop. `euler` requires the arguments \n",
    "- `f`, a function of two real numbers,\n",
    "- `x0` and `y0`, the initial values,\n",
    "- `h`, the step size, and\n",
    "- `xmax`, the $x$ value at which to stop\n",
    "\n",
    "and returns a list of ordered pairs."
   ]
  },
  {
   "cell_type": "code",
   "execution_count": null,
   "metadata": {},
   "outputs": [],
   "source": [
    "def euler (f, x0, y0, h, xmax):\n",
    "    x, y = x0, y0\n",
    "    xd, yd = [x0], [y0]\n",
    "    while x < xmax:\n",
    "        y = y + h*f(y, x)\n",
    "        yd.append(y)\n",
    "        x = x + h\n",
    "        xd.append(x)\n",
    "    return(zip(xd,yd))"
   ]
  },
  {
   "cell_type": "markdown",
   "metadata": {},
   "source": [
    "### Prob 1\n",
    "\n",
    "We approximate a solution to the IVP $y' = -y,y(0)=2$ on the interval $[0,\\frac12]$. "
   ]
  },
  {
   "cell_type": "code",
   "execution_count": null,
   "metadata": {},
   "outputs": [],
   "source": [
    "def f(y, x):\n",
    "    return -y"
   ]
  },
  {
   "cell_type": "markdown",
   "metadata": {},
   "source": [
    "1. First with step size `h = 0.25`.\n",
    "2. Then with step size `h = 0.1`.\n",
    "3. Lastly we compare values to the analytic solution $y = 2e^{-x}$."
   ]
  },
  {
   "cell_type": "code",
   "execution_count": null,
   "metadata": {},
   "outputs": [],
   "source": [
    "euler(f, 0, 2, 0.25, 0.5)"
   ]
  },
  {
   "cell_type": "code",
   "execution_count": null,
   "metadata": {},
   "outputs": [],
   "source": [
    "euler(f, 0, 2, 0.1, 0.5)"
   ]
  },
  {
   "cell_type": "code",
   "execution_count": null,
   "metadata": {},
   "outputs": [],
   "source": [
    "sum([\n",
    "    list_plot(\n",
    "        euler(f, 0, 2, 0.25, 0.5),\n",
    "        plotjoined = True,\n",
    "        color = 'green'),\n",
    "    list_plot(\n",
    "        euler(f, 0, 2, 0.1, 0.5), \n",
    "        plotjoined = True,\n",
    "        color = 'blue'),       \n",
    "    list_plot(\n",
    "        [(x,2*exp(-x)) for x in [0, 0.1,.. ,0.5]],\n",
    "        plotjoined = True,\n",
    "        color = 'purple')  \n",
    "])"
   ]
  },
  {
   "cell_type": "markdown",
   "metadata": {},
   "source": [
    "Here's the global error for step size `h = 0.25`."
   ]
  },
  {
   "cell_type": "code",
   "execution_count": null,
   "metadata": {},
   "outputs": [],
   "source": [
    "euler(f, 0, 2, 0.25, 0.5)[2][1]-2*exp(-0.5)"
   ]
  },
  {
   "cell_type": "markdown",
   "metadata": {},
   "source": [
    "Here's the global error for step size `h = 0.1`."
   ]
  },
  {
   "cell_type": "code",
   "execution_count": null,
   "metadata": {},
   "outputs": [],
   "source": [
    "euler(f, 0, 2, 0.1, 0.5)[5][1]-2*exp(-0.5)"
   ]
  },
  {
   "cell_type": "markdown",
   "metadata": {},
   "source": [
    "### Prob 5\n",
    "\n",
    "We approximate a solution to the IVP $y' = y-x-1,y(0)=1$ on the interval $[0,\\frac12]$. "
   ]
  },
  {
   "cell_type": "code",
   "execution_count": null,
   "metadata": {},
   "outputs": [],
   "source": [
    "def f(y, x):\n",
    "    return y-x-1"
   ]
  },
  {
   "cell_type": "markdown",
   "metadata": {},
   "source": [
    "1. First with step size `h = 0.25`.\n",
    "2. Then with step size `h = 0.1`.\n",
    "3. Lastly we compare values to the analytic solution $y = 2 + x - \\exp{x}$."
   ]
  },
  {
   "cell_type": "code",
   "execution_count": null,
   "metadata": {},
   "outputs": [],
   "source": [
    "euler(f, 0, 1, 0.25, 0.5)"
   ]
  },
  {
   "cell_type": "code",
   "execution_count": null,
   "metadata": {},
   "outputs": [],
   "source": [
    "euler(f, 0, 1, 0.1, 0.5)"
   ]
  },
  {
   "cell_type": "code",
   "execution_count": null,
   "metadata": {},
   "outputs": [],
   "source": [
    "sum([\n",
    "    list_plot(\n",
    "        euler(f, 0, 1, 0.25, 0.5),\n",
    "        plotjoined = True,\n",
    "        color = 'green'),\n",
    "    list_plot(\n",
    "        euler(f, 0, 1, 0.1, 0.5), \n",
    "        plotjoined = True,\n",
    "        color = 'blue'),       \n",
    "    list_plot(\n",
    "        [(x,2+x-exp(x)) for x in [0, 0.1,.. ,0.5]],\n",
    "        plotjoined = True,\n",
    "        color = 'purple')  \n",
    "])"
   ]
  },
  {
   "cell_type": "markdown",
   "metadata": {},
   "source": [
    "Here's the global error for step size `h = 0.25`."
   ]
  },
  {
   "cell_type": "code",
   "execution_count": null,
   "metadata": {},
   "outputs": [],
   "source": [
    "euler(f, 0, 1, 0.25, 0.5)[2][1]-(2+x-exp(0.5))"
   ]
  },
  {
   "cell_type": "markdown",
   "metadata": {},
   "source": [
    "Here's the global error for step size `h = 0.1`."
   ]
  },
  {
   "cell_type": "code",
   "execution_count": null,
   "metadata": {},
   "outputs": [],
   "source": [
    "euler(f, 0, 1, 0.1, 0.5)[5][1]-(2+x-exp(0.5))"
   ]
  },
  {
   "cell_type": "markdown",
   "metadata": {},
   "source": [
    "Notice, when we scaled our step size by a factor of $2/5$, the error scaled proportionally. For the `euler` method, the global error is $\\mathcal{O}(h)$. "
   ]
  },
  {
   "cell_type": "code",
   "execution_count": null,
   "metadata": {},
   "outputs": [],
   "source": [
    "0.0862212707001282*(2/5)"
   ]
  },
  {
   "cell_type": "markdown",
   "metadata": {},
   "source": [
    "## &sect; 2.5\n",
    "### Improved Euler Method\n",
    "\n",
    "I define an improved Euler method. `impeuler` requires the same arguments as `euler` and similarly returns a list of ordered pairs."
   ]
  },
  {
   "cell_type": "code",
   "execution_count": null,
   "metadata": {},
   "outputs": [],
   "source": [
    "def impeuler (f, x0, y0, h, xmax):\n",
    "    x = x0\n",
    "    u, y = y0, y0\n",
    "    xd, yd = [x0], [y0]\n",
    "    while x < xmax:\n",
    "        u = y + h*f(y, x)\n",
    "        y = y + (h/2)*(f(y, x) + f(u, x + h))\n",
    "        yd.append(y)\n",
    "        x = x + h\n",
    "        xd.append(x)\n",
    "    return(zip(xd,yd))"
   ]
  },
  {
   "cell_type": "markdown",
   "metadata": {},
   "source": [
    "### Prob 1\n",
    "\n",
    "Consider IVP $y' = -y, y(0) = 2$ on the interval $[0,\\frac12]$. "
   ]
  },
  {
   "cell_type": "code",
   "execution_count": null,
   "metadata": {},
   "outputs": [],
   "source": [
    "def f(y, x):\n",
    "    return -y"
   ]
  },
  {
   "cell_type": "markdown",
   "metadata": {},
   "source": [
    "Let's approximate with the **improved Euler method**.\n",
    "1. First with step size `h = 0.25`.\n",
    "2. Then with step size `h = 0.1`.\n",
    "3. Lastly we compare values to the analytic solution $y = 2e^{-x}$."
   ]
  },
  {
   "cell_type": "code",
   "execution_count": null,
   "metadata": {},
   "outputs": [],
   "source": [
    "impeuler(f, 0, 2, 0.25, 0.5)"
   ]
  },
  {
   "cell_type": "code",
   "execution_count": null,
   "metadata": {},
   "outputs": [],
   "source": [
    "impeuler(f, 0, 2, 0.1, 0.5)"
   ]
  },
  {
   "cell_type": "code",
   "execution_count": null,
   "metadata": {},
   "outputs": [],
   "source": [
    "sum([\n",
    "    list_plot(\n",
    "        impeuler(f, 0, 2, 0.25, 0.5),\n",
    "        plotjoined = True,\n",
    "        color = 'green'),\n",
    "    list_plot(\n",
    "        impeuler(f, 0, 2, 0.1, 0.5), \n",
    "        plotjoined = True,\n",
    "        color = 'blue'),       \n",
    "    list_plot(\n",
    "        [(x,2*exp(-x)) for x in [0, 0.1,.. ,0.5]],\n",
    "        plotjoined = True,\n",
    "        color = 'purple')  \n",
    "])"
   ]
  },
  {
   "cell_type": "markdown",
   "metadata": {},
   "source": [
    "Here's the global error for step size `h = 0.25`."
   ]
  },
  {
   "cell_type": "code",
   "execution_count": null,
   "metadata": {},
   "outputs": [],
   "source": [
    "impeuler(f, 0, 2, 0.25, 0.5)[2][1]-2*exp(-0.5)"
   ]
  },
  {
   "cell_type": "markdown",
   "metadata": {},
   "source": [
    "Here's the global error for step size `h = 0.1`."
   ]
  },
  {
   "cell_type": "code",
   "execution_count": null,
   "metadata": {},
   "outputs": [],
   "source": [
    "impeuler(f, 0, 2, 0.1, 0.5)[5][1]-2*exp(-0.5)"
   ]
  },
  {
   "cell_type": "markdown",
   "metadata": {},
   "source": [
    "Notice, when we scaled our step size by a factor of $2/5$, the error was scaled proportional to $(2/5)^2$. For the `impeuler` method, the global error is $\\mathcal{O}(h^2)$. "
   ]
  },
  {
   "cell_type": "code",
   "execution_count": null,
   "metadata": {},
   "outputs": [],
   "source": [
    "0.00764180557473315*(2/5)^2"
   ]
  },
  {
   "cell_type": "markdown",
   "metadata": {},
   "source": [
    "### Prob 5\n",
    "\n",
    "Consider the IVP $y' = y-x-1,y(0)=1$ on the interval $[0,\\frac12]$. "
   ]
  },
  {
   "cell_type": "code",
   "execution_count": null,
   "metadata": {},
   "outputs": [],
   "source": [
    "def f(y, x):\n",
    "    return y-x-1"
   ]
  },
  {
   "cell_type": "markdown",
   "metadata": {},
   "source": [
    "Let's approximate with the **improved Euler method**.\n",
    "1. First with step size `h = 0.25`.\n",
    "2. Then with step size `h = 0.1`.\n",
    "3. Lastly we compare values to the analytic solution $y = 2e^{-x}$."
   ]
  },
  {
   "cell_type": "code",
   "execution_count": null,
   "metadata": {},
   "outputs": [],
   "source": [
    "impeuler(f, 0, 1, 0.25, 0.5)"
   ]
  },
  {
   "cell_type": "code",
   "execution_count": null,
   "metadata": {},
   "outputs": [],
   "source": [
    "impeuler(f, 0, 1, 0.1, 0.5)"
   ]
  },
  {
   "cell_type": "code",
   "execution_count": null,
   "metadata": {},
   "outputs": [],
   "source": [
    "sum([\n",
    "    list_plot(\n",
    "        impeuler(f, 0, 1, 0.25, 0.5),\n",
    "        plotjoined = True,\n",
    "        color = 'green'),\n",
    "    list_plot(\n",
    "        impeuler(f, 0, 1, 0.1, 0.5), \n",
    "        plotjoined = True,\n",
    "        color = 'blue'),       \n",
    "    list_plot(\n",
    "        [(x,2+x-exp(x)) for x in [0, 0.1,.. ,0.5]],\n",
    "        plotjoined = True,\n",
    "        color = 'purple')  \n",
    "])"
   ]
  },
  {
   "cell_type": "markdown",
   "metadata": {},
   "source": [
    "Here's the global error for step size `h = 0.25`."
   ]
  },
  {
   "cell_type": "code",
   "execution_count": null,
   "metadata": {},
   "outputs": [],
   "source": [
    "impeuler(f, 0, 1, 0.25, 0.5)[2][1]-(2+x-exp(0.5))"
   ]
  },
  {
   "cell_type": "markdown",
   "metadata": {},
   "source": [
    "Here's the global error for step size `h = 0.1`."
   ]
  },
  {
   "cell_type": "code",
   "execution_count": null,
   "metadata": {},
   "outputs": [],
   "source": [
    "impeuler(f, 0, 1, 0.1, 0.5)[5][1]-(2+x-exp(0.5))"
   ]
  },
  {
   "cell_type": "markdown",
   "metadata": {},
   "source": [
    "Again, notice the error scales as expected for an $\\mathcal{O}(h^2)$ method."
   ]
  },
  {
   "cell_type": "code",
   "execution_count": null,
   "metadata": {},
   "outputs": [],
   "source": [
    "0.00711970820012819*(2/5)^2"
   ]
  },
  {
   "cell_type": "markdown",
   "metadata": {},
   "source": [
    "## &sect; 2.6\n",
    "### Runge-Kutta 4th order Method\n",
    "\n",
    "I implement the Runge-Kutta 4th order method."
   ]
  },
  {
   "cell_type": "code",
   "execution_count": null,
   "metadata": {},
   "outputs": [],
   "source": [
    "def rk4 (f, x0, y0, h, xmax):\n",
    "    x = x0\n",
    "    y = y0\n",
    "    xd, yd = [x0], [y0]\n",
    "    while x < xmax:\n",
    "        #u1 = y\n",
    "        m1 = f(y, x)\n",
    "        \n",
    "        u2 = y + (h/2)*m1\n",
    "        m2 = f(u2, x + h/2)\n",
    "        \n",
    "        u3 = y + (h/2)*m2\n",
    "        m3 = f(u3, x + h/2)\n",
    "        \n",
    "        u4 = y + h*m3\n",
    "        m4 = f(u4, x + h)\n",
    "\n",
    "        y = y + (h/6)*(m1 + 2*m2 + 2*m3 + m4)\n",
    "        yd.append(y)\n",
    "        x = x + h\n",
    "        xd.append(x)\n",
    "    return(zip(xd,yd))"
   ]
  },
  {
   "cell_type": "markdown",
   "metadata": {},
   "source": [
    "### Prob 1\n",
    "\n",
    "Consider the IVP $y' = -y, y(0) = 2$ on the interval $[0,\\frac12]$. "
   ]
  },
  {
   "cell_type": "code",
   "execution_count": null,
   "metadata": {},
   "outputs": [],
   "source": [
    "def f(y, x):\n",
    "    return -y"
   ]
  },
  {
   "cell_type": "markdown",
   "metadata": {},
   "source": [
    "Let's approximate with the **Runge-Kutta 4th order method**.\n",
    "1. First with step size `h = 0.25`.\n",
    "2. Then with step size `h = 0.1`.\n",
    "3. Lastly we compare values to the analytic solution $y = 2e^{-x}$."
   ]
  },
  {
   "cell_type": "code",
   "execution_count": null,
   "metadata": {},
   "outputs": [],
   "source": [
    "rk4(f, 0, 2, 0.25, 0.5)"
   ]
  },
  {
   "cell_type": "code",
   "execution_count": null,
   "metadata": {},
   "outputs": [],
   "source": [
    "rk4(f, 0, 2, 0.1, 0.5)"
   ]
  },
  {
   "cell_type": "code",
   "execution_count": null,
   "metadata": {},
   "outputs": [],
   "source": [
    "sum([\n",
    "    list_plot(\n",
    "        rk4(f, 0, 2, 0.25, 0.5),\n",
    "        plotjoined = True,\n",
    "        color = 'green'),\n",
    "    list_plot(\n",
    "        rk4(f, 0, 2, 0.1, 0.5), \n",
    "        plotjoined = True,\n",
    "        color = 'blue'),       \n",
    "    list_plot(\n",
    "        [(x,2*exp(-x)) for x in [0, 0.1,.. ,0.5]],\n",
    "        plotjoined = True,\n",
    "        color = 'purple')  \n",
    "])"
   ]
  },
  {
   "cell_type": "markdown",
   "metadata": {},
   "source": [
    "Here's the global error for step size `h = 0.25`."
   ]
  },
  {
   "cell_type": "code",
   "execution_count": null,
   "metadata": {},
   "outputs": [],
   "source": [
    "rk4(f, 0, 2, 0.25, 0.5)[2][1]-2*exp(-0.5)"
   ]
  },
  {
   "cell_type": "markdown",
   "metadata": {},
   "source": [
    "Here's the global error for step size `h = 0.1`."
   ]
  },
  {
   "cell_type": "code",
   "execution_count": null,
   "metadata": {},
   "outputs": [],
   "source": [
    "rk4(f, 0, 2, 0.1, 0.5)[5][1]-2*exp(-0.5)"
   ]
  },
  {
   "cell_type": "markdown",
   "metadata": {},
   "source": [
    "I can perform a \"check-sum\" of sorts on my implementation by verifying the error scales proportional to $h^4$ (*this has already caught two errors!*)."
   ]
  },
  {
   "cell_type": "code",
   "execution_count": null,
   "metadata": {},
   "outputs": [],
   "source": [
    "0.0000243319724382296*(2/5)^4"
   ]
  },
  {
   "cell_type": "markdown",
   "metadata": {},
   "source": [
    "**Aside.** I had found the 4th slope, `m4`, by following the line with slope `(m2+m3)/2` rather than following the line with slope `m3`. This typo was not visibly noticable, but the error *did not scale according to* $\\mathcal{O}(h^4)$."
   ]
  },
  {
   "cell_type": "markdown",
   "metadata": {},
   "source": [
    "For the `rk4` method, the global error is $\\mathcal{O}(h^4)$. "
   ]
  },
  {
   "cell_type": "markdown",
   "metadata": {},
   "source": [
    "### Prob 5\n",
    "\n",
    "We approximate a solution to the IVP $y' = y-x-1,y(0)=1$ on the interval $[0,\\frac12]$. "
   ]
  },
  {
   "cell_type": "code",
   "execution_count": null,
   "metadata": {},
   "outputs": [],
   "source": [
    "def f(y, x):\n",
    "    return y-x-1"
   ]
  },
  {
   "cell_type": "markdown",
   "metadata": {},
   "source": [
    "Let's approximate with the **Runge-Kutta 4th order method**.\n",
    "1. First with step size `h = 0.25`.\n",
    "2. Then with step size `h = 0.1`.\n",
    "3. Lastly we compare values to the analytic solution $y = 2 + x - \\exp{x}$."
   ]
  },
  {
   "cell_type": "code",
   "execution_count": null,
   "metadata": {},
   "outputs": [],
   "source": [
    "rk4(f, 0, 1, 0.25, 0.5)"
   ]
  },
  {
   "cell_type": "code",
   "execution_count": null,
   "metadata": {},
   "outputs": [],
   "source": [
    "rk4(f, 0, 1, 0.1, 0.5)"
   ]
  },
  {
   "cell_type": "code",
   "execution_count": null,
   "metadata": {},
   "outputs": [],
   "source": [
    "sum([\n",
    "    list_plot(\n",
    "        rk4(f, 0, 1, 0.25, 0.5),\n",
    "        plotjoined = True,\n",
    "        color = 'green'),\n",
    "    list_plot(\n",
    "        rk4(f, 0, 1, 0.1, 0.5), \n",
    "        plotjoined = True,\n",
    "        color = 'blue'),       \n",
    "    list_plot(\n",
    "        [(x,2+x-exp(x)) for x in [0, 0.1,.. ,0.5]],\n",
    "        plotjoined = True,\n",
    "        color = 'purple')  \n",
    "])"
   ]
  },
  {
   "cell_type": "markdown",
   "metadata": {},
   "source": [
    "Here's the global error for step size `h = 0.25`."
   ]
  },
  {
   "cell_type": "code",
   "execution_count": null,
   "metadata": {},
   "outputs": [],
   "source": [
    "rk4(f, 0, 1, 0.25, 0.5)[2][1]-(2+x-exp(0.5))"
   ]
  },
  {
   "cell_type": "markdown",
   "metadata": {},
   "source": [
    "Here's the global error for step size `h = 0.1`."
   ]
  },
  {
   "cell_type": "code",
   "execution_count": null,
   "metadata": {},
   "outputs": [],
   "source": [
    "rk4(f, 0, 1, 0.1, 0.5)[5][1]-(2+x-exp(0.5))"
   ]
  },
  {
   "cell_type": "markdown",
   "metadata": {},
   "source": [
    "Again, notice the error scales as expected for an $\\mathcal{O}(h^4)$ method."
   ]
  },
  {
   "cell_type": "code",
   "execution_count": null,
   "metadata": {},
   "outputs": [],
   "source": [
    "0.0000218016636019946*(2/5)^4"
   ]
  }
 ],
 "metadata": {
  "kernelspec": {
   "display_name": "SageMath 8.0",
   "language": "",
   "name": "sagemath"
  },
  "language_info": {
   "codemirror_mode": {
    "name": "ipython",
    "version": 2
   },
   "file_extension": ".py",
   "mimetype": "text/x-python",
   "name": "python",
   "nbconvert_exporter": "python",
   "pygments_lexer": "ipython2",
   "version": "2.7.13"
  }
 },
 "nbformat": 4,
 "nbformat_minor": 2
}
