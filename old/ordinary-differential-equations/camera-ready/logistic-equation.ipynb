{
 "cells": [
  {
   "cell_type": "markdown",
   "metadata": {},
   "source": [
    "$\n",
    "    \\newcommand{\\RR}{\\mathbf{R}}\n",
    "    \\newcommand{\\dv}[3][]{\\frac{d^{#1} #2}{d {#3}^{#1}}}\n",
    "    \\newcommand{\\dwrt}[2][]{\\frac{d^{#1}}{d {#2}^{#1}}}\n",
    "    \\newcommand{\\pdv}[3][]{\\frac{\\partial^{#1} #2}{\\partial {#3}^{#1}}}\n",
    "    \\newcommand{\\pdwrt}[2][]{\\frac{\\partial^{#1}}{\\partial {#2}^{#1}}}\n",
    "    \\newcommand{\\dd}[2][]{\\, d^{#1}#2}\n",
    "    \\newcommand{\\qty}[1]{\\left[#1 \\right]}\n",
    "    \\renewcommand{\\exp}[1]{e^{#1}}\n",
    "    \\newcommand{\\qq}[1]{\\qquad \\text{#1}\\qquad}\n",
    "    \\newcommand{\\leadsto}{\\quad & \\implies \\quad}\n",
    "$"
   ]
  },
  {
   "cell_type": "markdown",
   "metadata": {},
   "source": [
    "# MATH 310-10: Homework 2\n",
    "- Submitted 9/22/17 by Colton Grainger for MATH 310-10: Ordinary Differential Equations, Engineering Outreach\n",
    "- **Text:** *Differential Equations and Boundary Value Problems: Computing and Modeling* by C. Henry Edwards, David E. Penney and David Calvis, 5th Edition, Prentice Hall"
   ]
  },
  {
   "cell_type": "markdown",
   "metadata": {},
   "source": [
    "## &sect; 1.5\n",
    "### Prob 3\n",
    "We find the general solution for the first order linear DE \n",
    "$$ \n",
    "    \\dv{y}{x} + 3y  = 2x\\exp{-3x}.\n",
    "$$\n",
    "\n",
    "Choose an integrating factor \n",
    "$$ \n",
    "    \\mu(x) = \\exp{\\int 3 \\dd{x}} = \\exp{3x}.\n",
    "$$\n",
    "\n",
    "Multiplying both sides of the DE by $\\mu$, we have\n",
    "$$\n",
    "    \\exp{3x}\\dv{y}{x} + \\exp{3x}3y  = 2x.\n",
    "$$\n",
    "\n",
    "Now we integrate with respect to $x$. The RHS is merely $$x^2 + C.$$ \n",
    "\n",
    "For the LHS, \n",
    "\\begin{align}\n",
    "    \\int\\qty{\\exp{3x}\\dv{y}{x} + \\exp{3x}3y} \\dd{x}\n",
    "        &= \\int\\dwrt{x}\\qty{\\exp{3x}y} \\dd{x} &\\text{(product rule)}\\\\\n",
    "        &= \\exp{3x}y. & \\text{(FTC II)}\n",
    "\\end{align}\n",
    "\n",
    "Whence \n",
    "\\begin{align}\n",
    "    \\exp{3x}y = x^2 + C \\leadsto\n",
    "        y = \\exp{-3x}(x^2 + C).\n",
    "\\end{align}\n",
    "\n",
    "We plot solutions for various values of $C$."
   ]
  },
  {
   "cell_type": "code",
   "execution_count": null,
   "metadata": {},
   "outputs": [],
   "source": [
    "x, y, C = var('x y C')\n",
    "f = 2*x*exp(-3*x) - 3*y\n",
    "sf = plot_slope_field(\n",
    "    f, \n",
    "    (x, -0.5, 0.5), \n",
    "    (y, -5, 10)\n",
    ")\n",
    "sols = plot(\n",
    "    [exp(-3*x)*(x^2 + C) for C in [-1..2]], \n",
    "    (-0.5, 0.5), \n",
    "    thickness=3, \n",
    "    legend_label='automatic'\n",
    ")\n",
    "show(sf + sols)"
   ]
  },
  {
   "cell_type": "markdown",
   "metadata": {},
   "source": [
    "### Prob 5\n",
    "\n",
    "We solve the IVP $xy' +2y = 3x$ with $y(1) = 5$.\n",
    "\n",
    "Well, suppose $x \\neq 0$ and divide out $x$,\n",
    "$$\n",
    "    y' + \\frac2x\\,y = 3.\n",
    "$$\n",
    "\n",
    "Let $\\mu(x) = \\exp{\\int2\\dd{x}/x} = x^2$. Then write\n",
    "$$\n",
    "    \\displaystyle\n",
    "    \\dwrt{x}\\qty{\\mu y} = 3\\mu \\implies\n",
    "        y(x) = \\frac1{x^2}\\qty{x^3 + C}.\n",
    "$$\n",
    "\n",
    "With the IC $y(1) = 5$, we've $C = 4$, whence \n",
    "$$\n",
    "    y(x) = x + \\frac4{x^2}.\n",
    "$$"
   ]
  },
  {
   "cell_type": "markdown",
   "metadata": {},
   "source": [
    "### Prob 27\n",
    "\n",
    "We solve the DE \n",
    "$$\n",
    "    (x+y\\exp{y})\\dv{y}{x} = 1\n",
    "$$\n",
    "regarding $y$ as the independent variable rather than $x$.\n",
    "\n",
    "As we want an inverse function $x(y)$, we'd better satisfy the conditions of the inverse function theorem. I.e., we'll assume $\\dv{y}{x} \\neq 0$ for all real $x$.\n",
    "\n",
    "It can be shown that $\\dv{y}{x} = \\qty{\\dv{x}{y}}^{-1}$. Whence the DE is seen to be \n",
    "$$\n",
    "    \\dv{x}{y} - x  = y\\exp{y},\n",
    "$$\n",
    "a first order linear DE in $y$.\n",
    "\n",
    "Let $\\mu(y) = \\exp{\\int-\\dd{y}} = \\exp{-y}$. Using the method of integrating factors, we find the general solution\n",
    "$$\n",
    "    \\mu x = \\int y \\dd{y} = \\frac{y^2}2 + C \\implies x(y) = \\exp{y}\\qty{\\frac{y^2}2 + C}.\n",
    "$$\n"
   ]
  },
  {
   "cell_type": "code",
   "execution_count": null,
   "metadata": {},
   "outputs": [],
   "source": [
    "x, y, C = var('x y C')\n",
    "f = y*exp(y) + x\n",
    "sf = plot_slope_field(\n",
    "    f, \n",
    "    (y, -1, 1),\n",
    "    (x, -7, 7)\n",
    ")\n",
    "sols = plot(\n",
    "    [exp(y)*((y^2)/2 + C) for C in [-2..2]], \n",
    "    (-1, 1), \n",
    "    thickness=3, \n",
    "    legend_label='automatic'\n",
    ")\n",
    "show(sf + sols)"
   ]
  },
  {
   "cell_type": "markdown",
   "metadata": {},
   "source": [
    "We check that the answer satisfies the DE in $y$."
   ]
  },
  {
   "cell_type": "code",
   "execution_count": null,
   "metadata": {},
   "outputs": [],
   "source": [
    "gsol = exp(y)*((y^2)/2 + C)\n",
    "diff(gsol)  - gsol == y*exp(y)"
   ]
  },
  {
   "cell_type": "markdown",
   "metadata": {},
   "source": [
    "### Prob 36\n",
    "Suppose that a tank has $x(t)$ amount of salt and $V(t)$ volume of water at time $t$.\n",
    "\n",
    "Let's label\n",
    "$$\n",
    "\\begin{align}\n",
    "    r_i &: \\text{rate in}\\\\\n",
    "    c_i &: \\text{concentration in}\\\\\n",
    "    r_o &: \\text{rate out}\\\\\n",
    "    c_o &: \\text{concentration out}.\n",
    "\\end{align}\n",
    "$$\n",
    "\n",
    "To find the amount of salt at any time, we first must find $V$. Then we'll use the method of integrating factors to find $x$.\n",
    "\n",
    "We know $\\dv{V}{t} = r_i - r_o$. Given $r_i = 2$ gal/min, $r_o = 3$ gal/min, and $V(0) = 60$ gal, we find \n",
    "$$\n",
    "    V(t) = 60 - t.\n",
    "$$\n",
    "\n",
    "The amount of salt in the tank changes as\n",
    "$$\n",
    "    \\dv{x}{t} = c_ir_i - c_or_o.\n",
    "$$ \n",
    "\n",
    "We'll make the assumption that $c_o = x/V$ (which is reasonable if the tank is well-mixed). With substitution, and given $c_i = 1$ lb/gal, the above DE is 1st order linear:\n",
    "$$\n",
    "    \\dv{x}{t} + \\frac3{60-t}\\,x = 2.\n",
    "$$\n",
    "\n",
    "With $\\mu = \\exp{\\int \\frac3{60-t} \\dd{t}} = (60 - t)^{-3}$, we write\n",
    "$$\n",
    "    \\mu x = \\int \\frac{2\\dd{t}}{(60 - t)^3} \n",
    "        \\implies \n",
    "        x = (60 - t) + C(60 - t)^3.\n",
    "$$\n",
    "\n",
    "Applying the IC $x(0) = 0$, we have $C = -\\frac1{3600}$ and the particular solution\n",
    "$$\n",
    "    x = (60 - t) - \\frac{(60 - t)^3}{3600}.\n",
    "$$\n",
    "\n",
    "To find the maximum amount of salt in the tank, consider the critical points $(x,t)$ for which $\\dv{x}{t} = 0$. As \n",
    "$$\n",
    "    \\dv{x}{t} = \\frac{(60 - t^2)}{1200} - 1\n",
    "$$\n",
    "we have $\\dv{x}{t} = 0$ if and only if $t = 60 - 20\\sqrt{3}$. Further, the second derivative test indicates $x$ has reaches a maximum at this time. Having found the only critical point, with the end points of $x(0) = x(60) = 0$, we're sure to have found the maximum amount of salt in the tank.\n",
    "\n",
    "It's value is computed (in lbs):"
   ]
  },
  {
   "cell_type": "code",
   "execution_count": null,
   "metadata": {},
   "outputs": [],
   "source": [
    "t = var('t')\n",
    "salt(t) = (60 - t) - (60 - t)^3/3600\n",
    "N(salt(60-20*sqrt(3)))"
   ]
  },
  {
   "cell_type": "markdown",
   "metadata": {},
   "source": [
    "### Prob 37\n",
    "\n",
    "A $400$ gal tank contains $100$ gal of brine containing $50$ lbs of salt. Suppose brine enters with a concentration $c_i = 1$ lb/gal at a rate $r_i = 5$ gal/s, and well mixed brine flows out at a rate $3$ gal/s.\n",
    "\n",
    "To find the volume $V(t)$, we solve the IVP $V' = 2; V(0) = 100$: \n",
    "$$\n",
    "    V(t) = 100 + 2t.\n",
    "$$\n",
    "\n",
    "Let's find the time $\\tau$ when the tank is full. Well, $V(\\tau) = 400$ gal implies $\\tau = 150$ s. \n",
    "\n",
    "To find the amount of salt $x(t)$, we solve the first order linear DE\n",
    "$$\n",
    "    \\dv{x}{t} = c_ir_i - c_or_o = 5 - \\frac{3x}{100 + 2t}.\n",
    "$$\n",
    "\n",
    "Let $\\mu = (50 + t)^\\frac32$, then write $\\dwrt{t}\\qty{\\mu x} = 5 \\mu$. Integrating,\n",
    "$$\n",
    "    \\mu x = 2 (50 + t)^\\frac52 + C \n",
    "    \\implies \n",
    "    x = 2 (50 + t) + C(50 + t)^\\frac{-3}2.\n",
    "$$\n",
    "\n",
    "Applying the IC $x(0) = 50$, we've $C = -50^\\frac52$.\n",
    "\n",
    "Now, what's the amount of salt in the tank when it's full? Well, having found $\\tau = 150$, we compute the amount (in lbs):"
   ]
  },
  {
   "cell_type": "code",
   "execution_count": null,
   "metadata": {},
   "outputs": [],
   "source": [
    "C = -50^(5/2)\n",
    "x = 2*(50 + t) + C*(50 + t)^(-3/2)\n",
    "N(x(150))"
   ]
  },
  {
   "cell_type": "markdown",
   "metadata": {},
   "source": [
    "## &sect; 2.1\n",
    "### Prob 1\n",
    "\n",
    "We use partial fractions to solve the IVP\n",
    "$$\n",
    "    x' = x - x^2, \\quad x(0) = 2.\n",
    "$$\n",
    "\n",
    "Factoring, $x' = -x(x-1)$. This is a first order separable DE. To integrate, we write:\n",
    "$$\n",
    "    -\\frac{\\dd{x}}{x(x-1)} = \\dd{t}.\n",
    "$$ \n",
    "Notice, however, that the LHS is subject to the partial fraction decomposition\n",
    "$$\n",
    "    -\\frac{1}{x(x-1)} = \\frac{1}{x} - \\frac1{x - 1},\n",
    "$$ \n",
    "a special case of the following identity.\n",
    "\n",
    "**Identity:** For the (complex) variable $x$ and (complex) numbers $\\alpha$ and $\\beta$, we have \n",
    "$$\n",
    "\\begin{align}\n",
    " \\frac1{(x-\\alpha)(x-\\beta)} \n",
    "     &= \\frac1{\\alpha-\\beta}\\,\\frac{\\alpha-\\beta}{(x-\\alpha)(x-\\beta)}\\\\\n",
    "     &= \\frac1{\\alpha-\\beta}\\,\\frac{(x - \\beta) - (x - \\alpha)}{(x-\\alpha)(x-\\beta)}\\\\\n",
    "      &= \\frac1{\\alpha-\\beta}\\left(\\frac{1}{x-\\alpha} - \\frac1{x - \\beta}\\right).\n",
    "\\end{align}\n",
    "$$\n",
    "\n",
    "Returning to the DE, we integrate the LHS\n",
    "$$\n",
    "    \\int \\left(\\frac{1}{x} - \\frac1{x - 1}\\right)\\dd{x} =\n",
    "        \\ln\\left|\\frac x{1-x}\\right|,\n",
    "$$\n",
    "and the RHS\n",
    "$$\n",
    "    \\int \\dd{t} = t + \\tilde{C}\n",
    "$$ \n",
    "to find the implicit general solution\n",
    "$$\n",
    "    C\\exp{t} = \\frac{x}{x-1}.\n",
    "$$\n",
    "\n",
    "From the IC $x(0) = 2$, it follows that $C = 2$. Isolating $x$, we have\n",
    "$$\n",
    "    x = \\frac2{2+e^{-t}}.\n",
    "$$\n",
    "    \n",
    "This particular curve is plotted (dashed) below. "
   ]
  },
  {
   "cell_type": "code",
   "execution_count": null,
   "metadata": {},
   "outputs": [],
   "source": [
    "x, t, C = var('x y C')\n",
    "f = x - x^2\n",
    "sf = plot_slope_field(\n",
    "    f, \n",
    "    (t, -2, 2),\n",
    "    (x, -2, 2)\n",
    ")\n",
    "stbl = plot(\n",
    "    [1/(1+(exp(-t)/C)) for C in [-16, -8, 0.1, 0.5, 7, 15]], \n",
    "    (-2, 2), ymin=-2, ymax=2,\n",
    "    thickness=3,\n",
    "    color = 'green'\n",
    ")\n",
    "unbdd = plot(\n",
    "    [1/(1+(exp(-t)/C)) for C in [-0.02, -0.05, -0.1]], \n",
    "    (-2, 2), ymin=-2, ymax=2,\n",
    "    thickness=3,\n",
    "    color = 'red'\n",
    ")\n",
    "psol = plot(\n",
    "    2/(2+exp(-t)),\n",
    "    (-2, 2), ymin=-2, ymax=2,\n",
    "    thickness=7,\n",
    "    color = 'blue',\n",
    "    linestyle = '--'\n",
    ")\n",
    "show(sf + stbl + unbdd + psol)"
   ]
  },
  {
   "cell_type": "markdown",
   "metadata": {},
   "source": [
    "### Prob 7\n",
    "\n",
    "Consider the IVP $x' = 4x(7-x)$ with $x(0)=11$. This is a separable first order DE. We write\n",
    "$$\n",
    "    \\int \\frac{\\dd{x}}{x(7-x)} = \\int 4\\dd{t}\n",
    "$$ \n",
    "\n",
    "The LHS is $4t+\\tilde{C}$. Using partial fractions for the RHS,\n",
    "$$\n",
    "    \\int \\frac17\\left(\\frac1x - \\frac1{x-7}\\right) \\dd{x}  = \\frac17\\log\\left|\\frac x{x-7}\\right|.\n",
    "$$\n",
    "\n",
    "From the two above, we find the implicit general solution\n",
    "$$\n",
    "    \\frac x{x-7} = Ce^{28t}\n",
    "$$\n",
    "\n",
    "With $x(0) = 11$, $C = \\frac{11}4$.\n",
    "\n",
    "Isolating $x$, the explicit solution is\n",
    "$$\n",
    "    x(t) = \\frac{77}{11 - 4\\exp{-28t}}.\n",
    "$$\n",
    "\n",
    "This solution is plotted as a blue dashed line in the following figure."
   ]
  },
  {
   "cell_type": "code",
   "execution_count": null,
   "metadata": {},
   "outputs": [],
   "source": [
    "x, t, C = var('x t C')\n",
    "f = 4*x*(7 - x)\n",
    "sf = plot_slope_field(\n",
    "    f, \n",
    "    (t, 0, 0.1),\n",
    "    (x, -2, 11)\n",
    ")\n",
    "sols = plot(\n",
    "    [(7*C)/(C-exp(-28*t)) for C in [11, 11/2, 1, -2, -0.1, -0.4]], \n",
    "    (0, 0.1), ymin=-2, ymax=11,\n",
    "    thickness=3,\n",
    "    color = 'green'\n",
    ")\n",
    "unbdd = plot(\n",
    "    [(7*C)/(C-exp(-28*t)) for C in [0.01, 0.03, 0.06]], \n",
    "    (0, 0.1), ymin=-2, ymax=11,\n",
    "    thickness=3,\n",
    "    color = 'red'\n",
    ")\n",
    "psol = plot(\n",
    "    (7*(11/4))/(11/4-exp(-28*t)),\n",
    "    (0, 0.1), ymin=-2, ymax=11,\n",
    "    thickness=7,\n",
    "    color = 'blue',\n",
    "    linestyle = '--'\n",
    ")\n",
    "show(sf + sols + unbdd + psol)"
   ]
  },
  {
   "cell_type": "markdown",
   "metadata": {},
   "source": [
    "### Prob 12\n",
    "\n",
    "Suppose a population of alligators $P$ satisfies $P' = kP^2$. This is a first order autonomous separable DE, with general solution\n",
    "$$\n",
    "    P(t) = \\frac{-1}{kt+C}.\n",
    "$$\n",
    "\n",
    "Given two points $(12,0)$ and $(24,10)$ in the particular solution, we've a system of two equations with two unknowns.\n",
    "\n",
    "$$\n",
    "    P(0) = 12 \\implies C = \\frac{-1}{12}\\\\\n",
    "    P(10) = 24 \\implies k = \\frac1{240}.\n",
    "$$\n",
    "\n",
    "Having determined our particular solution, we may proceed to ask at what time $\\tau$ the population is $40$.\n",
    "$$\n",
    "\\begin{align}\n",
    "    P(\\tau) = 40 &\\implies \n",
    "        \\frac{-1}{\\frac1{240}\\tau+\\frac{-1}{12}} = 40\\\\ &\\implies\n",
    "        \\tau = 14.\n",
    "\\end{align}\n",
    "$$\n",
    "\n",
    "Notice that $P$ blows up as $t \\to 20$---there's a horizontal asymptote at $t = 20$.\n",
    "\n",
    "We'll compute $P(14)$ to check the solution."
   ]
  },
  {
   "cell_type": "code",
   "execution_count": null,
   "metadata": {},
   "outputs": [],
   "source": [
    "P = -1/(t/240-1/12)\n",
    "P(14)"
   ]
  },
  {
   "cell_type": "markdown",
   "metadata": {},
   "source": [
    "### Prob 23\n",
    "\n",
    "We'll discuss the separable, autonomous DE $$x' = 0.8x - 0.004x^2.$$\n",
    "\n",
    "First, let's consider the phase diagram ($x'$ plotted against $x$). There are two critical points, and thus two equilibrium solutions, $x = 0$ and $x = 200$. We can see that $x=0$ is a unstable equilibrium and $x = 200$ is a stable equilibrium.\n",
    "\n",
    "It follows that, if we suppose $x(0) > 0$, the supremum of the $x(t)$ for all $t>0$ is $200$."
   ]
  },
  {
   "cell_type": "code",
   "execution_count": null,
   "metadata": {},
   "outputs": [],
   "source": [
    "x = var('x')\n",
    "plot(0.8*x - 0.004*x^2, (x, -10, 210))"
   ]
  },
  {
   "cell_type": "markdown",
   "metadata": {},
   "source": [
    "Let's find a particular solution for this DE given the IC $x(0) = 50$.\n",
    "\n",
    "Using partial fraction decomposition, we come to the implicit general solution \n",
    "$$\n",
    "    \\frac{x}{x-200} = C\\exp{4t/5}.\n",
    "$$\n",
    "\n",
    "The IC requires $C = -1/3$. We proceed to find the explicit particular solution\n",
    "$$\n",
    "x(t) = \\frac{200}{1 + 3\\exp{-4t/5}}.\n",
    "$$\n",
    "\n",
    "Graphically, it seems $x$ reaches $100$ at $t=1.15$. Solving for $\\tau$ such that $x(\\tau) = 100$, we find that $$\\tau = \\frac{5\\log{3}}{4} \\approx 1.373.$$"
   ]
  },
  {
   "cell_type": "code",
   "execution_count": null,
   "metadata": {},
   "outputs": [],
   "source": [
    "x, t = var('x t')\n",
    "f = 0.8*x - 0.004*x^2\n",
    "sf = plot_slope_field(\n",
    "    f, \n",
    "    (t, 0, 5),\n",
    "    (x, 1, 200)\n",
    ")\n",
    "psol = plot(\n",
    "    200/(1 + 3*exp(-4*t/5)),\n",
    "    (0, 5), ymin=0, ymax=200\n",
    ")\n",
    "show(sf + psol)"
   ]
  },
  {
   "cell_type": "markdown",
   "metadata": {},
   "source": [
    "### Prob 32\n",
    "\n",
    "We derive the solution of the logistic IVP $P' = kP(M-P), P(0) = P_0$. To begin, we notice that DE in question is autonomous, first order, and separable. \n",
    "\n",
    "To integrate, we write:\n",
    "$$\n",
    "    \\int\\frac{\\dd{P}}{P(M-P)} = \\int k\\dd{t}.\n",
    "$$ \n",
    "The RHS is $kt+ \\tilde{C}$. The LHS is subject to partial fraction decomposition\n",
    "$$\n",
    "\\begin{align}\n",
    "    \\int\\frac{\\dd{P}}{P(M-P)}\\dd{P} \n",
    "        &= \\int \\frac1M\\left(\\frac{1}{P} + \\frac1{M-P}\\right)\\\\\n",
    "        &= \\frac1M \\log\\left|\\frac P{M-P}\\right|.\n",
    "\\end{align}\n",
    "$$ \n",
    "\n",
    "Equating the RHS and LHS, and exponentiating, we find the implicit general solution\n",
    "$$\n",
    "    C\\exp{kMt} = \\frac{P}{M-P}, \\qquad \\text{with } C \\in \\RR\n",
    "$$\n",
    "**Note:** $C$ may take on any value in $\\RR$, to compensate for the dropped absolute value signs. From the initial condition $P(0) = P_0$, it follows that $C = \\frac{P_0}{M-P_0}$.\n",
    "\n",
    "Isolating $P$, we have the explicit particular solution\n",
    "$$\n",
    "    P(t) = \\frac M{1+\\frac1Ce^{-kMt}} = \\frac{MP_0}{P_0+(M-P_0)e^{-kMt}}\n",
    "$$\n",
    "\n",
    "**Note:** For both $0<P_0<M$ and $P_0> M$ we have \n",
    "$$\n",
    "    \\lim_{t \\to \\infty}P(t) = M,\n",
    "$$\n",
    "which corresponds with a brief stability analysis: $P = 0$ is an unstable equilibrium, $P = M$ is a stable equilibrium."
   ]
  },
  {
   "cell_type": "markdown",
   "metadata": {},
   "source": [
    "## Aside"
   ]
  },
  {
   "cell_type": "markdown",
   "metadata": {},
   "source": [
    "Here's a lessson that the *particular* antiderivative (primitive) we choose for the integrating factor may arbitrarily differ by a constant. I was certain that either I or `sage` was mucking up the indefinite integral\n",
    "$$\n",
    "    \\int \\frac{dt}{12+5t} = \\frac{1}{5}\\log(12+5t) + C\n",
    "$$ \n",
    "because *I could find*\n",
    "$$\n",
    "     \\int \\frac{dt}{12+5t} = \\frac{1}{5}\\log\\left(\\frac{12}{5}+t\\right) + \\tilde{C},\n",
    "$$\n",
    "\n",
    "until I realized that both primitives above differed by only a constant, $\\frac{\\log{5}}{5}$.\n",
    "\n",
    "It's also a lesson that `sage` has a preference to factor before integrating. I choose to examine different cases $m = 1, 2, \\ldots$, as if to *catch* `sage` in the act of *not dividing* $5$ out of $12$.\n",
    "\n",
    "Here's a plot of the functions."
   ]
  },
  {
   "cell_type": "code",
   "execution_count": null,
   "metadata": {},
   "outputs": [],
   "source": [
    "plot([(12+(m*t))^(-1) for m in [1..6]], (t,0,10), legend_label='automatic')"
   ]
  },
  {
   "cell_type": "markdown",
   "metadata": {},
   "source": [
    "Here's dread plot of the primitives that `sage` found symbolically. (Notice that $m = 5$ just seems terribly out of order.)"
   ]
  },
  {
   "cell_type": "code",
   "execution_count": null,
   "metadata": {},
   "outputs": [],
   "source": [
    "plot([integrate((12+(m*t))^(-1), t) for m in [1..6]], (t,0,10), legend_label='automatic')"
   ]
  },
  {
   "cell_type": "markdown",
   "metadata": {},
   "source": [
    "I couldn't deal with the malalignment. So I forced my own interpretation of how `sage` should've symbolically integrated (to keep the order, sheesh)."
   ]
  },
  {
   "cell_type": "code",
   "execution_count": null,
   "metadata": {},
   "outputs": [],
   "source": [
    "plot([log(t + 12), 1/2*log(t + 6), 1/3*log(t + 4), 1/4*log(t + 3), 1/5*log(t + 12/5), 1/6*log(t + 2)], (t,0,10), legend_label='automatic')"
   ]
  },
  {
   "cell_type": "markdown",
   "metadata": {},
   "source": [
    "Then, after trying to phrase the question for stack exchange, I realized that indeed, the two functions in question only differed by a constant."
   ]
  },
  {
   "cell_type": "code",
   "execution_count": null,
   "metadata": {},
   "outputs": [],
   "source": [
    "plot([log(t + 12), 1/2*log(t + 6), 1/3*log(t + 4), 1/4*log(t + 3), 1/5*(log(5*t + 12)-log(5)), 1/6*log(t + 2)],  (t,0,10), legend_label='automatic')"
   ]
  },
  {
   "cell_type": "markdown",
   "metadata": {},
   "source": [
    "All this to say, I must *remember*\n",
    "- $\\log{ab} = \\log{a} + \\log{b}$ and\n",
    "- there are infinitely many primatives (which differ by a constant) for a given function."
   ]
  },
  {
   "cell_type": "code",
   "execution_count": null,
   "metadata": {},
   "outputs": [],
   "source": []
  }
 ],
 "metadata": {
  "kernelspec": {
   "display_name": "SageMath 8.0",
   "language": "",
   "name": "sagemath"
  },
  "language_info": {
   "codemirror_mode": {
    "name": "ipython",
    "version": 2
   },
   "file_extension": ".py",
   "mimetype": "text/x-python",
   "name": "python",
   "nbconvert_exporter": "python",
   "pygments_lexer": "ipython2",
   "version": "2.7.13"
  }
 },
 "nbformat": 4,
 "nbformat_minor": 2
}
