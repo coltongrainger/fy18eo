{
 "cells": [
  {
   "cell_type": "markdown",
   "metadata": {},
   "source": [
    "$\n",
    "    \\newcommand{\\RR}{\\mathbf{R}}\n",
    "    \\newcommand{\\dv}[3][]{\\frac{d^{#1} #2}{d {#3}^{#1}}}\n",
    "    \\newcommand{\\dwrt}[2][]{\\frac{d^{#1}}{d {#2}^{#1}}}\n",
    "    \\newcommand{\\pdv}[3][]{\\frac{\\partial^{#1} #2}{\\partial {#3}^{#1}}}\n",
    "    \\newcommand{\\pdwrt}[2][]{\\frac{\\partial^{#1}}{\\partial {#2}^{#1}}}\n",
    "    \\newcommand{\\dd}[2][]{\\, d^{#1}#2}\n",
    "    \\newcommand{\\qty}[1]{\\left[#1 \\right]}\n",
    "    \\renewcommand{\\exp}[1]{e^{#1}}\n",
    "    \\newcommand{\\qq}[1]{\\qquad \\text{#1}\\qquad}\n",
    "    \\newcommand{\\leadsto}{\\quad & \\implies \\quad}\n",
    "$"
   ]
  },
  {
   "cell_type": "markdown",
   "metadata": {},
   "source": [
    "# MATH 310-10: Project 2\n",
    "- Submitted 10/3/17 by Colton Grainger for MATH 310-10: Ordinary Differential Equations, Engineering Outreach\n",
    "- **Text:** http://www.webpages.uidaho.edu/~barannyk/Teaching/matlab_project2.pdf"
   ]
  },
  {
   "cell_type": "markdown",
   "metadata": {},
   "source": [
    "## Euler Method\n",
    "I've defined the Python function `euler` with a while loop. It returns a list of ordered pairs."
   ]
  },
  {
   "cell_type": "code",
   "execution_count": null,
   "metadata": {},
   "outputs": [],
   "source": [
    "def euler (f, x0, y0, h, xmax):\n",
    "    x, y = x0, y0\n",
    "    xd, yd = [x0], [y0]\n",
    "    while x < xmax:\n",
    "        y = y + h*f(y, x)\n",
    "        yd.append(y)\n",
    "        x = x + h\n",
    "        xd.append(x)\n",
    "    return(zip(xd,yd))"
   ]
  },
  {
   "cell_type": "markdown",
   "metadata": {},
   "source": [
    "### &sect; 2.4 Prob 17\n",
    "\n",
    "We approximate solutions to the IVP $y' = x^2 + y^2,\\ y(0)=0$ on the interval $[0,1]$.\n",
    "- I'll compute with step sizes `h = 0.1, 0.02, 0.004, 0.0008`. \n",
    "    - We'll generate lists with `11, 51, 251, 1251` ordered pairs, respectively.\n",
    "- Then I'll compile the data into a table, aligned `10` ordered pairs from each method."
   ]
  },
  {
   "cell_type": "code",
   "execution_count": null,
   "metadata": {},
   "outputs": [],
   "source": [
    "def f(y, x):\n",
    "    return x^2 + y^2"
   ]
  },
  {
   "cell_type": "code",
   "execution_count": null,
   "metadata": {},
   "outputs": [],
   "source": [
    "sols = [euler(f, 0, 0, h, 1) for h in [0.1, 0.02, 0.004, 0.0008]]"
   ]
  },
  {
   "cell_type": "code",
   "execution_count": null,
   "metadata": {},
   "outputs": [],
   "source": [
    "for j in range (10):\n",
    "    print 'x =',j+1,'/10, y =',[N(sols[i][(5^i)*j+1][0], digits = 4) for i in range(4)]"
   ]
  },
  {
   "cell_type": "markdown",
   "metadata": {},
   "source": [
    "Here's a plot of the slope field and our approximations, which appear to be converging."
   ]
  },
  {
   "cell_type": "code",
   "execution_count": null,
   "metadata": {},
   "outputs": [],
   "source": [
    "p = sum([list_plot([sols[i][(5^i)*j] for j in range (11)],plotjoined=True) for i in range(4)])\n",
    "x, y = var('x y')\n",
    "sf = plot_slope_field(x^2 + y^2,(x, 0, 1),(y, 0, 0.4))\n",
    "show(p + sf)"
   ]
  },
  {
   "cell_type": "markdown",
   "metadata": {},
   "source": [
    "### &sect; 2.4 Prob 21\n",
    "\n",
    "We approximate solutions to the IVP $y' = \\log(y),\\ y(1)=2$ on the interval $[1,2]$.\n",
    "- I'll compute with step sizes `h = 0.1, 0.02, 0.004, 0.0008`. "
   ]
  },
  {
   "cell_type": "code",
   "execution_count": null,
   "metadata": {},
   "outputs": [],
   "source": [
    "def f(y, x):\n",
    "    return log(y)"
   ]
  },
  {
   "cell_type": "code",
   "execution_count": null,
   "metadata": {},
   "outputs": [],
   "source": [
    "sols = [euler(f, 1, 2, h, 2) for h in [0.1, 0.02, 0.004, 0.0008]]"
   ]
  },
  {
   "cell_type": "code",
   "execution_count": null,
   "metadata": {},
   "outputs": [],
   "source": [
    "for j in range (10):\n",
    "    print 'x = 1 +',j+1,'/10, y =',[N(sols[i][(5^i)*j+1][0], digits = 5) for i in range(4)]"
   ]
  },
  {
   "cell_type": "markdown",
   "metadata": {},
   "source": [
    "## Improved Euler"
   ]
  },
  {
   "cell_type": "code",
   "execution_count": null,
   "metadata": {},
   "outputs": [],
   "source": [
    "def impeuler (f, x0, y0, h, xmax):\n",
    "    x = x0\n",
    "    u, y = y0, y0\n",
    "    xd, yd = [x0], [y0]\n",
    "    while x < xmax:\n",
    "        u = y + h*f(y, x)\n",
    "        y = y + (h/2)*(f(y, x) + f(u, x + h))\n",
    "        yd.append(y)\n",
    "        x = x + h\n",
    "        xd.append(x)\n",
    "    return(zip(xd,yd))"
   ]
  },
  {
   "cell_type": "markdown",
   "metadata": {},
   "source": [
    "### &sect; 2.5 Prob 29\n",
    "\n",
    "Consider the IVP $P' = 0.0225P - 0.0003P^2,\\ P(0) = 25$ on the interval $[0,\\infty)$."
   ]
  },
  {
   "cell_type": "code",
   "execution_count": null,
   "metadata": {},
   "outputs": [],
   "source": [
    "def f(P, t):\n",
    "    return 0.0225*P - 0.0003*P^2"
   ]
  },
  {
   "cell_type": "markdown",
   "metadata": {},
   "source": [
    "Let's approximate with the **improved Euler method**.\n",
    "1. First with step size `h = 1`.\n",
    "2. Then with step size `h = 0.5`."
   ]
  },
  {
   "cell_type": "code",
   "execution_count": null,
   "metadata": {},
   "outputs": [],
   "source": [
    "sols = [impeuler(f, 0, 25, 1, 10) for h in [1, 0.5]]"
   ]
  },
  {
   "cell_type": "code",
   "execution_count": null,
   "metadata": {},
   "outputs": [],
   "source": [
    "for j in range (11):\n",
    "    print 't =',j,'  P =',[N(sols[i][j][1], digits = 5) for i in range(2)]"
   ]
  },
  {
   "cell_type": "markdown",
   "metadata": {},
   "source": [
    "What percentage of the limiting population $P = 75$ is attained after 5 years? 10 years? "
   ]
  },
  {
   "cell_type": "code",
   "execution_count": null,
   "metadata": {},
   "outputs": [],
   "source": [
    "print \"After 5 years\", N(100*(sols[0][5][1]/75), digits = 4)\n",
    "print \"After 10 years\", N(100*(sols[0][10][1]/75), digits = 4)"
   ]
  },
  {
   "cell_type": "markdown",
   "metadata": {},
   "source": [
    "Notice there's no difference between the approximations at $3$ decimal places. (It's because the graph of the solution has nearly zero curvature until $t > 60$. That is, even large step sizes can closely approximate constant slope.) \n",
    "\n",
    "Here's a plot carried to $100$ years."
   ]
  },
  {
   "cell_type": "code",
   "execution_count": null,
   "metadata": {},
   "outputs": [],
   "source": [
    "list_plot(impeuler(f, 0, 25, 1, 100), plotjoined = True, color = 'blue', gridlines = 'minor')"
   ]
  },
  {
   "cell_type": "markdown",
   "metadata": {},
   "source": [
    "## Runge-Kutta 4th order"
   ]
  },
  {
   "cell_type": "code",
   "execution_count": null,
   "metadata": {},
   "outputs": [],
   "source": [
    "def rk4 (f, x0, y0, h, xmax):\n",
    "    x = x0\n",
    "    y = y0\n",
    "    xd, yd = [x0], [y0]\n",
    "    while x < xmax:\n",
    "        #u1 = y\n",
    "        m1 = f(y, x)\n",
    "        \n",
    "        u2 = y + (h/2)*m1\n",
    "        m2 = f(u2, x + h/2)\n",
    "        \n",
    "        u3 = y + (h/2)*m2\n",
    "        m3 = f(u3, x + h/2)\n",
    "        \n",
    "        u4 = y + h*m3\n",
    "        m4 = f(u4, x + h)\n",
    "\n",
    "        y = y + (h/6)*(m1 + 2*m2 + 2*m3 + m4)\n",
    "        yd.append(y)\n",
    "        x = x + h\n",
    "        xd.append(x)\n",
    "    return(zip(xd,yd))"
   ]
  },
  {
   "cell_type": "markdown",
   "metadata": {},
   "source": [
    "### &sect; 2.6 Prob 29\n",
    "\n",
    "Consider the IVP $v' = -0.04\\cdot v - 9.8,\\ v(0) = 49$ on the interval $[0,10]$."
   ]
  },
  {
   "cell_type": "code",
   "execution_count": null,
   "metadata": {},
   "outputs": [],
   "source": [
    "def f(v, t):\n",
    "    return -0.04*v - 9.8"
   ]
  },
  {
   "cell_type": "markdown",
   "metadata": {},
   "source": [
    "Let's approximate with the **Runge-Kutta 4th order method**.\n",
    "1. First with step size `h = 0.1`.\n",
    "2. Then with step size `h = 0.05`.\n",
    "3. Lastly we compare values to the exact solution $v(t) = 294e^{-t/25}-245$."
   ]
  },
  {
   "cell_type": "code",
   "execution_count": null,
   "metadata": {},
   "outputs": [],
   "source": [
    "sols = [rk4(f, 0, 49, h, 10) for h in [0.1, 0.05]]"
   ]
  },
  {
   "cell_type": "code",
   "execution_count": null,
   "metadata": {},
   "outputs": [],
   "source": [
    "for j in range (11):\n",
    "    print 't =',j,'  v =',[N(sols[i][(2^i)*10*j][1], digits = 5) for i in range(2)], '  exact = ', n(294*exp(-j/25)-245, digits = 5)"
   ]
  },
  {
   "cell_type": "markdown",
   "metadata": {},
   "source": [
    "The approximations and the exact solution agree to $3$ decimal places, save for the values at which $\\frac{dv}{dt} \\approx 0$, where the approximations appear to slightly lag behind the exact solution. Here's a plot."
   ]
  },
  {
   "cell_type": "code",
   "execution_count": null,
   "metadata": {},
   "outputs": [],
   "source": [
    "sum([\n",
    "    list_plot(rk4(f, 0, 49, 0.1, 10), plotjoined = True, color = 'green'),\n",
    "    list_plot(rk4(f, 0, 49, 0.05, 10), plotjoined = True, color = 'blue'),   \n",
    "    list_plot([(t, 294*exp(-t/25)-245) for t in [0, 1,.. ,10]], plotjoined = True, color = 'purple')  \n",
    "])"
   ]
  },
  {
   "cell_type": "markdown",
   "metadata": {},
   "source": [
    "Looking at the graph of the velocity, it's natural for us to integrate. \n",
    "\n",
    "We can approximate the position function $y(t)$ with the Reimann sum $$\\sum_{n=0}^{t/h} v(t) \\cdot h$$ where $h = 0.05$ (noting that $t/h$ is the number of steps to take)."
   ]
  },
  {
   "cell_type": "code",
   "execution_count": null,
   "metadata": {},
   "outputs": [],
   "source": [
    "def y(t):\n",
    "    return sum([sols[1][n][1]*0.05 for n in range((t)/0.05)])"
   ]
  },
  {
   "cell_type": "markdown",
   "metadata": {},
   "source": [
    "Let's compare these values to the exact solution $y(t) = 7350(1-e^{-t/25})-245t$."
   ]
  },
  {
   "cell_type": "code",
   "execution_count": null,
   "metadata": {},
   "outputs": [],
   "source": [
    "for t in range(11):\n",
    "    print \"t = \", t, \"   y = \", N(y(t), digits = 5), \"   exact = \", N(7350*(1-exp(-t/25))-245*t, digits = 5)"
   ]
  },
  {
   "cell_type": "markdown",
   "metadata": {},
   "source": [
    "Because approximation's *velocity* lags slightly behind the exact solution, the approximation for $y$ attains a greater maximum value. \n",
    "\n",
    "**Note:** If the exact solution were not available, we could determine the maximum height by taking a Riemann sum to the value of $\\tau$ for which $\\frac{dv}{dt} \\approx 0$. Indeed, $\\tau$ is the ascent time. To find the descent time, we need to find the time $\\tau_f$ such that $y(\\tau_f) \\approx 0$. This boils down to writing a while loop which proceeds until the Riemann sum representing the position is negative."
   ]
  },
  {
   "cell_type": "code",
   "execution_count": null,
   "metadata": {},
   "outputs": [],
   "source": []
  }
 ],
 "metadata": {
  "kernelspec": {
   "display_name": "SageMath 8.0",
   "language": "",
   "name": "sagemath"
  },
  "language_info": {
   "codemirror_mode": {
    "name": "ipython",
    "version": 2
   },
   "file_extension": ".py",
   "mimetype": "text/x-python",
   "name": "python",
   "nbconvert_exporter": "python",
   "pygments_lexer": "ipython2",
   "version": "2.7.13"
  }
 },
 "nbformat": 4,
 "nbformat_minor": 2
}
