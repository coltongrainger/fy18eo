{
 "cells": [
  {
   "cell_type": "markdown",
   "metadata": {},
   "source": [
    "$\n",
    "    \\newcommand{\\RR}{\\mathbf{R}}\n",
    "    \\newcommand{\\dv}[3][]{\\frac{d^{#1} #2}{d {#3}^{#1}}}\n",
    "    \\newcommand{\\dwrt}[2][]{\\frac{d^{#1}}{d {#2}^{#1}}}\n",
    "    \\newcommand{\\pdv}[3][]{\\frac{\\partial^{#1} #2}{\\partial {#3}^{#1}}}\n",
    "    \\newcommand{\\pdwrt}[2][]{\\frac{\\partial^{#1}}{\\partial {#2}^{#1}}}\n",
    "    \\newcommand{\\dd}[2][]{\\ d^{#1}#2}\n",
    "    \\newcommand{\\qty}[1]{\\left[#1 \\right]}\n",
    "    \\renewcommand{\\exp}[1]{e^{#1}}\n",
    "    \\newcommand{\\qq}[1]{\\qquad \\mathrm{#1}\\qquad}\n",
    "    \\newcommand{\\leadsto}{\\quad & \\implies \\quad}\n",
    "$"
   ]
  },
  {
   "cell_type": "markdown",
   "metadata": {},
   "source": [
    "# MATH 310-10: Homework 1\n",
    "- Submitted 9/8/17 by Colton Grainger for MATH 310-10: Ordinary Differential Equations, Engineering Outreach\n",
    "- **Text:** *Differential Equations and Boundary Value Problems: Computing and Modeling* by C. Henry Edwards, David E. Penney and David Calvis, 5th Edition, Prentice Hall"
   ]
  },
  {
   "cell_type": "markdown",
   "metadata": {},
   "source": [
    "## &sect; 1.1\n",
    "### Prob 1\n",
    "\n",
    "We verify that the function $y \\colon \\RR \\to \\RR$ defined $y(x) = x^3 + 7$ is a solution for the DE $y' = 3x^2$.\n",
    "\n",
    "Differentiating,\n",
    "\\begin{align}\n",
    "    \\dwrt{x}\\qty{y} \n",
    "        & = \\dwrt{x}\\qty{x^3 + 7}\\\\\n",
    "        & = 3x^2,\n",
    "\\end{align}\n",
    "\n",
    "and substituting, we obtain the identity $3x^2 = 3x^2$."
   ]
  },
  {
   "cell_type": "markdown",
   "metadata": {},
   "source": [
    "### Prob 3\n",
    "\n",
    "We verify that $y_1=\\cos 2x$ and $y_2 = \\sin 2x$ are solutions for the DE $y'' + 4y = 0$. \n",
    "\n",
    "Differentiating $y_1$ twice,\n",
    "\\begin{align}\n",
    "    \\dwrt[2]{x}\\qty{y_1} \n",
    "        & = \\frac{d^2}{dx^2}[\\cos 2x]\\\\\n",
    "        & = \\frac{d}{dx}[2\\sin 2x]\\\\\n",
    "        &= -4 \\cos 2x.\n",
    "\\end{align}\n",
    "\n",
    "Similarly\n",
    "\\begin{align}\n",
    "    \\frac{d^2}{dx^2}[y_2] \n",
    "        & = \\frac{d^2}{dx^2}[\\sin 2x]\\\\\n",
    "        & = \\frac{d}{dx}[-2\\cos 2x]\\\\\n",
    "        &= -4 \\sin 2x.\n",
    "\\end{align}\n",
    "\n",
    "Substituting, we obtain one of two identities $$ -4\\cos 2x + 4\\cos 2x = 0,\\\\ -4\\sin 2x + 4\\sin 2x = 0.$$"
   ]
  },
  {
   "cell_type": "markdown",
   "metadata": {},
   "source": [
    "### Prob 11\n",
    "We verify that $y_0=\\frac{1}{x^2}$ and $y_1 = \\frac{\\ln x}{x^2}$ are solutions for the DE $x^2y''+5xy'+4y=0$."
   ]
  },
  {
   "cell_type": "code",
   "execution_count": null,
   "metadata": {},
   "outputs": [],
   "source": [
    "x = var('x')\n",
    "y = [1/x^2, ln(x)/x^2]\n",
    "print(y[0])\n",
    "print(y[1])"
   ]
  },
  {
   "cell_type": "markdown",
   "metadata": {},
   "source": [
    "Above I've printed the two entries in the list `y`. \n",
    "\n",
    "We'll wee that both entries, indexed as `y[0]` and `y[1]`, produce identities when substituted into the DE (at all points $x\\neq 0$).\n",
    "\n",
    "I'll use the `diff` function, where\n",
    "\n",
    "`diff(y[0],x,2)` = $\\dd[2]{x}\\qty{y_0}$."
   ]
  },
  {
   "cell_type": "code",
   "execution_count": null,
   "metadata": {},
   "outputs": [],
   "source": [
    "x^2*diff(y[0],x,2)+5*x*diff(y[0],x)+4*y[0]==0"
   ]
  },
  {
   "cell_type": "markdown",
   "metadata": {},
   "source": [
    "So `y[0]` produces an identity when subsituted into the DE.\n",
    "\n",
    "Subsituting `y[1]` into the LHS of the DE, we have:"
   ]
  },
  {
   "cell_type": "code",
   "execution_count": null,
   "metadata": {},
   "outputs": [],
   "source": [
    "show(x^2*diff(y[1],x,2)+5*x*diff(y[1],x)+4*y[1])"
   ]
  },
  {
   "cell_type": "markdown",
   "metadata": {},
   "source": [
    "Cancelling $x^2$ and grouping like terms in the above expression, we have $\\frac{0}{x^2}$, which is zero for all $x\\neq 0$. \n",
    "\n",
    "Whence `y[1]` also produces the identity $0=0$.\n",
    "\n",
    "We have shown that both `y[0]` and `y[1]` are solutions to the DE."
   ]
  },
  {
   "cell_type": "markdown",
   "metadata": {},
   "source": [
    "### Prob 13 \n",
    "We determine all real values of $r$ such that $y=\\exp{rx}$ is a solution to the DE $3y'=2y$.\n",
    "\n",
    "Well $y' = r\\exp{rx}$, so $r$ must satisfy $3r\\exp{rx} = 2\\exp{rx}$, i.e., $r = 2/3$.\n"
   ]
  },
  {
   "cell_type": "markdown",
   "metadata": {},
   "source": [
    "### Prob 23\n",
    "We will verify that $y(x) = \\frac{1}{4}x^5 + Cx^{-3}$ satisfies the DE $x\\dv{y}{x} + 3y = 2x^5$. \n",
    "\n",
    "As \n",
    "$$\n",
    "    3y = \\frac{3}{4}x^5 + 3Cx^{-3}\n",
    "$$ \n",
    "and \n",
    "$$\n",
    "    xy' = x\\qty{\\frac{5}{4}x^4 -3Cx^{-4}},\n",
    "$$ \n",
    "their sum is \n",
    "$$\n",
    "    \\frac{3}{4}x^5 + 3Cx^{-3} + \\frac{5}{4}x^5 -3Cx^{-3} = 2x^5,\n",
    "$$\n",
    "demonstrating that $y$ is a solution to the DE for all real $x \\neq 0$.\n",
    "\n",
    "Let's plot $y$ while varying $C$ by increments of $25$ through $[-100,0]$."
   ]
  },
  {
   "cell_type": "code",
   "execution_count": null,
   "metadata": {},
   "outputs": [],
   "source": [
    "plot([(1/4)*x^5 + (25*C)*x^(-3) for C in [-4..0]], (1.5, 2.5), legend_label='automatic')"
   ]
  },
  {
   "cell_type": "markdown",
   "metadata": {},
   "source": [
    "Seems like the graph where $C=-50$ passes nearby the point $(2,1)$. \n",
    "\n",
    "Let's use our initial condition to find find $C$ algebraically.\n",
    "\\begin{align}\n",
    "    y(2)=1 \\leadsto \n",
    "        \\frac{1}{4}2^5 + C\\times2^{-3} = 1\\\\ \\leadsto\n",
    "        C = 57.\n",
    "\\end{align}"
   ]
  },
  {
   "cell_type": "markdown",
   "metadata": {},
   "source": [
    "### Prob 31 \n",
    "\n",
    "We are interested in the function $g:D\\to \\mathbf{R}$ (where $D\\subset \\mathbf{R}$) such that \"the line tangent to the graph of $g$ at $(x,y)$ passes through the point $(-y,x)$\".\n",
    "\n",
    "Let $x$ and $y$ be indepedent and dependent variables, respectively. Let's consider the plane region $[-3,3]\\times [-3,3]$."
   ]
  },
  {
   "cell_type": "code",
   "execution_count": null,
   "metadata": {},
   "outputs": [],
   "source": [
    "x,y = var('x y')\n",
    "r = 3"
   ]
  },
  {
   "cell_type": "markdown",
   "metadata": {},
   "source": [
    "The line tangent to $g$ at $(x_0,y_0)$ can be written in slope-point form: $$y - y_0 = \\frac{dg}{dx}\\Big|_{x=x_0}(x-x_0).$$ \n",
    "\n",
    "From our supposition, $(-y_0,x_0)$ is a point on this line. Substitution implies $$x_0 - y_0 = \\frac{dg}{dx}\\Big|_{x=x_0}(-y_0-x_0).$$\n",
    "\n",
    "In general, $$\\frac{dg}{dx} = \\frac{y-x}{x+y}.$$\n",
    "\n",
    "Notice that $\\frac{dg}{dx}$ is discontinuous when $y=-x$, with $\\left|\\frac{dg}{dx}\\right|\\to \\infty$ nearby. \n",
    "\n",
    "We'll the plot the slope field of $g$ with $\\frac{dg}{dx}$. Then we'll plot solution curves found numerically."
   ]
  },
  {
   "cell_type": "code",
   "execution_count": null,
   "metadata": {},
   "outputs": [],
   "source": [
    "g = plot_slope_field((y-x)/(x+y), (x, -r, r), (y, -r, r), headaxislength = 3, headlength = 3)\n",
    "disctnty = line([(-3,3),(3,-3)],rgbcolor=(1, 0, 0), thickness=3, legend_label='Discontinuity')"
   ]
  },
  {
   "cell_type": "code",
   "execution_count": null,
   "metadata": {},
   "outputs": [],
   "source": [
    "P1=desolve_rk4((y-x)/(x+y),y,ics=[-2,-2],end_points=[-3,0.4],step=0.01,output='plot')\n",
    "P2=desolve_rk4((y-x)/(x+y),y,ics=[-3,2.9],end_points=[-3,0],step=0.01,output='plot')\n",
    "P3=desolve_rk4((y-x)/(x+y),y,ics=[-1,2],end_points=[-1.1,-0.4],step=0.01,output='plot')\n",
    "P4=desolve_rk4((y-x)/(x+y),y,ics=[0,0.7],end_points=[-0.2,3],step=0.01,output='plot')\n",
    "\n",
    "show(disctnty+g+P1+P2+P3+P4)"
   ]
  },
  {
   "cell_type": "markdown",
   "metadata": {},
   "source": [
    "The plot below shows one solution curve found with a relatively large step size. Notice that the slope between each pair of adjacent points is increasing as the points enter quadrant IV."
   ]
  },
  {
   "cell_type": "code",
   "execution_count": null,
   "metadata": {},
   "outputs": [],
   "source": [
    "small_step=list_plot(desolve_rk4((y-x)/(x+y),y,ics=[-2,-2],end_points=[-r,0.4],step=0.1))\n",
    "show(disctnty+g+small_step)"
   ]
  },
  {
   "cell_type": "markdown",
   "metadata": {},
   "source": [
    "### Prob 35\n",
    "\n",
    "We'll write a differential equation to model the spread of a rumor among $N$ persons in a city of fixed population $P$. \n",
    "\n",
    "Suppose $N$ depends on the variable $y$. Let's assume that the time rate of change $\\dv{N}{t}$ is proportional to the number of persons who have not yet heard this rumor, $P-N$.\n",
    "\n",
    "Then we may write\n",
    "$$\n",
    "    \\dv{N}{t} = P - N\n",
    "$$\n",
    "as our mathematical model."
   ]
  },
  {
   "cell_type": "markdown",
   "metadata": {},
   "source": [
    "### Prob 45\n",
    "\n",
    "We'll find determine the time evolution (in months) of a population, $P$, of rodents.\n",
    "\n",
    "Suppose the function $P(t)$ satisfies the DE \n",
    "$$\n",
    "    \\dv{P}{t} = kP^2\n",
    "$$\n",
    "with the intial condition \n",
    "$$\n",
    "    P(0)=2\n",
    "$$ \n",
    "and the Neumann condition \n",
    "$$\n",
    "    \\dv{P}{t} = \\frac{1\\mathrm{\\ rodent}}{\\mathrm{month}} \\qq{when} P = 10 \\mathrm{\\ rodents}.\n",
    "$$\n",
    "\n",
    "We find a general solution by separating variables and integrating\n",
    "\\begin{align}\n",
    "    \\int\\frac{dP}{P^2} = \\int k \\dd{t}\n",
    "        \\leadsto \\frac{-1}{P} = kt + \\tilde{C}\\\\\n",
    "        \\leadsto P = \\frac{1}{C-kt}.\n",
    "\\end{align}\n",
    "The IC provides that $2 = 1/C$, so our particular solution is\n",
    "$$\n",
    "    P = \\frac{1}{\\frac{1}{2}-kt}.\n",
    "$$\n",
    "To apply the Neumann condition, we isolate $k$ in the DE, and substitute $\\dv{P}{t} = 1$, $P = 10$\n",
    "\\begin{align}\n",
    "    k &= \\dv{P}{t}\\times\\frac{1}{P^2}\\\\\n",
    "        &= \\frac{1}{100}.\n",
    "\\end{align}\n",
    "\n",
    "We may now write the population as\n",
    "$$\n",
    "    P(t) = \\frac{100}{50-t}.\n",
    "$$\n",
    "\n",
    "$P(t) = 100$ when\n",
    "\\begin{align}\n",
    "    t &= 50-\\frac{100}{100}\\\\\n",
    "        &= 49 \\mathrm{\\ months}.\n",
    "\\end{align}\n",
    "\n",
    "Further, $P(t) = 1000$ when \n",
    "\\begin{align}\n",
    "    t &= 50-\\frac{100}{1000}\\\\\n",
    "        &= 49.9 \\mathrm{\\ months}.\n",
    "\\end{align}\n",
    "\n",
    "We see that $P \\to \\infty$ as $t \\to 50^+$. (Unless each generation of rodents is geometrically smaller than its parent, this model doesn't seem to realistic.)"
   ]
  },
  {
   "cell_type": "markdown",
   "metadata": {},
   "source": [
    "## &sect; 1.2\n",
    "\n",
    "### Prob 3\n",
    "\n",
    "We find a function $y(x)$ that satisfies the IVP\n",
    "$$ \\dv{y}{x} = \\sqrt{x}\\\\ y(4) = 0.$$\n",
    "\n",
    "First we'll take an indefinite integral with the parameter $C$."
   ]
  },
  {
   "cell_type": "code",
   "execution_count": null,
   "metadata": {},
   "outputs": [],
   "source": [
    "C = var('C')\n",
    "y(x) = integral(x^(1/2),x)+C; \n",
    "show(y(x))"
   ]
  },
  {
   "cell_type": "markdown",
   "metadata": {},
   "source": [
    "Now we find $C$ such that $y(4) = 0$, i.e., the roots of $y(4)$ with the variable $C$."
   ]
  },
  {
   "cell_type": "code",
   "execution_count": null,
   "metadata": {},
   "outputs": [],
   "source": [
    "y(4).solve(C)"
   ]
  },
  {
   "cell_type": "markdown",
   "metadata": {},
   "source": [
    "With $C = -\\frac{16}{3}$, we graph our particular solution\n",
    "\n",
    "$$\n",
    "    y(x) = \\frac{2}{3}x^{\\frac{3}{2}}-\\frac{16}{3}.\n",
    "$$"
   ]
  },
  {
   "cell_type": "code",
   "execution_count": null,
   "metadata": {},
   "outputs": [],
   "source": [
    "plot(2/3*x^(3/2)-16/3, (0,6), legend_label='$\\\\frac{2}{3}x^{\\\\frac{3}{2}}-\\\\frac{16}{3}$')"
   ]
  },
  {
   "cell_type": "markdown",
   "metadata": {},
   "source": [
    "### Prob 8\n",
    "We find a function $y(x)$ that satisfies the IVP\n",
    "$$ \\dv{y}{x} = \\cos{2x}\\\\ y(0) = 1.$$\n",
    "\n",
    "To obtain $y$, we integrate and add the parameter $C$."
   ]
  },
  {
   "cell_type": "code",
   "execution_count": null,
   "metadata": {},
   "outputs": [],
   "source": [
    "y(x) = integral(cos(2*x),x)+C; \n",
    "show(y(x))"
   ]
  },
  {
   "cell_type": "markdown",
   "metadata": {},
   "source": [
    "If $y(0) =1$, then $C = 1$. Our particular solution is then \n",
    "$$\n",
    "     y(x) = \\frac{1}{2} \\, \\sin\\left(2 \\, x\\right) + 1.\n",
    "$$"
   ]
  },
  {
   "cell_type": "code",
   "execution_count": null,
   "metadata": {},
   "outputs": [],
   "source": [
    "label = '$\\\\frac{1}{2}\\sin{2x} + 1$'\n",
    "show(plot((1/2)*sin(2*x)+1, x, (-pi,pi), legend_label = label))"
   ]
  },
  {
   "cell_type": "markdown",
   "metadata": {},
   "source": [
    "### Prob 15\n",
    "\n",
    "We find the position function $x(t)$ of a moving particle with the given acceleration\n",
    "$$\n",
    "    a(t) =4(t+3)^2,\n",
    "$$\n",
    "initial position $x(0) = 1,$ and initial velocity $v(0) = -1$.\n",
    "\n",
    "Since $\\dv{v}{t} = a(t)$, we can find $v(t)$ by integrating\n",
    "\\begin{align*}\n",
    "    \\int\\dd{v} = \\int a(t)\\dd{t} \\leadsto\n",
    "        v(t) = \\frac{4}{3}(t+3)^3 + C_1\n",
    "\\end{align*}\n",
    "and applying the IC\n",
    "\\begin{align}\n",
    "    v(0) = -1 \\leadsto\n",
    "        -1 - \\frac{4}{3}(3)^3 = C_1\\\\ \\leadsto\n",
    "        C_1 = -37.\n",
    "\\end{align}\n",
    "\n",
    "Whence \n",
    "$$\n",
    "    v(t) = \\frac{4}{3}(t + 3)^3 - 37.\n",
    "$$\n",
    "\n",
    "Similarly, knowing $\\dv{x}{t} = v(t)$, we integrate\n",
    "\\begin{align}\n",
    "    \\int\\dd{x} = \\int v(t)\\dd{t} \\leadsto\n",
    "        x(t) = \\frac{1}{3}(t + 3)^4 - 37t + C_2\n",
    "\\end{align}\n",
    "and apply the IC\n",
    "\\begin{align}\n",
    "    x(0) = 1 \\leadsto\n",
    "        1 - \\frac{1}{3}(3)^4 = C_2\\\\ \\leadsto\n",
    "        C_2 = 27.\n",
    "\\end{align}\n",
    "\n",
    "The position function is determined \n",
    "$$\n",
    "    x(t) = \\frac{1}{3}(t + 3)^4 - 37t + 27.\n",
    "$$\n",
    "I'll plot the graph of $x$ over $[0,5]$."
   ]
  },
  {
   "cell_type": "code",
   "execution_count": null,
   "metadata": {},
   "outputs": [],
   "source": [
    "t = var('t')\n",
    "label = '$\\\\frac{1}{3}(t + 3)^4 - 37t + 27$'\n",
    "plot((1/3)*(t+3)^4 - 34*t + 27, (0,5), legend_label = label)"
   ]
  },
  {
   "cell_type": "markdown",
   "metadata": {},
   "source": [
    "### Prob 27\n",
    "\n",
    "Let $y(t)$ be the distance (in meters) from the ground to a ball thrown off a building at time $t=0$. Suppose the acceleration of the ball, $a = -9.8\\frac{\\mathrm{m}}{\\mathrm{s}^2}$ is due solely to gravity. Given the initial condition $v(0) = -10\\frac{\\mathrm{m}}{\\mathrm{s}}$ and the Neumann condition $v = -60 \\frac{\\mathrm{m}}{\\mathrm{s}}$ when $y = 0\\mathrm{m}$, we'll determine the height of the building $y_0$.\n",
    "\n",
    "As the ball undergoes constant acceleration, $v(t)$ satisfies \n",
    "\\begin{align}\n",
    "    v(t) &= at + v_0\\\\\n",
    "        &= -9.8t - 10\n",
    "\\end{align}\n",
    "and $y(t)$ satisfies\n",
    "\\begin{align}\n",
    "    y(t) &= \\frac{1}{2}at^2 + v_0t + y_0\\\\\n",
    "        &= -4.4t^2 - 10t + y_0.\n",
    "\\end{align}\n",
    "    \n",
    "When does the ball hit the ground? We'll have to find $\\tau$ such that $v(\\tau) = -60$.\n",
    "\\begin{align}\n",
    "    -9.8\\tau - 10 = -60 \\leadsto \\tau = 5.1.\n",
    "\\end{align}\n",
    "\n",
    "Knowing when the ball hits the ground, we can procure $y_0$:\n",
    "\\begin{align}\n",
    "    y(\\tau) = 0 \\leadsto\n",
    "        -4.4(5.1)^2 - 10(5.1) + y_0 = 0 \\\\ \\leadsto\n",
    "        y_0 = 165.44.\n",
    "\\end{align}\n",
    "\n",
    "We've thus determined the height of the building. It's $165.44$ meters tall."
   ]
  },
  {
   "cell_type": "markdown",
   "metadata": {},
   "source": [
    "### Prob 35\n",
    "\n",
    "Suppose a stone is dropped from rest at an initial height $h$ above the ground. We'll show that the speed with which it strikes the ground is $v = \\sqrt{2gh}$.\n",
    "\n",
    "Let $y(t)$ be the distance from the ground to the stone at time $t$. As the stone undergoes constant acceleration $g=9.8\\frac{\\mathrm{m}}{s^2}$ due to gravity, and is dropped *from rest* at a height $h$, we have\n",
    "\\begin{align}\n",
    "    y(t) &= \\frac{1}{2}at^2 + v_0t + y_0\\\\\n",
    "        &= \\frac{-1}{2}gt^2 + h.\n",
    "\\end{align}\n",
    "\n",
    "At what time does the stone hit the ground? We need to find $\\tau$ such that $y(\\tau) = 0$:\n",
    "\\begin{align}\n",
    "    \\frac{-1}{2}g\\tau^2 + h = 0 \\leadsto \\tau = \\sqrt{2h/g}.\n",
    "\\end{align}\n",
    "\n",
    "As constant acceleration and no initial velocity provide that $v(t) = -gt$,  the velocity at which the stone strikes the earth is\n",
    "\\begin{align}\n",
    "    v(\\tau) &= -g\\tau\\\\\n",
    "        &= -g \\sqrt{2h/g}\\\\\n",
    "        &= -\\sqrt{2gh}.\n",
    "\\end{align}"
   ]
  },
  {
   "cell_type": "markdown",
   "metadata": {},
   "source": [
    "## &sect; 1.3\n",
    "### Prob 1\n",
    "\n",
    "We will examine the slope field for the DE $\\frac{dy}{dx} = -y-\\sin(x)$ in the plane region $[-3,3]\\times [-3,3]$. I'll ask my computer to create the slope field with [SageMath](http://www.sagemath.org/) mathematics software system. \n",
    "\n",
    "I'll also overlay a solution curve (approximated with the 4th order Runge-Kutta method) and a set of points."
   ]
  },
  {
   "cell_type": "code",
   "execution_count": null,
   "metadata": {},
   "outputs": [],
   "source": [
    "x,y = var('x y')\n",
    "sf = plot_slope_field(-y-sin(x), (x, -3, 3), (y, -3, 3), headaxislength = 1, headlength = 2)\n",
    "soln = list_plot(desolve_rk4(-y-sin(x),y,ics=[-3,-1.4],end_points=[-3,3],step=0.05), plotjoined=True)\n",
    "coords = [(-2.5,1),(2.5,2),(1.5,2),(0.5,2),(-0.5,2),(-1.5,2),(-2.5,2),(-2,-2),(-1,-2),(0,-2),(1,-2),(2,-2)]\n",
    "ic_pts = point(coords, size=50,color='purple');\n",
    "show(sf + soln + ic_pts)"
   ]
  },
  {
   "cell_type": "markdown",
   "metadata": {},
   "source": [
    "Let's introduce some more solution curves, perhaps one for each point plotted above."
   ]
  },
  {
   "cell_type": "code",
   "execution_count": null,
   "metadata": {},
   "outputs": [],
   "source": [
    "m = [list_plot(desolve_rk4(-y-sin(x),y,ics=n,end_points=[-3,3],step=0.05), plotjoined=True, color='purple')for n in coords]\n",
    "r = sf + soln + ic_pts + m[0] + m[1] + m[2] + m[3] + m[4] + m[5] + m[6] + m[7] + m[8] + m[9] + m[10] + m[11]\n",
    "r.show(xmin=-3, xmax=3, ymin=-3, ymax=3)"
   ]
  },
  {
   "cell_type": "markdown",
   "metadata": {},
   "source": [
    "### Prob 5\n",
    "\n",
    "Consider the slope field for the DE $$\\frac{dy}{dx} = y - x + 1,$$ overlaid with a solution curve and a set of points."
   ]
  },
  {
   "cell_type": "code",
   "execution_count": null,
   "metadata": {},
   "outputs": [],
   "source": [
    "x,y = var('x y')\n",
    "sf = plot_slope_field(y - x + 1, (x, -3, 3), (y, -3, 3), headaxislength = 1, headlength = 2)\n",
    "soln = list_plot(desolve_rk4(y - x + 1,y,ics=[-3,-3],end_points=[-3,3],step=0.05), plotjoined=True)\n",
    "coords = [(-2.5,1),(-1.5,1),(-0.5,1),(0.5,1),(2,1),(2,-1),(2,-2),(1,-2),(-0.5,-2),(-1.5,-2),(-2.5,-2)]\n",
    "ic_pts = point(coords, size=50,color='purple');\n",
    "show(sf + soln + ic_pts)"
   ]
  },
  {
   "cell_type": "markdown",
   "metadata": {},
   "source": [
    "Again, we send a solution curve through each point plotted above."
   ]
  },
  {
   "cell_type": "code",
   "execution_count": null,
   "metadata": {},
   "outputs": [],
   "source": [
    "m = [list_plot(desolve_rk4(y - x + 1,y,ics=n,end_points=[-3,3],step=0.05), plotjoined=True, color='purple')for n in coords]\n",
    "r = sf + soln + ic_pts + m[0] + m[1] + m[2] + m[3] + m[4] + m[5] + m[6] + m[7] + m[8] + m[9] + m[10]\n",
    "r.show(xmin=-3, xmax=3, ymin=-3, ymax=3)"
   ]
  },
  {
   "cell_type": "markdown",
   "metadata": {},
   "source": [
    "### Prob 13\n",
    "\n",
    "We will interpret the following theorems to determine whether the existence of at least one solution for the IVP problem\n",
    "$$\n",
    "    \\dv{y}{x} = \\sqrt[3]{y} \\qq{with} y(0)=1\n",
    "$$\n",
    "is guaranteed, and, if so, to determine whether uniqueness of that solution is also guaranteed.\n",
    "\n",
    "**[Peano Existence Theorem](https://en.wikipedia.org/wiki/Peano_existence_theorem)** \n",
    "- Suppose that the function $f(x,y)$ is continuous on some region $D\\subset \\RR^2$ that contains the point $(a,b)$. \n",
    "- Then, for some open interval $I$ containing the point $a$, the initial value problem\n",
    "$$\n",
    "    \\dv{y}{x} = f(x,y) \\qq{with} y(a) = b\n",
    "$$\n",
    "has *at least one solution* that is defined on the interval $I$.\n",
    "\n",
    "**[Picard–Lindelöf Theorem](https://en.wikipedia.org/wiki/Picard%E2%80%93Lindel%C3%B6f_theorem)** \n",
    "- Suppose that both the function $f(x,y)$ and its partial derivative $\\pdwrt{y} f(x,y)$ are continuous (i.e., suppose $f$ is uniformly Lipschitz continuous) on some plane region $D$, with $(a,b) \\in D$. \n",
    "- Then, for some open interval $I$ containing $a$, the initial value problem \n",
    "$$\n",
    "    \\dv{y}{x} = f(x,y) \\qq{with} y(a) = b\n",
    "$$\n",
    "has *one and only one solution* defined on $I$.\n",
    "\n",
    "Here's our approach. We'll test the functions $f(x,y) = \\sqrt[3]{y}$ and $\\pdv{f}{y}(x,y) = \\frac{1}{3}y^{-2/3}$ for continuity on a region containing the point $(0,1)$.\n",
    "\n",
    "Well, $f$ is continuous on the upper half plane $\\RR \\times \\RR^+$. We can think about its continuity in two parts. First, $f$ has no $x$ dependence and thus is vacuously continuous for all $x \\in \\RR$. Second, $\\pdv{f}{y}$ exists for all $y > 0$, so $f$ is continuous for all $y \\in \\RR^+$. As $(0,1)$ is certainly in $\\RR \\times \\RR^+$, we know at least one solution to the IVP is guaranteed to exist on an interval $I$ containing $0$.\n",
    "\n",
    "Next, $\\pdv{f}{y}$ also continuous on the upper half plane (for reasons similar to above, and since $\\pdv[2]{f}{y} = \\frac{-2}{9}y^{-5/2}$ exists for all $y > 0$). Again, as $(0,1)$ is an element of the upper half plane, the solution that exists satisfying the IVP will also be the unique solution for an open interval $J \\subset I$."
   ]
  },
  {
   "cell_type": "markdown",
   "metadata": {},
   "source": [
    "### Prob 21\n",
    "\n",
    "We construct a slope field for the DE $y' = x + y$. Then we use the initial condition $y(0) = 0$ to find a particular solution curve. Finally, we evaluate $y(-4)$. "
   ]
  },
  {
   "cell_type": "code",
   "execution_count": null,
   "metadata": {},
   "outputs": [],
   "source": [
    "f(x,y) = y + x\n",
    "sf21 = plot_slope_field(f, (x, -4, 1), (y, -1, 4), headaxislength = 1, headlength = 2)\n",
    "soln21 = list_plot(desolve_rk4(f,y,ics=[0,0],end_points=[-4,1],step=0.05), plotjoined=True)\n",
    "show( sf21 + soln21)"
   ]
  },
  {
   "cell_type": "markdown",
   "metadata": {},
   "source": [
    "It looks like $y(-4)$ is slightly larger than $3$.\n",
    "\n",
    "When I drew the solution curve by hand, I noticed \n",
    "- $y' = 0$ along the line $y=-x$, \n",
    "- $y'$ is constant along every line of the form $y=-x+b$,\n",
    "- $y'>0$ in quadrant I and $y'<0$ in quadrant III, \n",
    "- at integer lattice points $(x,y)$, $y'$ pointing to other integer lattice points,\n",
    "- the surface $z = x + y$ is a plane in $\\RR^3$."
   ]
  },
  {
   "cell_type": "markdown",
   "metadata": {},
   "source": [
    "## &sect; 1.4\n",
    "### Prob 1\n",
    "Consider the DE \n",
    "$$\n",
    "    \\dv{y}{x} + 2xy = 0.\n",
    "$$\n",
    "\n",
    "Separating variables and integrating, we obtain the general solution.\n",
    "\\begin{align}\n",
    "    \\int \\frac{dy}{y} = \\int -2x\\dd{x} \\leadsto\n",
    "        \\log|y| = -x^2 + \\tilde{C}\\\\ \\leadsto\n",
    "        y = C\\exp{-x^2}.\n",
    "\\end{align}"
   ]
  },
  {
   "cell_type": "code",
   "execution_count": null,
   "metadata": {},
   "outputs": [],
   "source": [
    "sf = plot_slope_field(-2*x*y, (x, -2, 2), (y, 0, 1))\n",
    "p = plot(exp(-x^2), (-2,2))\n",
    "show(sf + p)"
   ]
  },
  {
   "cell_type": "markdown",
   "metadata": {},
   "source": [
    "### Prob 3\n",
    "\n",
    "Consider the DE $y' = y\\sin x$. Separating variables and integrating, we find\n",
    "\\begin{align}\n",
    "    \\int \\frac{dy}{y} = \\int \\sin x \\dd{x} \\leadsto \n",
    "        \\log|y| = -\\cos x + \\tilde{C}\\\\ \\leadsto\n",
    "        y = C\\exp{-\\cos x}.\n",
    "\\end{align}       "
   ]
  },
  {
   "cell_type": "code",
   "execution_count": null,
   "metadata": {},
   "outputs": [],
   "source": [
    "sf3 = plot_slope_field(y*sin(x), (x, -pi, pi), (y, 0, 2.7))\n",
    "p3 = plot(exp(-cos(x)), (-pi,pi))\n",
    "show(sf3 + p3)"
   ]
  },
  {
   "cell_type": "markdown",
   "metadata": {},
   "source": [
    "### Prob 21\n",
    "Consider the IVP \n",
    "$$\n",
    "    2y\\dv{y}{x} = \\frac{x}{\\sqrt{x^2 - 16}} \\qq{with} y(5) = 2.\n",
    "$$\n",
    "\n",
    "Because we're going to integrate, it's useful to notice that \n",
    "$$\n",
    "    \\dwrt{x} \\qty{\\sqrt{x^2-16}} =  \\frac{x}{\\sqrt{x^2 - 16}}.\n",
    "$$\n",
    "\n",
    "Separating variables, we find\n",
    "\\begin{align}\n",
    "    \\int  2y\\dd{y} = \\int \\frac{x}{\\sqrt{x^2 - 16}} \\dd{x} \\leadsto \n",
    "        y^2 = \\sqrt{x^2-16} + C\\\\ \\leadsto\n",
    "        y = \\sqrt{\\sqrt{x^2-16} + C}.\n",
    "\\end{align}    \n",
    "\n",
    "Applying our initial condition, we obtain\n",
    "\\begin{align}\n",
    "    y(5) = 2 \\leadsto\n",
    "        \\sqrt{\\sqrt{5^2 - 4^2}+C} = 2\\\\ \\leadsto\n",
    "        C = 2.\n",
    "\\end{align}\n",
    "\n",
    "The particular solution to the DE is thus \n",
    "$$\n",
    "    y = \\sqrt{\\sqrt{x^2-16} + 2}.\n",
    "$$"
   ]
  },
  {
   "cell_type": "code",
   "execution_count": null,
   "metadata": {},
   "outputs": [],
   "source": [
    "sf21 = plot_slope_field((x/(2*y))*(x^2-16)^(-1/2), (x, 4, 8), (y, 1, 3))\n",
    "p21 = plot(sqrt(sqrt(x^2-16)+2), (4,8))\n",
    "show(sf21 + p21)"
   ]
  },
  {
   "cell_type": "markdown",
   "metadata": {},
   "source": [
    "### Prob 29\n",
    "Consider the DE $\\dv{y}{x} = y^2$. Separating variables and integrating, we find\n",
    "\\begin{align} \n",
    "    \\int \\frac{dy}{y^2} = \\int \\dd{x} \\leadsto\n",
    "        \\frac{-1}{y} = x + C\\\\ \\leadsto\n",
    "        y = \\frac{-1}{x+C}.\n",
    "\\end{align}\n",
    "\n",
    "When we divided by $y^2$, we assumed $y \\neq 0$. This assumption removed one solution from the solution set, that is, $y \\equiv 0$."
   ]
  },
  {
   "cell_type": "code",
   "execution_count": null,
   "metadata": {},
   "outputs": [],
   "source": [
    "sf29 = plot_slope_field(y^2, (x, -2, 2), (y, -2, 2))\n",
    "p29 = plot(-1/x, (-2,2), ymin=-2, ymax=2)\n",
    "show(sf29 + p29)"
   ]
  },
  {
   "cell_type": "markdown",
   "metadata": {},
   "source": [
    "We can see that $y = \\frac{-1}{x+C}$ is a general solution that becomes unique when we apply IC $y(a) = b$ whenever $b\\neq 0$. However, at $b=0$, our solution is $y \\equiv 0$, which is also a unique solution."
   ]
  }
 ],
 "metadata": {
  "kernelspec": {
   "display_name": "SageMath 8.0",
   "language": "",
   "name": "sagemath"
  },
  "language_info": {
   "codemirror_mode": {
    "name": "ipython",
    "version": 2
   },
   "file_extension": ".py",
   "mimetype": "text/x-python",
   "name": "python",
   "nbconvert_exporter": "python",
   "pygments_lexer": "ipython2",
   "version": "2.7.13"
  }
 },
 "nbformat": 4,
 "nbformat_minor": 2
}
