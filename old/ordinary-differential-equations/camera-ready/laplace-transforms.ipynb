{
 "cells": [
  {
   "cell_type": "markdown",
   "metadata": {},
   "source": [
    "# Laplace Transforms\n",
    "\n",
    "- Submitted 12/10/17 by Colton Grainger for MATH 310-10: Ordinary Differential Equations, Engineering Outreach\n",
    "- Text: *Differential Equations and Boundary Value Problems: Computing and Modeling* by C. Henry Edwards, David E. Penney and David Calvis, 5th Edition, Prentice Hall"
   ]
  },
  {
   "cell_type": "markdown",
   "metadata": {},
   "source": [
    "## &sect; 7.1 Laplace Transform Methods\n",
    "\n",
    "We're using the definition of the Laplace Transform, given a function $f(t)$ defined on $[0, \\infty)$, \n",
    "\n",
    "$$\n",
    "F(s) = \\mathcal{L}\\{f(t)\\} = \\int_0^\\infty e^{-st}f(t)\\, dt,\n",
    "$$\n",
    "for all values of $s$ for which the improper integral converges.\n",
    "\n",
    "To ensure convergence, I'll call \n",
    "\n",
    "    assume( s > a )\n",
    "\n",
    "so that Maxima knows how $s$ behaves while integrating out $t$.\n",
    "### Prob 1"
   ]
  },
  {
   "cell_type": "code",
   "execution_count": null,
   "metadata": {},
   "outputs": [],
   "source": [
    "var(\"t\")\n",
    "f(t) = t\n",
    "plot(f, (t, 0, 1))"
   ]
  },
  {
   "cell_type": "code",
   "execution_count": null,
   "metadata": {},
   "outputs": [],
   "source": [
    "var(\"s\") \n",
    "assume( s>0 )\n",
    "F(s) = integral( f(t)*exp(-s*t), t, 0, oo )\n",
    "show(F)"
   ]
  },
  {
   "cell_type": "code",
   "execution_count": null,
   "metadata": {},
   "outputs": [],
   "source": [
    "plot(F, (s, 0, 10), ymax = 5, color = 'black')"
   ]
  },
  {
   "cell_type": "markdown",
   "metadata": {},
   "source": [
    "## Prob 4"
   ]
  },
  {
   "cell_type": "code",
   "execution_count": null,
   "metadata": {},
   "outputs": [],
   "source": [
    "f(t) = cos(t)\n",
    "plot(f, (t,0,2*pi))"
   ]
  },
  {
   "cell_type": "code",
   "execution_count": null,
   "metadata": {},
   "outputs": [],
   "source": [
    "assume( s>0 )\n",
    "F(s) = integral( f(t)*exp(-s*t), t, 0, oo )\n",
    "show(F)"
   ]
  },
  {
   "cell_type": "code",
   "execution_count": null,
   "metadata": {},
   "outputs": [],
   "source": [
    "plot(F, (s, 0, 10), color = 'black')"
   ]
  },
  {
   "cell_type": "markdown",
   "metadata": {},
   "source": [
    "## Prob 9\n",
    "\n",
    "In this question I use `unit_step`, a [generalized function](https://en.wikipedia.org/wiki/Generalized_function) defined in [Maxima](https://ask.sagemath.org/question/8041/how-can-i-integrate-the-dirac_delta-and-heaviside-functions-in-sage/?answer=37536#post-id-37536) for symbolic calculation."
   ]
  },
  {
   "cell_type": "code",
   "execution_count": null,
   "metadata": {},
   "outputs": [],
   "source": [
    "f(t) = t*(1-unit_step(t-1))\n",
    "plot(f, (t,0,2))"
   ]
  },
  {
   "cell_type": "code",
   "execution_count": null,
   "metadata": {},
   "outputs": [],
   "source": [
    "F(s) = integral( f(t)*exp(-s*t), t, 0, oo)\n",
    "show(F)"
   ]
  },
  {
   "cell_type": "code",
   "execution_count": null,
   "metadata": {},
   "outputs": [],
   "source": [
    "plot(F, (s, 0, 10), color = 'black')"
   ]
  },
  {
   "cell_type": "markdown",
   "metadata": {},
   "source": [
    "### Prob 11\n",
    "\n",
    "We have a factor of $\\sqrt{\\pi}$ from $\\Gamma(n+1/2)$, where $n = 1$ in this case."
   ]
  },
  {
   "cell_type": "code",
   "execution_count": null,
   "metadata": {},
   "outputs": [],
   "source": [
    "f(t) = sqrt(t) + 3*t\n",
    "F(s) = integral( f(t)*e^(-s*t), t, 0, oo)\n",
    "show(F)"
   ]
  },
  {
   "cell_type": "markdown",
   "metadata": {},
   "source": [
    "### Prob 13\n",
    "\n",
    "This problem can also be tackled with a result about translation on the $s$-axis.\n",
    "\n",
    "- If $F(s) = \\mathcal{L}\\{f(t)\\}$ exists for $s > c$, then $\\mathcal{L}\\{e^{at}f(t)\\}$ exists for $s > a + c$, and $\\mathcal{L}\\{e^{at}f(t)\\} = F(s-a).$"
   ]
  },
  {
   "cell_type": "code",
   "execution_count": null,
   "metadata": {},
   "outputs": [],
   "source": [
    "f(t) = t - 2*e^(3*t)\n",
    "assume( s>3 )\n",
    "F(s) = integral( f(t)*e^(-s*t), t, 0, oo)\n",
    "show(F.partial_fraction(s))"
   ]
  },
  {
   "cell_type": "markdown",
   "metadata": {},
   "source": [
    "### Prob 15"
   ]
  },
  {
   "cell_type": "code",
   "execution_count": null,
   "metadata": {},
   "outputs": [],
   "source": [
    "f(t) = 1 + cosh(5*t)\n",
    "F(s) = laplace(f, t, s)\n",
    "show(F)"
   ]
  },
  {
   "cell_type": "code",
   "execution_count": null,
   "metadata": {},
   "outputs": [],
   "source": [
    "# here's another way to see hyperbolic cosine as the sum of exponential functions\n",
    "show(F.partial_fraction(s))"
   ]
  },
  {
   "cell_type": "markdown",
   "metadata": {},
   "source": [
    "### Prob 17"
   ]
  },
  {
   "cell_type": "code",
   "execution_count": null,
   "metadata": {},
   "outputs": [],
   "source": [
    "f(t) = (cos(2*t))^2\n",
    "assume( s > 0 )\n",
    "F(s) = integral( f(t)*e^(-s*t), t, 0, oo)\n",
    "show(F.partial_fraction(s))"
   ]
  },
  {
   "cell_type": "markdown",
   "metadata": {},
   "source": [
    "Another way to compute this integral: use Euler's identity and properties of the exponential function to show \n",
    "$\\cos^2(2t) = \\frac12\\cdot(1 - \\cos(4t))$."
   ]
  },
  {
   "cell_type": "code",
   "execution_count": null,
   "metadata": {},
   "outputs": [],
   "source": [
    "#whence\n",
    "F(s) = (1/2)*(laplace(1, t, s) + laplace(cos(4*t), t, s))\n",
    "show(F)"
   ]
  },
  {
   "cell_type": "markdown",
   "metadata": {},
   "source": [
    "### Prob 21\n",
    "\n",
    "One could also integrate by parts."
   ]
  },
  {
   "cell_type": "code",
   "execution_count": null,
   "metadata": {},
   "outputs": [],
   "source": [
    "f(t) = t*cos(2*t)\n",
    "assume( s > 0 )\n",
    "F(s) = integral( f(t)*e^(-s*t), t, 0, oo)\n",
    "show(F.partial_fraction(s))"
   ]
  },
  {
   "cell_type": "markdown",
   "metadata": {},
   "source": [
    "## Inverse Laplace Transforms\n",
    "\n",
    "In general, every rational function is a Laplace transform iff (?) the degree of its numerator is less than that of its demoninator. We can identify inverse transforms by exploiting the linearity of the Laplace transform, and breaking down rational functions into sums of recognizable transforms \n",
    "- $\\mathcal{L}\\{t^a\\}$ for $a > -1$\n",
    "- $\\mathcal{L}\\{e^{at}\\}$ for $a \\in \\mathbf{R}$\n",
    "- $\\mathcal{L}\\{\\cos(kt)\\}$ (also cosh, sin, sinh)\n",
    "- transforms of step functions\n",
    "\n",
    "Again, linearity helps."
   ]
  },
  {
   "cell_type": "markdown",
   "metadata": {},
   "source": [
    "### Prob 23\n",
    "\n",
    "$$ \\mathcal{L}^{-1}\\left\\{\\frac3{s^4}\\right\\} \n",
    "= \\frac{3}{\\Gamma(4)}\\mathcal{L}^{-1}\\left\\{\\frac{\\Gamma(4)}{s^4}\\right\\} \n",
    "= \\frac12 t^3. $$\n",
    "\n",
    "Here's the computational method."
   ]
  },
  {
   "cell_type": "code",
   "execution_count": null,
   "metadata": {},
   "outputs": [],
   "source": [
    "F(s) = 3/s^4\n",
    "f(t) = inverse_laplace(F(s), s, t)\n",
    "show(f)"
   ]
  },
  {
   "cell_type": "markdown",
   "metadata": {},
   "source": [
    "### Prob 25\n",
    "\n",
    "Fortunately, `SAGE` doesn't have a dictionary of inverse transforms for non-integer powers, so we get to manipulate the [Gamma function](https://en.wikipedia.org/wiki/Gamma_function) a bit.\n",
    "\n",
    "$$\n",
    "\\mathcal{L}^{-1}\\left\\{\\frac1s - \\frac2{s^{5/2}}\\right\\} \n",
    "= 1 - \\frac2{\\Gamma(5/2)}\\mathcal{L}^{-1}\\left\\{\\frac{\\Gamma(5/2)}{s^{5/2}}\\right\\}\n",
    "= 1 - \\frac{8 t^{3/2}}{3\\sqrt{\\pi}}.\n",
    "$$"
   ]
  },
  {
   "cell_type": "markdown",
   "metadata": {},
   "source": [
    "### Prob 27"
   ]
  },
  {
   "cell_type": "code",
   "execution_count": null,
   "metadata": {},
   "outputs": [],
   "source": [
    "F(s) = 3/(s-4)\n",
    "f(t) = inverse_laplace(F(s), s, t)\n",
    "show(f)"
   ]
  },
  {
   "cell_type": "markdown",
   "metadata": {},
   "source": [
    "### Prob 29"
   ]
  },
  {
   "cell_type": "code",
   "execution_count": null,
   "metadata": {},
   "outputs": [],
   "source": [
    "F(s) = (5-3*s)/(s^2 + 9)\n",
    "f(t) = inverse_laplace(F(s), s, t)\n",
    "show(f)"
   ]
  },
  {
   "cell_type": "markdown",
   "metadata": {},
   "source": [
    "### Prob 31"
   ]
  },
  {
   "cell_type": "code",
   "execution_count": null,
   "metadata": {},
   "outputs": [],
   "source": [
    "F(s) = (10*s-3)/(25-s^2)\n",
    "f(t) = inverse_laplace(F(s), s, t)\n",
    "show(f)"
   ]
  },
  {
   "cell_type": "code",
   "execution_count": null,
   "metadata": {},
   "outputs": [],
   "source": [
    "# equivalently\n",
    "f(t) = -10*cosh(5*t) + (3/5)*sinh(5*t)\n",
    "show(f)"
   ]
  },
  {
   "cell_type": "markdown",
   "metadata": {},
   "source": [
    "## &sect; 7.2 Transformation of Initial Value Problems\n",
    "\n",
    "We proceed with a result on the transforms of derivatives.\n",
    "\n",
    "- Suppose the function $f(t)$ is continuous and piecewise smooth for $t \\geq 0$ and is of exponential order as $t \\to \\infty$ (so there exist $M$, $c$, and $T$ such that $|f(t)| \\leq Me^{ct}$ for $t \\geq T$). Then $\\mathcal{L}\\{f'(t)\\}$ exists for $s > c$ and \n",
    "\n",
    "$$\n",
    "\\mathcal{L}\\{f'(t)\\} = s\\mathcal{L}\\{f(t)\\} - f(0) = sF(s) - f(0).\n",
    "$$\n",
    "\n",
    "- Then express higher derivatives by repeating the calculation. Notably,\n",
    "\n",
    "$$\n",
    "\\mathcal{L}\\{f''(t)\\} = s\\mathcal{L}\\{f'(t)\\} - f'(0) = s^2F(s) - s\\,f(0) - f'(0).\n",
    "$$"
   ]
  },
  {
   "cell_type": "markdown",
   "metadata": {},
   "source": [
    "### Prob 1\n",
    "\n",
    "Either solve by hand or call `desolve_laplace`, which takes 3 arguments:\n",
    "- a linear differential equation in $x(t)$\n",
    "- the \"dependent variable\" $x$ (where $x$ is really a function)\n",
    "- initial conditions $t_0$, $x(t_0)$, and $x'(t_0)$"
   ]
  },
  {
   "cell_type": "code",
   "execution_count": null,
   "metadata": {},
   "outputs": [],
   "source": [
    "x=function('x')(t)\n",
    "x(t) = desolve_laplace(diff(x,t,2) + 4*x(t) == 0, dvar = x, ics = [0,5,0])\n",
    "show(x)\n",
    "plot(x, (t, 0, 2*pi))"
   ]
  },
  {
   "cell_type": "markdown",
   "metadata": {},
   "source": [
    "### Prob 3"
   ]
  },
  {
   "cell_type": "code",
   "execution_count": null,
   "metadata": {},
   "outputs": [],
   "source": [
    "x=function('x')(t)\n",
    "x(t) = desolve_laplace(diff(x,t,2) - diff(x,t) - 2*x(t) == 0, dvar = x, ics = [0,0,2])\n",
    "show(x)\n",
    "plot(x, (t, 0, 2))"
   ]
  },
  {
   "cell_type": "markdown",
   "metadata": {},
   "source": [
    "### Prob 5"
   ]
  },
  {
   "cell_type": "code",
   "execution_count": null,
   "metadata": {},
   "outputs": [],
   "source": [
    "x=function('x')(t)\n",
    "x(t) = desolve_laplace(diff(x,t,2) + x(t) == sin(2*t), dvar = x, ics = [0,0,0])\n",
    "show(x)\n",
    "plot(x, (t, 0, 4*pi))"
   ]
  },
  {
   "cell_type": "markdown",
   "metadata": {},
   "source": [
    "### Prob 17\n",
    "\n",
    "For transforms of the form $R(s)/sQ(s)$, we exploit the fact that \n",
    "\n",
    "$$\n",
    "\\mathcal{L}\\left\\{\\int_0^tf(\\xi)\\,d\\xi\\right\\} = \\frac{F(s)}{s}, \\quad \\text{where $F(s) = \\mathcal{L}\\{f(t)\\}$}.\n",
    "$$\n",
    "\n",
    "In this way, given some $R(s)/sQ(s)$, we are only required to find $f(t)$ such that $\\mathcal{L}\\{f(t)\\} = R(s)/Q(s)$. \n",
    "\n",
    "Integrating $f(\\xi)$ (with $\\xi$ as a dummy variable), we obtain \n",
    "\n",
    "$$\n",
    "\\int_0^tf(\\xi)\\,d\\xi = \\mathcal{L}^{-1}\\left\\{\\frac{R(s)}{sQ(s)}\\right\\}.\n",
    "$$"
   ]
  },
  {
   "cell_type": "markdown",
   "metadata": {},
   "source": [
    "We find the inverse tranform of $\\frac{1}{{\\left(s - 3\\right)} s}$."
   ]
  },
  {
   "cell_type": "code",
   "execution_count": null,
   "metadata": {},
   "outputs": [],
   "source": [
    "f(t) = inverse_laplace(1/(s-3), s, t)\n",
    "var(\"xi\")\n",
    "soln(t) = integral(f(xi), xi, 0, t)\n",
    "show(soln)"
   ]
  },
  {
   "cell_type": "code",
   "execution_count": null,
   "metadata": {},
   "outputs": [],
   "source": [
    "# equivalently, we can charge ahead with partial fraction decomposition\n",
    "F(s) = 1/(s*(s-3))\n",
    "show(F.partial_fraction(s))"
   ]
  },
  {
   "cell_type": "code",
   "execution_count": null,
   "metadata": {},
   "outputs": [],
   "source": [
    "# then inverse transform to the time domain\n",
    "f(t) = inverse_laplace(F, s, t)\n",
    "show(f)"
   ]
  },
  {
   "cell_type": "markdown",
   "metadata": {},
   "source": [
    "### Prob 21\n",
    "We find the inverse transform of $\\frac{1}{s^2(s^2+1)}$."
   ]
  },
  {
   "cell_type": "code",
   "execution_count": null,
   "metadata": {},
   "outputs": [],
   "source": [
    "# either we integrate twice \n",
    "f(t)  = inverse_laplace(1/(s^2 + 1), s, t)\n",
    "assume( t>0 )\n",
    "integrate(integrate(f(xi), xi, 0, t)(xi), xi, 0, t)"
   ]
  },
  {
   "cell_type": "code",
   "execution_count": null,
   "metadata": {},
   "outputs": [],
   "source": [
    "# or use partial fraction decomposition\n",
    "F(s) = 1/(s^2*(s^2 + 1))\n",
    "show(F.partial_fraction(s))"
   ]
  },
  {
   "cell_type": "code",
   "execution_count": null,
   "metadata": {},
   "outputs": [],
   "source": [
    "f(t) = inverse_laplace(F, s, t)\n",
    "show(f)"
   ]
  },
  {
   "cell_type": "markdown",
   "metadata": {},
   "source": [
    "### Prob 25\n",
    "We'll obtain $\\mathcal{L}\\{\\sin kt \\}$ from $\\mathcal{L}\\{\\cos kt \\}$, exploiting the linearity of $\\mathcal{L}$ and the result $\\mathcal{L}\\{f'(t)\\} = sF(s) - f(0)$.\n",
    "\n",
    "By the chain rule, $$\\frac{d}{dt} \\sin kt = k \\cos kt.$$\n",
    "\n",
    "Therefore $$\\mathcal{L}\\left\\{\\frac{d}{dt} \\sin kt\\right\\} = k \\frac{s}{s^2 + k^2}.$$\n",
    "\n",
    "Also $$\\mathcal{L}\\left\\{\\frac{d}{dt} \\sin kt\\right\\} = s\\mathcal{L}\\{\\sin kt\\} - \\sin(k\\cdot0).$$\n",
    "\n",
    "Thus $$\\frac{k}{s^2 + k^2} = \\mathcal{L}\\{\\sin kt \\}.$$\n"
   ]
  },
  {
   "cell_type": "markdown",
   "metadata": {},
   "source": [
    "### Prob 28\n",
    "We'll show \n",
    "$$\\mathcal{L}\\{t \\cos kt \\} = \\frac{s^2 - k^2}{(s^2 + k^2)^2},$$\n",
    "by evaluating both sides of the identity \n",
    "$$ \\mathcal{L}\\{f''(t)\\} = s^2F(s) - sf(0) - f'(0).$$"
   ]
  },
  {
   "cell_type": "code",
   "execution_count": null,
   "metadata": {},
   "outputs": [],
   "source": [
    "var(\"k\")\n",
    "f(t) = t*cos(k*t)\n",
    "# evaluate the LHS in the time domain\n",
    "show(diff(f, t, 2)(t))"
   ]
  },
  {
   "cell_type": "code",
   "execution_count": null,
   "metadata": {},
   "outputs": [],
   "source": [
    "F = function('F')(s)\n",
    "# evaluate the RHS in the Laplace domain\n",
    "show(s^2*F(s) - s*f(0) - diff(f,t)(0))"
   ]
  },
  {
   "cell_type": "code",
   "execution_count": null,
   "metadata": {},
   "outputs": [],
   "source": [
    "# push the LHS to the Laplace domain, \n",
    "# set equal, and solve for F\n",
    "solve(-k^2*F(s) - 2*k*laplace(sin(k*t), t, s) == s^2*F(s) - 1, F)"
   ]
  },
  {
   "cell_type": "markdown",
   "metadata": {},
   "source": [
    "Simplifying, we see $F(s) = (s^2 - k^2)/(s^2 + k^2)^2$. Recalling that $f(t) = t \\cos kt$, we have \n",
    "\n",
    "$$\\mathcal{L}\\{t \\cos kt\\} = \\frac{s^2 - k^2}{(s^2 + k^2)^2}$$ \n",
    "\n",
    "as desired."
   ]
  },
  {
   "cell_type": "markdown",
   "metadata": {},
   "source": [
    "## &sect; 7.3 Translation and Partial Fractions\n",
    "\n",
    "How can we handle translation in Laplace space (i.e., shifts along the $s$-axis)? We must recall \n",
    "- $\\mathcal{L}\\{e^{at}f(t)\\} = F(s-a)$ on $s > a + c$ (given $F(s) = \\mathcal{L}\\{f(t)\\}$ on $s > c$).\n",
    "\n",
    "### Prob 1\n",
    "\n",
    "We find $\\mathcal{L}\\{t^4 e^{\\pi t}\\}$."
   ]
  },
  {
   "cell_type": "code",
   "execution_count": null,
   "metadata": {},
   "outputs": [],
   "source": [
    "F(s) = laplace(t^4, t, s)\n",
    "show(F(s-pi))"
   ]
  },
  {
   "cell_type": "code",
   "execution_count": null,
   "metadata": {},
   "outputs": [],
   "source": [
    "# checking work\n",
    "bool(F(s-pi) == laplace(t^4*e^(pi*t), t, s))"
   ]
  },
  {
   "cell_type": "markdown",
   "metadata": {},
   "source": [
    "### Prob 3\n",
    "\n",
    "We find $\\mathcal{L}\\{e^{-2 \\, t} \\sin\\left(3 \\, \\pi t\\right)\\}$."
   ]
  },
  {
   "cell_type": "code",
   "execution_count": null,
   "metadata": {},
   "outputs": [],
   "source": [
    "F(s) = laplace(sin(3* pi*t), t, s)\n",
    "show(F(s+2))"
   ]
  },
  {
   "cell_type": "code",
   "execution_count": null,
   "metadata": {},
   "outputs": [],
   "source": [
    "#checking work\n",
    "bool(F(s+2) == laplace(e^(-2*t)*sin(3*pi*t), t, s))"
   ]
  },
  {
   "cell_type": "markdown",
   "metadata": {},
   "source": [
    "### Prob 4\n",
    "\n",
    "We desire $\\mathcal{L}\\left\\{e^{-t/2}\\cos\\left(-\\frac{1}{4} \\, \\pi + 2 \\, t\\right)\\right\\}$. \n",
    "\n",
    "Recalling $\\cos(\\alpha + \\beta) = \\cos\\alpha\\cos\\beta - \\sin\\alpha\\sin\\beta$, from the real part of the equation $ e^{i(\\alpha + \\beta)} = e^{i\\alpha}e^{i\\beta}$, this problem boils down to finding\n",
    "\n",
    "$$\n",
    "F(s) = \\mathcal{L}\\left\\{\\frac{\\sqrt{2}}2\\left(\\cos 2t  + \\sin 2t\\right)\\right\\}\n",
    "$$ \n",
    "\n",
    "and evaluating $F(s+1/2)$."
   ]
  },
  {
   "cell_type": "code",
   "execution_count": null,
   "metadata": {},
   "outputs": [],
   "source": [
    "F(s) = laplace(cos(2*t - pi/4), t, s)\n",
    "show(F(s+1/2))"
   ]
  },
  {
   "cell_type": "code",
   "execution_count": null,
   "metadata": {},
   "outputs": [],
   "source": [
    "# checking work\n",
    "bool(F(s+1/2) == laplace(e^(-t/2)*cos(2*t - pi/4), t, s))"
   ]
  },
  {
   "cell_type": "markdown",
   "metadata": {},
   "source": [
    "### Prob 5\n",
    "\n",
    "$$\n",
    "\\frac3{2s-4} \n",
    "    = \\frac32 \\cdot \\frac{1}{s-2}\n",
    "    \\overset{\\mathcal{L}^{-1}}{\\implies} \n",
    "    \\frac32 e^{2t}.\n",
    "$$\n",
    "\n",
    "### Prob 7\n",
    "\n",
    "$$\n",
    "\\frac1{s^2 + 4s + 4}\n",
    "    = \\frac1{(s+2)^2}\n",
    "    \\overset{\\mathcal{L}^{-1}}{\\implies} \n",
    "    e^{-2t} t.\n",
    "$$\n",
    "\n",
    "\n",
    "### Prob 8\n",
    "\n",
    "$$\n",
    "\\frac{s+2}{s^2 + 4s + 5}\n",
    "    = \\frac{s+2}{(s+2)^2 +1}\n",
    "    \\overset{\\mathcal{L}^{-1}}{\\implies} \n",
    "    e^{-2t} \\cos t.\n",
    "$$\n",
    "\n",
    "### Prob 13\n",
    "\n",
    "We find $\\mathcal{L}^{-1}\\left\\{ \\frac{5 - 2 s}{s^{2} + 7 s + 10}\\right\\}.$"
   ]
  },
  {
   "cell_type": "code",
   "execution_count": null,
   "metadata": {},
   "outputs": [],
   "source": [
    "F(s) = (5-2*s)/(s^2 + 7*s + 10)\n",
    "show(F.partial_fraction(s))"
   ]
  },
  {
   "cell_type": "code",
   "execution_count": null,
   "metadata": {},
   "outputs": [],
   "source": [
    "f(t) = inverse_laplace(F, s, t)\n",
    "show(f)"
   ]
  },
  {
   "cell_type": "markdown",
   "metadata": {},
   "source": [
    "### Prob 21\n",
    "\n",
    "We find $\\mathcal{L}^{-1}\\left\\{ \\frac{s^{2} + 3}{{\\left({\\left(s + 1\\right)}^{2} + 1\\right)}^{2}} \\right\\}.$"
   ]
  },
  {
   "cell_type": "code",
   "execution_count": null,
   "metadata": {},
   "outputs": [],
   "source": [
    "F(s) = (s^2 + 3)/((s+1)^2 + 1)^2\n",
    "show(F.partial_fraction(s))"
   ]
  },
  {
   "cell_type": "code",
   "execution_count": null,
   "metadata": {},
   "outputs": [],
   "source": [
    "f(t) = inverse_laplace(F, s, t)\n",
    "show(f)"
   ]
  },
  {
   "cell_type": "markdown",
   "metadata": {},
   "source": [
    "### Prob 23\n",
    "\n",
    "We show $\\mathcal{L}^{-1}\\left\\{ \\frac{s^{3}}{4 \\, a^{4} + s^{4}} \\right\\} = \\cosh at \\, \\cos at.$"
   ]
  },
  {
   "cell_type": "code",
   "execution_count": null,
   "metadata": {},
   "outputs": [],
   "source": [
    "var(\"a\")\n",
    "F(s) = s^3/(s^4 + 4*a^4)\n",
    "show(F.partial_fraction(s))"
   ]
  },
  {
   "cell_type": "code",
   "execution_count": null,
   "metadata": {},
   "outputs": [],
   "source": [
    "assume( a>0 )\n",
    "f(t) = inverse_laplace(F, s, t)\n",
    "show(f)"
   ]
  },
  {
   "cell_type": "code",
   "execution_count": null,
   "metadata": {},
   "outputs": [],
   "source": [
    "# QED, but we could also\n",
    "# check equality at 100 discrete points\n",
    "bool([f(i) == cosh(a*i)*cos(a*i) for i in range(100)])"
   ]
  },
  {
   "cell_type": "markdown",
   "metadata": {},
   "source": [
    "### Prob 27\n",
    "\n",
    "We solve the IVP $x'' + 6x' + 25x = 0$, with $x(0) = 2$ and $x'(0) = 3$."
   ]
  },
  {
   "cell_type": "code",
   "execution_count": null,
   "metadata": {},
   "outputs": [],
   "source": [
    "x=function('x')(t)\n",
    "x(t) = desolve_laplace(diff(x,t,2) +6*diff(x,t) + 25*x(t) == 0, dvar = x, ics = [0,2,3])\n",
    "show(x)"
   ]
  },
  {
   "cell_type": "code",
   "execution_count": null,
   "metadata": {},
   "outputs": [],
   "source": [
    "# equivalently\n",
    "X(s) = (2*s + 15)/((s+3)^2 + 16)\n",
    "x(t) = inverse_laplace(X(s), s, t)\n",
    "show(x)\n",
    "plot(x, (t, 0, 2))"
   ]
  },
  {
   "cell_type": "markdown",
   "metadata": {},
   "source": [
    "### Prob 29\n",
    "\n",
    "We solve the IVP $x'' - 4x = 3t$, given an initially passive system $x'(0) = x(0) = 0$."
   ]
  },
  {
   "cell_type": "code",
   "execution_count": null,
   "metadata": {},
   "outputs": [],
   "source": [
    "x=function('x')(t)\n",
    "x(t) = desolve_laplace(diff(x,t,2) - 4*x(t) == 3*t, dvar = x, ics = [0,0,0])\n",
    "show(x)"
   ]
  },
  {
   "cell_type": "code",
   "execution_count": null,
   "metadata": {},
   "outputs": [],
   "source": [
    "# equivalently\n",
    "F(s) = 3/(s^2 - 4)\n",
    "f(t) = inverse_laplace(F(s), s, t)\n",
    "x(t) = integrate(integrate(f(xi), xi, 0, t)(xi), xi, 0, t)\n",
    "show(x)\n",
    "plot(x, (t, 0, 2))"
   ]
  },
  {
   "cell_type": "markdown",
   "metadata": {},
   "source": [
    "## &sect; 7.4 Derivatives, Integrals, and Products of Transforms\n",
    "\n",
    "Regarding products, the convolution $f * g$ of the piecewise continuous functions $f$ and $g$ is defined for $t \\geq 0$ as\n",
    "$$\n",
    "(f * g)(t) = \\int_0^t f(\\tau)g(t-\\tau)\\, d\\tau.\n",
    "$$\n",
    "\n",
    "Considering derivatives, we have that if $f(t)$ is a piecewise continuous function, defined on $t \\geq 0$, and bounded by some multiple of $e^{ct}$ as $t \\to \\infty$, then \n",
    "\n",
    "$$\n",
    "\\mathcal{L}\\{t\\cdot f(t)\\} = -\\frac{d}{ds}[F(s)].\n",
    "$$\n",
    "\n",
    "Lastly, for antiderivates, we'll look at improper integrals of transforms from $s$ to $\\infty$. If \n",
    "- $f(t)$ is piecewise continuous for $t\\geq 0$,\n",
    "- $\\lim_{t \\to 0^+} f(t)/t$ exists (and is finite), and\n",
    "- $f(t)$ is bounded by some multiple of $e^{ct}$ as $t \\to \\infty$, then\n",
    "\n",
    "$$\n",
    "\\mathcal{L}\\left\\{\\frac{f(t)}t \\right\\} = \\int_s^\\infty F(\\sigma)\\, d\\sigma.\n",
    "$$"
   ]
  },
  {
   "cell_type": "markdown",
   "metadata": {},
   "source": [
    "### Prob 2\n",
    "\n",
    "Let $f(t) = t$ and $g(t) = e^{at}$. We'll find $f * g$."
   ]
  },
  {
   "cell_type": "code",
   "execution_count": null,
   "metadata": {},
   "outputs": [],
   "source": [
    "var(\"a tau\")\n",
    "convol(t) = integrate(tau*e^(a*(t-tau)), tau, 0, t)\n",
    "show(convol(t))"
   ]
  },
  {
   "cell_type": "markdown",
   "metadata": {},
   "source": [
    "Simplifying, \n",
    "$$\n",
    "f * g = \\frac1{a^2}\\left(e^{at} - at - 1\\right).\n",
    "$$"
   ]
  },
  {
   "cell_type": "code",
   "execution_count": null,
   "metadata": {},
   "outputs": [],
   "source": [
    "plot([t, e^t, e^t - t - 1], (t, 0, 3), legend_label = 'automatic')"
   ]
  },
  {
   "cell_type": "markdown",
   "metadata": {},
   "source": [
    "### Prob 3\n",
    "\n",
    "Let $f(t) = g(t) = \\sin(t)$. We'll find $f * g$."
   ]
  },
  {
   "cell_type": "code",
   "execution_count": null,
   "metadata": {},
   "outputs": [],
   "source": [
    "var(\"a tau\")\n",
    "convol(t) = integrate(sin(tau)*sin(t-tau), tau, 0, t)\n",
    "show(convol(t))"
   ]
  },
  {
   "cell_type": "code",
   "execution_count": null,
   "metadata": {},
   "outputs": [],
   "source": [
    "plot([sin(t), 1/2*(sin(t) - t*cos(t))], (t, 0, 4*pi), legend_label = 'automatic')"
   ]
  },
  {
   "cell_type": "markdown",
   "metadata": {},
   "source": [
    "### Prob 7\n",
    "\n",
    "We'll apply the convolution theorem to determine the inverse Laplace transform of $H(s) = \\frac{1}{s(s-3)}$.\n",
    "\n",
    "That is, given two transforms $F(s)$ and $G(s)$, we have \n",
    "\n",
    "$$\n",
    "\\mathcal{L}^{-1}\\{F(s)\\cdot G(s)\\} = f(t) * g(t) \\quad \\text{for $t \\geq 0$}.\n",
    "$$"
   ]
  },
  {
   "cell_type": "code",
   "execution_count": null,
   "metadata": {},
   "outputs": [],
   "source": [
    "F(s) = 1/s\n",
    "G(s) = 1/(s-3)\n",
    "f(t) = inverse_laplace(F, s, t)\n",
    "g(t) = inverse_laplace(G, s, t)\n",
    "h(t) = integrate(f(tau)*g(t-tau), tau, 0, t)\n",
    "show(h)"
   ]
  },
  {
   "cell_type": "code",
   "execution_count": null,
   "metadata": {},
   "outputs": [],
   "source": [
    "# checking work\n",
    "H(s) = 1/(s*(s-3))\n",
    "h(t) = inverse_laplace(H, s, t)\n",
    "show(h)"
   ]
  },
  {
   "cell_type": "markdown",
   "metadata": {},
   "source": [
    "### Prob 9\n",
    "\n",
    "We'll find the inverse Laplace transform for $H(s) = \\frac{1}{(s^2 + 9)^2}$."
   ]
  },
  {
   "cell_type": "code",
   "execution_count": null,
   "metadata": {},
   "outputs": [],
   "source": [
    "f(t) = inverse_laplace(1/(s^2 + 9), s, t)\n",
    "g(t) = f(t)\n",
    "show(f)"
   ]
  },
  {
   "cell_type": "code",
   "execution_count": null,
   "metadata": {},
   "outputs": [],
   "source": [
    "h(t) = integrate(f(tau)*g(t-tau), tau, 0, t)\n",
    "# apply angle sum and power reduction for sine\n",
    "# integration is linear, so evaluate the summands\n",
    "# then recognize angle sum for sine and simplify\n",
    "show(h)"
   ]
  },
  {
   "cell_type": "code",
   "execution_count": null,
   "metadata": {},
   "outputs": [],
   "source": [
    "# checking work\n",
    "H(s) = 1/(s^2 + 9)^2\n",
    "h(t) = inverse_laplace(H, s, t)\n",
    "show(h)"
   ]
  },
  {
   "cell_type": "markdown",
   "metadata": {},
   "source": [
    "### Prob 13\n",
    "\n",
    "We'll find the inverse Laplace transform for \n",
    "$H(s) = \\frac{s}{(s-3)(s^2 + 1)} = \\frac{1}{s-3}\\cdot\\frac{s}{s^2 + 1}$."
   ]
  },
  {
   "cell_type": "code",
   "execution_count": null,
   "metadata": {},
   "outputs": [],
   "source": [
    "f(t) = inverse_laplace(1/(s-3), s, t)\n",
    "g(t) = inverse_laplace(s/(s^2 + 1), s, t)\n",
    "show(f)\n",
    "show(g)"
   ]
  },
  {
   "cell_type": "code",
   "execution_count": null,
   "metadata": {},
   "outputs": [],
   "source": [
    "# now convolute cosine and an exponential function\n",
    "h(t) = integrate(f(tau)*g(t-tau), tau, 0, t)\n",
    "show(h)\n",
    "plot(h, (t, 0, 0.33))"
   ]
  },
  {
   "cell_type": "code",
   "execution_count": null,
   "metadata": {},
   "outputs": [],
   "source": [
    "# checking work\n",
    "H(s) = s/((s-3)*(s^2 + 1))\n",
    "h(t) = inverse_laplace(H, s, t)\n",
    "show(h)"
   ]
  },
  {
   "cell_type": "markdown",
   "metadata": {},
   "source": [
    "### Prob 17\n",
    "\n",
    "We'll find the Laplace transform for \n",
    "$h(t) = t\\cdot e^{2t}\\cos{3t}$, writing $f(t) = e^{2t}\\cos{3t}$."
   ]
  },
  {
   "cell_type": "code",
   "execution_count": null,
   "metadata": {},
   "outputs": [],
   "source": [
    "f(t) = e^(2*t)*cos(3*t)\n",
    "F(s) = laplace(f, t, s)\n",
    "H(s) = diff(F, s)(s)\n",
    "show(H)"
   ]
  },
  {
   "cell_type": "code",
   "execution_count": null,
   "metadata": {},
   "outputs": [],
   "source": [
    "# checking work\n",
    "h(t) = t*e^(2*t)*cos(3*t)\n",
    "H(s) = laplace(h, t, s)\n",
    "print H"
   ]
  },
  {
   "cell_type": "code",
   "execution_count": null,
   "metadata": {},
   "outputs": [],
   "source": [
    "# compare CSA solution (LHS) to hand derivation (RHS)\n",
    "# aside: how many points determine a rational function?\n",
    "# I'm checking at 29 points here, seems sufficient\n",
    "bool([2*(i - 2)^2/(i^2 - 4*i + 13)^2 - 1/(i^2 - 4*i + 13) == 2*(i^3-i^2+9)/((i-3)*(i^2+9)) for i in [0.1 .. 2.9]])"
   ]
  },
  {
   "cell_type": "code",
   "execution_count": null,
   "metadata": {},
   "outputs": [],
   "source": [
    "plot(H, (s, 0, 12))"
   ]
  },
  {
   "cell_type": "markdown",
   "metadata": {},
   "source": [
    "### Prob 21\n",
    "\n",
    "We find $\\mathcal{L}\\left\\{ \\frac{e^{3t} - 1}t \\right\\}$, writing $f(t) = e^{3t} - 1$ and applying\n",
    "\n",
    "$$\n",
    "\\mathcal{L}\\left\\{ \\frac{f(t)}t \\right\\} = \\int_s^\\infty F(\\sigma)\\, d\\sigma.\n",
    "$$"
   ]
  },
  {
   "cell_type": "code",
   "execution_count": null,
   "metadata": {},
   "outputs": [],
   "source": [
    "var(\"s t\")\n",
    "f(t) = e^(3*t) - 1\n",
    "F(s) = laplace(f, t, s)\n",
    "assume( s > 3 )\n",
    "show(F)"
   ]
  },
  {
   "cell_type": "code",
   "execution_count": null,
   "metadata": {},
   "outputs": [],
   "source": [
    "var(\"sigma\")\n",
    "H(s) = integrate(F(sigma), sigma, s, oo, algorithm = 'sympy')\n",
    "show(H)"
   ]
  },
  {
   "cell_type": "markdown",
   "metadata": {},
   "source": [
    "### Prob 23"
   ]
  },
  {
   "cell_type": "code",
   "execution_count": null,
   "metadata": {},
   "outputs": [],
   "source": [
    "F(s) = log(s-2) - log(s+2)\n",
    "H(s) = diff(F, s)\n",
    "h(t) = inverse_laplace(H, s, t)\n",
    "f(t) = -h/t\n",
    "show(f)"
   ]
  },
  {
   "cell_type": "markdown",
   "metadata": {},
   "source": [
    "Equivalently, $f(t) = -\\frac{2 \\sinh{2t}}{t}$."
   ]
  },
  {
   "cell_type": "markdown",
   "metadata": {},
   "source": [
    "### Prob 29\n",
    "We'll solve the DE $tx'' + (t-2)x' + x = 0$ given passive initial conditions.\n",
    "\n",
    "Applying the $\\mathcal{L}$ operator to both sides of the equation, we have a first order seperable DE in $X(s)$.\n",
    "\n",
    "$$\n",
    "X'\\cdot(s^2 + s) + X\\cdot4s = 0.\n",
    "$$\n",
    "\n",
    "It follows that $X(s) = \\frac{1}{(s+1)^4}$, whence \n",
    "$$\n",
    "    x(t) = \\frac{t^3 e^{-t}}{\\Gamma(4)} = \\frac1{6}t^3 e^{-t}\n",
    "$$"
   ]
  },
  {
   "cell_type": "markdown",
   "metadata": {},
   "source": [
    "### Prob 36\n",
    "\n",
    "We'll show that the 2nd order non-homogenous DE\n",
    "$\n",
    "x'' + 4x = f(t)\n",
    "$\n",
    "has solution\n",
    "\n",
    "$$x(t) = \\frac12 \\int_0^t f(t-\\tau) \\sin 2\\tau \\, d\\tau.$$\n",
    "\n",
    "Applying the $\\mathcal{L}$ operator to both sides of the DE, then       isolating $X(s)$, we have\n",
    "\n",
    "$$\n",
    "X = \\frac{F(s)}{s^2 + 4} = \\frac12 \\cdot F(s) \\cdot \\frac{2}{s^2 + 4}.\n",
    "$$\n",
    "\n",
    "By the convolution theorem,\n",
    "\n",
    "$$\n",
    "\\frac12\\mathcal{L}^{-1}\\left\\{F(s) \\cdot \\frac{2}{s^2 + 4}\\right\\} \n",
    "= \\frac12 \\int_0^t f(t-\\tau) \\sin 2\\tau \\, d\\tau.\n",
    "$$\n",
    "\n",
    "QED."
   ]
  },
  {
   "cell_type": "code",
   "execution_count": null,
   "metadata": {},
   "outputs": [],
   "source": []
  }
 ],
 "metadata": {
  "kernelspec": {
   "display_name": "SageMath 8.0",
   "language": "",
   "name": "sagemath"
  },
  "language_info": {
   "codemirror_mode": {
    "name": "ipython",
    "version": 2
   },
   "file_extension": ".py",
   "mimetype": "text/x-python",
   "name": "python",
   "nbconvert_exporter": "python",
   "pygments_lexer": "ipython2",
   "version": "2.7.13"
  }
 },
 "nbformat": 4,
 "nbformat_minor": 2
}
