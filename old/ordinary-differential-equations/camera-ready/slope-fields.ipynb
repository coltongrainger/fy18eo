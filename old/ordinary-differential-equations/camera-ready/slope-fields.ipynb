{
 "cells": [
  {
   "cell_type": "markdown",
   "metadata": {},
   "source": [
    "$\n",
    "    \\newcommand{\\RR}{\\mathbf{R}}\n",
    "    \\newcommand{\\dv}[3][]{\\frac{d^{#1} #2}{d {#3}^{#1}}}\n",
    "    \\newcommand{\\dwrt}[2][]{\\frac{d^{#1}}{d {#2}^{#1}}}\n",
    "    \\newcommand{\\pdv}[3][]{\\frac{\\partial^{#1} #2}{\\partial {#3}^{#1}}}\n",
    "    \\newcommand{\\pdwrt}[2][]{\\frac{\\partial^{#1}}{\\partial {#2}^{#1}}}\n",
    "    \\newcommand{\\dd}[2][]{\\ d^{#1}#2}\n",
    "    \\newcommand{\\qty}[1]{\\left[#1 \\right]}\n",
    "    \\renewcommand{\\exp}[1]{e^{#1}}\n",
    "    \\newcommand{\\qq}[1]{\\qquad \\mathrm{#1}\\qquad}\n",
    "    \\newcommand{\\leadsto}{\\quad & \\implies \\quad}\n",
    "$"
   ]
  },
  {
   "cell_type": "markdown",
   "metadata": {},
   "source": [
    "# MATH 310-10: Project 1\n",
    "- Submitted 9/8/17 by Colton Grainger for MATH 310-10: Ordinary Differential Equations, Engineering Outreach\n",
    "- **Text:** http://www.webpages.uidaho.edu/~barannyk/Teaching/matlab_project1.pdf\n",
    "\n",
    "This document was prepared using the [SageMath](http://www.sagemath.org/) mathematics software system in a [Jupyter Notebook](http://jupyter.org/about.html) (formerly known as IPython). As Sage has many equivalent features to MATLAB, I believe that my work is compatible with what was expected from this assignment."
   ]
  },
  {
   "cell_type": "markdown",
   "metadata": {},
   "source": [
    "## 1.a\n",
    "\n",
    "We will examine the slope field for the DE $\\frac{dy}{dx} = -y-\\sin(x)$ in the plane region $[-3,3]\\times [-3,3]$. I'll ask my computer to create the slope field with the `plot_slope_field` function. I'll also overlay a solution curve (approximated with the 4th order Runge-Kutta method) and a set of points."
   ]
  },
  {
   "cell_type": "code",
   "execution_count": null,
   "metadata": {},
   "outputs": [],
   "source": [
    "x,y = var('x y')\n",
    "sf = plot_slope_field(-y-sin(x), (x, -3, 3), (y, -3, 3), headaxislength = 1, headlength = 2)\n",
    "soln = list_plot(desolve_rk4(-y-sin(x),y,ics=[-3,-1.4],end_points=[-3,3],step=0.05), plotjoined=True)\n",
    "coords = [(-2.5,1),(2.5,2),(1.5,2),(0.5,2),(-0.5,2),(-1.5,2),(-2.5,2),(-2,-2),(-1,-2),(0,-2),(1,-2),(2,-2)]\n",
    "ic_pts = point(coords, size=50,color='purple');\n",
    "show(sf + soln + ic_pts)"
   ]
  },
  {
   "cell_type": "markdown",
   "metadata": {},
   "source": [
    "Let's introduce some more solution curves---one for each point plotted above."
   ]
  },
  {
   "cell_type": "code",
   "execution_count": null,
   "metadata": {},
   "outputs": [],
   "source": [
    "m = [list_plot(desolve_rk4(-y-sin(x),y,ics=n,end_points=[-3,3],step=0.05), plotjoined=True, color='purple')for n in coords]\n",
    "r = sf + soln + ic_pts + m[0] + m[1] + m[2] + m[3] + m[4] + m[5] + m[6] + m[7] + m[8] + m[9] + m[10] + m[11]\n",
    "r.show(xmin=-3, xmax=3, ymin=-3, ymax=3)"
   ]
  },
  {
   "cell_type": "markdown",
   "metadata": {},
   "source": [
    "## 1.b\n",
    "\n",
    "Let's look at the slope field for the DE $\\frac{dy}{dx} = -x^2 + \\sin(y)$, in the same region $[-3,3]\\times [-3,3]$ as above. "
   ]
  },
  {
   "cell_type": "code",
   "execution_count": null,
   "metadata": {},
   "outputs": [],
   "source": [
    "f = -x^2 + sin(y)\n",
    "sf = plot_slope_field(f, (x, -3, 3), (y, -3, 3), headaxislength = 1, headlength = 2)\n",
    "soln = [list_plot(desolve_rk4(f,y,ics=[-2.4,3],end_points=[-2.4,1],step=0.05), plotjoined=True),list_plot(desolve_rk4(f,y,ics=[-2.05,3],end_points=[-2.05,2.6],step=0.05), plotjoined=True)]\n",
    "coords = [(-1,2),(-1,1),(-1,0),(2.5,2),(2.5,1),(-2.5,-2),(-1.5,-2),(-0.5,-2),(0.5,-2),(1.5,-2),(2.5,-2)]\n",
    "ic_pts = point(coords, size=50,color='purple');\n",
    "show(sf + soln[0] + soln[1] + ic_pts)"
   ]
  },
  {
   "cell_type": "markdown",
   "metadata": {},
   "source": [
    "To draw various solution curves through each purple point, I've used a feature called \"list comprension\". Specifically, I asked Sage to run a Runge-Kutta method `for n in coords`, where `coords` is the list of tuples for each purple point. Indeed, each tuple is an initial condition for left and right numerical approximation, much like Polking's `dfield8` finds solutions (first approximating right, then left)."
   ]
  },
  {
   "cell_type": "code",
   "execution_count": null,
   "metadata": {},
   "outputs": [],
   "source": [
    "m = [list_plot(desolve_rk4(f,y,ics=n,end_points=[-3,3],step=0.05), plotjoined=True, color='purple') for n in coords]\n",
    "r = sf + soln[0] + soln[1] + ic_pts + m[0] + m[1] + m[2] + m[3] + m[4] + m[5] + m[6] + m[7] + m[8] + m[9] + m[10]\n",
    "r.show(xmin=-3, xmax=3, ymin=-3, ymax=3)"
   ]
  },
  {
   "cell_type": "markdown",
   "metadata": {},
   "source": [
    "## 2.a \n",
    "We construct a slope field for the DE $y' = x + y$. Then we use the initial condition $y(0) = 0$ to find a particular solution curve. Finally, we evaluate $y(-4)$. "
   ]
  },
  {
   "cell_type": "code",
   "execution_count": null,
   "metadata": {},
   "outputs": [],
   "source": [
    "f(x,y) = y + x\n",
    "sf = plot_slope_field(f, (x, -4, 1), (y, -1, 4), headaxislength = 1, headlength = 2)\n",
    "soln = list_plot(desolve_rk4(f,y,ics=[0,0],end_points=[-4,1],step=0.05), plotjoined=True)\n",
    "p = point((0,0), size=75,color='purple')\n",
    "show(sf + soln + p)"
   ]
  },
  {
   "cell_type": "markdown",
   "metadata": {},
   "source": [
    "It looks like $y(-4)$ is slightly larger than $3$. We can look at the data for our numerical approximation to find $y(-4)$ with high precision. I'll decrease the step size from $0.05$ to $0.01$."
   ]
  },
  {
   "cell_type": "code",
   "execution_count": null,
   "metadata": {},
   "outputs": [],
   "source": [
    "desolve_rk4(f,y,ics=[0,0],end_points=[-4,1],step=0.01);"
   ]
  },
  {
   "cell_type": "markdown",
   "metadata": {},
   "source": [
    "I hid the output of that computation, but `desolve_rk4` found \n",
    "- $y(-4)$ = `3.018315642866940`  with `step=0.05`\n",
    "- $y(-4)$ = `3.018315638894891` with `step=0.01`."
   ]
  },
  {
   "cell_type": "markdown",
   "metadata": {},
   "source": [
    "## 2.b\n",
    "Let's construct a slope field for the DE $y' = x + \\frac{1}{2}y^2$. Then we'll apply $y(-2) = 0$. At last, we'll evaluate $y(2)$. "
   ]
  },
  {
   "cell_type": "code",
   "execution_count": null,
   "metadata": {},
   "outputs": [],
   "source": [
    "f = x + (1/2)*y^2\n",
    "sf = plot_slope_field(f, (x, -3, 2.5), (y, -1, 5), headaxislength = 1, headlength = 2)\n",
    "soln = list_plot(desolve_rk4(f,y,ics=[-2,0],end_points=[-3,2.5],step=0.05), plotjoined=True)\n",
    "p = point((-2,0), size=75, color='purple')\n",
    "show(sf + soln + p)"
   ]
  },
  {
   "cell_type": "markdown",
   "metadata": {},
   "source": [
    "Again, it seems $y(2) \\approx 1.2$. I'll look at the printout of `rk4` with `step=0.05` and `step=0.01`."
   ]
  },
  {
   "cell_type": "code",
   "execution_count": null,
   "metadata": {},
   "outputs": [],
   "source": [
    "desolve_rk4(f,y,ics=[-2,0],end_points=[-3,2.5],step=0.05);"
   ]
  },
  {
   "cell_type": "code",
   "execution_count": null,
   "metadata": {},
   "outputs": [],
   "source": [
    "desolve_rk4(f,y,ics=[-2,0],end_points=[-3,2.5],step=0.01);"
   ]
  },
  {
   "cell_type": "markdown",
   "metadata": {},
   "source": [
    "I hid those outputs. The `rk4` method found\n",
    "- $y(-4)$ = `1.463315240292559`  with `step=0.05`\n",
    "- $y(-4)$ = `1.463314964780048` with `step=0.01`\n",
    "\n",
    "My guess was too low."
   ]
  },
  {
   "cell_type": "markdown",
   "metadata": {},
   "source": [
    "## 3\n",
    "\n",
    "Consider the IVP\n",
    "$$\n",
    "    \\dv{y}{x} = y\\exp{x},\\\\\n",
    "    y(0) = 2e.\n",
    "$$\n",
    "\n",
    "Separating variables and integrating, we have \n",
    "\\begin{align}\n",
    "    \\int \\frac{dy}{y} = \\int \\exp{x}\\dd{x} \\leadsto\n",
    "        \\log |y| = \\exp{x} + \\tilde{C}\\\\ \\leadsto\n",
    "        y = C\\exp{\\exp{x}}.\n",
    "\\end{align}\n",
    "\n",
    "Applying the initial condition $y(0) = 2e$,\n",
    "$$\n",
    "    2e = C\\exp{\\exp{0}} \\implies C = 2.\n",
    "$$\n",
    "\n",
    "Our particular solution is then\n",
    "$$\n",
    "    y(x) = 2\\exp{\\exp{x}}.\n",
    "$$\n",
    "\n",
    "We'll plot $y$ for $x \\in [-1,1]$ over the slope field for $f(x,y) = y\\exp{x}$."
   ]
  },
  {
   "cell_type": "code",
   "execution_count": null,
   "metadata": {},
   "outputs": [],
   "source": [
    "p = plot(2*exp(exp(x)), (-1,1))\n",
    "ic = point((0,2*e), size=75, color='purple')\n",
    "f = y*exp(x)\n",
    "sf = plot_slope_field(f, (x, -1, 1), (y, 0, 30), headaxislength = 1, headlength = 2)\n",
    "show(p + ic + sf)"
   ]
  },
  {
   "cell_type": "markdown",
   "metadata": {},
   "source": [
    "I notice:\n",
    "- the extreme $x$ dependence of the slope field,\n",
    "- as $x \\to -\\infty$ we have $y \\to 2$, and \n",
    "- the solution $y \\equiv 0$ is nowhere near other solutions."
   ]
  }
 ],
 "metadata": {
  "kernelspec": {
   "display_name": "SageMath 8.0",
   "language": "",
   "name": "sagemath"
  },
  "language_info": {
   "codemirror_mode": {
    "name": "ipython",
    "version": 2
   },
   "file_extension": ".py",
   "mimetype": "text/x-python",
   "name": "python",
   "nbconvert_exporter": "python",
   "pygments_lexer": "ipython2",
   "version": "2.7.13"
  }
 },
 "nbformat": 4,
 "nbformat_minor": 2
}
