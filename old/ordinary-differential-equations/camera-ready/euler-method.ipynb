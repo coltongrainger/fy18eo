{
 "cells": [
  {
   "cell_type": "markdown",
   "metadata": {},
   "source": [
    "We write a Python program to solve the IVP $y' = y\\sin(t)$ with $y(1)= 1$ on the interval $[1,4\\pi]$, with a step size of $h=0.25$ using Euler's method."
   ]
  },
  {
   "cell_type": "code",
   "execution_count": null,
   "metadata": {},
   "outputs": [],
   "source": [
    "def f(y, t):\n",
    "    return y*sin(t)"
   ]
  },
  {
   "cell_type": "code",
   "execution_count": null,
   "metadata": {},
   "outputs": [],
   "source": [
    "def euler (f, t0, y0, h, tmax):\n",
    "    t, y = t0, y0\n",
    "    td, yd = [t0], [y0]\n",
    "    while t < tmax:\n",
    "        y = y + h*f(y, t)\n",
    "        yd.append(y)\n",
    "        t = t + h\n",
    "        td.append(t)\n",
    "    return(zip(td,yd))"
   ]
  },
  {
   "cell_type": "code",
   "execution_count": null,
   "metadata": {},
   "outputs": [],
   "source": [
    "list_plot(euler(f,1,1,0.25,4*pi), plotjoined=True)"
   ]
  },
  {
   "cell_type": "markdown",
   "metadata": {},
   "source": [
    "Now we plot our approximation against the slope field."
   ]
  },
  {
   "cell_type": "code",
   "execution_count": null,
   "metadata": {},
   "outputs": [],
   "source": [
    "y, t = var('y t')\n",
    "apprx = list_plot(euler(f,1,1,0.25,4*pi), plotjoined=True)\n",
    "slope = plot_slope_field(y*sin(t), (t,1,4*pi), (y,0,5))\n",
    "plot(apprx + slope)"
   ]
  },
  {
   "cell_type": "markdown",
   "metadata": {},
   "source": [
    "As the time interval becomes very large, we see that our approximation flattens out."
   ]
  },
  {
   "cell_type": "code",
   "execution_count": null,
   "metadata": {},
   "outputs": [],
   "source": [
    "apprx = list_plot(euler(f,1,1,0.25,8*pi), plotjoined=True)\n",
    "slope = plot_slope_field(y*sin(t), (t,1,8*pi), (y,0,5))\n",
    "plot(apprx + slope)"
   ]
  },
  {
   "cell_type": "markdown",
   "metadata": {},
   "source": [
    "We could perhaps improve our approximation by decreasing the step size?"
   ]
  },
  {
   "cell_type": "code",
   "execution_count": null,
   "metadata": {},
   "outputs": [],
   "source": [
    "sum([list_plot(euler(f,1,1,h,8*pi), plotjoined=True) for h in [0.25,0.125,0.0625]])"
   ]
  },
  {
   "cell_type": "markdown",
   "metadata": {},
   "source": [
    "Let's modify Euler's method to average the slopes found at two sides of a step size interval. We'll call it the **Improved Euler Method**, which is a type of **predictor-corrector** method. "
   ]
  },
  {
   "cell_type": "code",
   "execution_count": null,
   "metadata": {},
   "outputs": [],
   "source": [
    "def imp_euler (f, t0, y0, h, tmax):\n",
    "    t, y = t0, y0\n",
    "    td, yd = [t0], [y0]\n",
    "    while t < tmax:\n",
    "        u = y + h*f(y, t)\n",
    "        y = y + (h/2)*(f(y, t) + f(u, t + h))\n",
    "        yd.append(y)\n",
    "        t = t + h\n",
    "        td.append(t)\n",
    "    return(zip(td,yd))"
   ]
  },
  {
   "cell_type": "code",
   "execution_count": null,
   "metadata": {},
   "outputs": [],
   "source": [
    "list_plot(imp_euler(f,1,1,0.25,4*pi), plotjoined=True)"
   ]
  },
  {
   "cell_type": "markdown",
   "metadata": {},
   "source": [
    "A much better approximation. Let's look at the solution accross a larger time frame."
   ]
  },
  {
   "cell_type": "code",
   "execution_count": null,
   "metadata": {},
   "outputs": [],
   "source": [
    "apprx = list_plot(imp_euler(f,1,1,0.25,8*pi), plotjoined=True)\n",
    "slope = plot_slope_field(y*sin(t), (t,1,8*pi), (y,0,5))\n",
    "plot(apprx + slope)"
   ]
  },
  {
   "cell_type": "markdown",
   "metadata": {},
   "source": [
    "How much does our approximation improve when when decrease the step size by half?"
   ]
  },
  {
   "cell_type": "code",
   "execution_count": null,
   "metadata": {},
   "outputs": [],
   "source": [
    "sum([list_plot(imp_euler(f,1,1,h,8*pi), plotjoined=True) for h in [0.25, 0.125, 0.0625]])"
   ]
  },
  {
   "cell_type": "markdown",
   "metadata": {},
   "source": [
    "Not much. I'd use the second approx if I was to worry about computational resources."
   ]
  },
  {
   "cell_type": "code",
   "execution_count": null,
   "metadata": {},
   "outputs": [],
   "source": []
  }
 ],
 "metadata": {
  "kernelspec": {
   "display_name": "SageMath 8.0",
   "language": "",
   "name": "sagemath"
  },
  "language_info": {
   "codemirror_mode": {
    "name": "ipython",
    "version": 2
   },
   "file_extension": ".py",
   "mimetype": "text/x-python",
   "name": "python",
   "nbconvert_exporter": "python",
   "pygments_lexer": "ipython2",
   "version": "2.7.13"
  }
 },
 "nbformat": 4,
 "nbformat_minor": 2
}
