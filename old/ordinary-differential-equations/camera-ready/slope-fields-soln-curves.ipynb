{
 "cells": [
  {
   "cell_type": "markdown",
   "metadata": {},
   "source": [
    "# Slope Fields and Solutions Curves\n",
    "I created this notebook by referring to instructions found here:\n",
    "    http://www.ms.uky.edu/~ma138/Spring13/Sage_instruction.pdf"
   ]
  },
  {
   "cell_type": "markdown",
   "metadata": {},
   "source": [
    "Consider the 1st order DE\n",
    "\\begin{equation}\n",
    "    \\frac{dy}{dx}=\\sin(x)\\sin(y)\n",
    "\\end{equation}\n",
    "If $y(x)$ is a function satisfying the DE, the graph of $y$ in the $xy$-plane will have tangent lines at each point $(x,y)$ with slope $m= \\sin(x)\\sin(y)$."
   ]
  },
  {
   "cell_type": "code",
   "execution_count": null,
   "metadata": {},
   "outputs": [],
   "source": [
    "x,y = var('x y')\n",
    "plot_slope_field(sin(x)*sin(y), (x,-5,5), (y,-5,5), headaxislength = 3, headlength = 3)"
   ]
  },
  {
   "cell_type": "markdown",
   "metadata": {},
   "source": [
    "Here's a slope field for the 2nd order DE $\\frac{dy}{dx}=y^2-x^2$."
   ]
  },
  {
   "cell_type": "code",
   "execution_count": null,
   "metadata": {},
   "outputs": [],
   "source": [
    "plot_slope_field(y**2-x**2, (x,-5,5), (y,-5,5), headaxislength = 3, headlength = 3)"
   ]
  },
  {
   "cell_type": "markdown",
   "metadata": {},
   "source": [
    "We can find an explicit general solution for the 2nd order DE \n",
    "\\begin{equation}\n",
    "    \\frac{dy}{dx}=y^2x^2.\n",
    "\\end{equation}\n",
    "It's $y=\\frac{-3}{(x^3+a)}$. We plot the slope field below, then specific solution curves."
   ]
  },
  {
   "cell_type": "code",
   "execution_count": null,
   "metadata": {},
   "outputs": [],
   "source": [
    "plot_slope_field(y**2*x**2, (x, -2, 2), (y, -2, 2), headaxislength = 3, headlength = 3)"
   ]
  },
  {
   "cell_type": "markdown",
   "metadata": {},
   "source": [
    "For three different values of the first order parameter, we have three solutions curves."
   ]
  },
  {
   "cell_type": "code",
   "execution_count": null,
   "metadata": {},
   "outputs": [],
   "source": [
    "v=plot_slope_field(y**2*x**2, (x, -1, 4), (y, -10, 12), headaxislength = 3, headlength = 3)\n",
    "a=6\n",
    "b=-3\n",
    "c=0.3\n",
    "d1=plot(-3/(x^3+a),(x,0,4))\n",
    "d2=plot(-3/(x^3+b),(x,0,1.4))\n",
    "d3=plot(-3/(x^3+c),(x,0,4))\n",
    "show(v+d1+d2+d3)"
   ]
  },
  {
   "cell_type": "markdown",
   "metadata": {},
   "source": [
    "Of course, plotting known solution curves over a slope field obscurs the real utility of the slope field diagram. Slope fields, over the region of the plane which they are drawn, make *immediately apparent* key characteristics of all solution curves intersecting that region. \n",
    "\n",
    "Consider the DE $\\frac{dy}{dx} = -y-\\sin(x)$. I've asked my laptop to compute the slope at a few hundred points on a rectangular lattice; creating a slope field below."
   ]
  },
  {
   "cell_type": "code",
   "execution_count": null,
   "metadata": {},
   "outputs": [],
   "source": [
    "plot_slope_field(-y-sin(x), (x, -3, 3), (y, -3, 3), headaxislength = 3, headlength = 3)"
   ]
  },
  {
   "cell_type": "markdown",
   "metadata": {},
   "source": [
    "The arrowheads I've attached to each of my tick marks naturally suggests a method for approximating solution curves: Euler's method. (What's shown below is an example with an alternative ODE solver, in lieu of my implementation of Euler's method.)"
   ]
  },
  {
   "cell_type": "code",
   "execution_count": null,
   "metadata": {},
   "outputs": [],
   "source": [
    "from sage.calculus.desolvers import desolve_rk4"
   ]
  },
  {
   "cell_type": "code",
   "execution_count": null,
   "metadata": {},
   "outputs": [],
   "source": [
    "P=list_plot(desolve_rk4(-y-sin(x),y,ics=[-3,-1.4],end_points=[-3,3],step=0.01))\n",
    "g=plot_slope_field(-y-sin(x), (x, -3, 3), (y, -3, 3), headaxislength = 3, headlength = 3)\n",
    "show(P+g)P=list_plot(desolve_rk4(-y-sin(x),y,ics=[0,0.5],end_points=[-3,3],step=0.01))\n",
    "g=plot_slope_field(-y-sin(x), (x, -3, 3), (y, -3, 3), headaxislength = 3, headlength = 3)\n",
    "show(P+g)"
   ]
  },
  {
   "cell_type": "code",
   "execution_count": null,
   "metadata": {},
   "outputs": [],
   "source": [
    "P=list_plot(desolve_rk4(-y-sin(x),y,ics=[0,0.5],end_points=[-3,3],step=0.01))\n",
    "g=plot_slope_field(-y-sin(x), (x, -3, 3), (y, -3, 3), headaxislength = 3, headlength = 3)\n",
    "show(P+g)"
   ]
  }
 ],
 "metadata": {
  "kernelspec": {
   "display_name": "SageMath 8.0",
   "language": "",
   "name": "sagemath"
  },
  "language_info": {
   "codemirror_mode": {
    "name": "ipython",
    "version": 2
   },
   "file_extension": ".py",
   "mimetype": "text/x-python",
   "name": "python",
   "nbconvert_exporter": "python",
   "pygments_lexer": "ipython2",
   "version": "2.7.13"
  }
 },
 "nbformat": 4,
 "nbformat_minor": 2
}
