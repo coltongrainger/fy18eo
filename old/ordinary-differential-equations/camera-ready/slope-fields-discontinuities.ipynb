{
 "cells": [
  {
   "cell_type": "markdown",
   "metadata": {},
   "source": [
    "# Slope Fields with Discontinuities\n",
    "\n",
    "We are interested in the function $g:D\\to \\mathbf{R}$ (where $D\\subset \\mathbf{R}$) such that \"the line tangent to the graph of $g$ at $(x,y)$ passes through the point $(-y,x)$\".\n",
    "\n",
    "Let $x$ and $y$ be indepedent and dependent variables, respectively. Let's consider the plane region $[-3,3]\\times [-3,3]$."
   ]
  },
  {
   "cell_type": "code",
   "execution_count": null,
   "metadata": {},
   "outputs": [],
   "source": [
    "x,y = var('x y')\n",
    "r = 3"
   ]
  },
  {
   "cell_type": "markdown",
   "metadata": {},
   "source": [
    "The line tangent to $g$ at $(x_0,y_0)$ can be written in slope-point form: $$y - y_0 = \\frac{dg}{dx}\\Big|_{x=x_0}(x-x_0).$$ \n",
    "\n",
    "From our supposition, $(-y_0,x_0)$ is a point on this line. Substitution implies $$x_0 - y_0 = \\frac{dg}{dx}\\Big|_{x=x_0}(-y_0-x_0).$$\n",
    "\n",
    "In general, $$\\frac{dg}{dx} = \\frac{y-x}{x+y}.$$\n",
    "\n",
    "Notice that $\\frac{dg}{dx}$ is discontinuous when $y=-x$, with $\\left|\\frac{dg}{dx}\\right|\\to \\infty$ nearby. \n",
    "\n",
    "We'll the plot the slope field of $g$ with $\\frac{dg}{dx}$. Then we'll plot solution curves found numerically with the fourth order Runge-Kutta method."
   ]
  },
  {
   "cell_type": "code",
   "execution_count": null,
   "metadata": {},
   "outputs": [],
   "source": [
    "g = plot_slope_field((y-x)/(x+y), (x, -r, r), (y, -r, r), headaxislength = 3, headlength = 3)\n",
    "disctnty = line([(-3,3),(3,-3)],rgbcolor=(1, 0, 0), thickness=3, legend_label='Discontinuity')"
   ]
  },
  {
   "cell_type": "code",
   "execution_count": null,
   "metadata": {},
   "outputs": [],
   "source": [
    "P1=desolve_rk4((y-x)/(x+y),y,ics=[-2,-2],end_points=[-3,0.4],step=0.01,output='plot')\n",
    "P2=desolve_rk4((y-x)/(x+y),y,ics=[-3,2.9],end_points=[-3,0],step=0.01,output='plot')\n",
    "P3=desolve_rk4((y-x)/(x+y),y,ics=[-1,2],end_points=[-1.1,-0.4],step=0.01,output='plot')\n",
    "P4=desolve_rk4((y-x)/(x+y),y,ics=[0,0.7],end_points=[-0.2,3],step=0.01,output='plot')\n",
    "\n",
    "show(disctnty+g+P1+P2+P3+P4)"
   ]
  },
  {
   "cell_type": "markdown",
   "metadata": {},
   "source": [
    "The plot below shows one solution curve found with a relatively large step size.\n",
    "\n",
    "Notice that the slope between each pair of adjacent points is increasing as the points enter quadrant IV."
   ]
  },
  {
   "cell_type": "code",
   "execution_count": null,
   "metadata": {},
   "outputs": [],
   "source": [
    "small_step=list_plot(desolve_rk4((y-x)/(x+y),y,ics=[-2,-2],end_points=[-r,0.4],step=0.1))\n",
    "show(disctnty+g+small_step)"
   ]
  },
  {
   "cell_type": "code",
   "execution_count": null,
   "metadata": {},
   "outputs": [],
   "source": []
  }
 ],
 "metadata": {
  "kernelspec": {
   "display_name": "SageMath 8.0",
   "language": "",
   "name": "sagemath"
  },
  "language_info": {
   "codemirror_mode": {
    "name": "ipython",
    "version": 2
   },
   "file_extension": ".py",
   "mimetype": "text/x-python",
   "name": "python",
   "nbconvert_exporter": "python",
   "pygments_lexer": "ipython2",
   "version": "2.7.13"
  }
 },
 "nbformat": 4,
 "nbformat_minor": 2
}
