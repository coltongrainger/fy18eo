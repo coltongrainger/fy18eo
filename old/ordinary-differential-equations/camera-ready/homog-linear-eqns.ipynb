{
 "cells": [
  {
   "cell_type": "markdown",
   "metadata": {},
   "source": [
    "$\n",
    "    \\newcommand{\\RR}{\\mathbf{R}}\n",
    "    \\newcommand{\\dv}[3][]{\\frac{d^{#1} #2}{d {#3}^{#1}}}\n",
    "    \\newcommand{\\dwrt}[2][]{\\frac{d^{#1}}{d {#2}^{#1}}}\n",
    "    \\newcommand{\\pdv}[3][]{\\frac{\\partial^{#1} #2}{\\partial {#3}^{#1}}}\n",
    "    \\newcommand{\\pdwrt}[2][]{\\frac{\\partial^{#1}}{\\partial {#2}^{#1}}}\n",
    "    \\newcommand{\\dd}[2][]{\\, d^{#1}#2}\n",
    "    \\newcommand{\\qty}[1]{\\left[#1 \\right]}\n",
    "    \\renewcommand{\\exp}[1]{e^{#1}}\n",
    "    \\newcommand{\\qq}[1]{\\qquad \\text{#1}\\qquad}\n",
    "    \\newcommand{\\leadsto}{\\quad & \\implies \\quad}\n",
    "$"
   ]
  },
  {
   "cell_type": "markdown",
   "metadata": {},
   "source": [
    "# MATH 310-10: Homework 4\n",
    "- Submitted 10/20/17 by Colton Grainger for MATH 310-10: Ordinary Differential Equations, Engineering Outreach\n",
    "- **Text:** *Differential Equations and Boundary Value Problems: Computing and Modeling* by C. Henry Edwards, David E. Penney and David Calvis, 5th Edition, Prentice Hall"
   ]
  },
  {
   "cell_type": "markdown",
   "metadata": {},
   "source": [
    "## &sect; 3.1\n",
    "### Prob 3\n",
    "We solve the IVP $$y'' + 4y = 0 \\qq{where} \n",
    "    \\pmatrix{y \\\\ y'}_{x=0} =\n",
    "    \\pmatrix{3 \\\\ 8}$$"
   ]
  },
  {
   "cell_type": "code",
   "execution_count": null,
   "metadata": {},
   "outputs": [],
   "source": [
    "x = var('x')\n",
    "sols = vector((cos(2*x),sin(2*x)))\n",
    "print \"Does L(sols[0]) = 0?\"\n",
    "print bool(0 == diff(sols[0], x, 2) + 4*sols[0])\n",
    "print \"Does L(sols[1]) = 0?\"\n",
    "print bool(0 == diff(sols[1], x, 2) + 4*sols[1])"
   ]
  },
  {
   "cell_type": "markdown",
   "metadata": {},
   "source": [
    "Let $A$ be the fundemental matrix given by $$A = \\pmatrix{y_1 & y_2 \\\\ y_1' & y_2'}.$$ We'll evaluate $A|_{x=0}$."
   ]
  },
  {
   "cell_type": "code",
   "execution_count": null,
   "metadata": {},
   "outputs": [],
   "source": [
    "A = matrix(RR, 2,2, [sols(x=0),diff(sols,x)(x=0)])\n",
    "print A"
   ]
  },
  {
   "cell_type": "markdown",
   "metadata": {},
   "source": [
    "To satisfy the ICs, we need $\\vec{c} \\in \\RR^2$ such that, at $x = 0$, we have $\\pmatrix{y_1 & y_2 \\\\ y_1' & y_2'}\\vec{c} = \\pmatrix{3 \\\\ 8}$. This is given by"
   ]
  },
  {
   "cell_type": "code",
   "execution_count": null,
   "metadata": {},
   "outputs": [],
   "source": [
    "ics = vector(RR, (3,8))\n",
    "print 'c =', A\\ics"
   ]
  },
  {
   "cell_type": "markdown",
   "metadata": {},
   "source": [
    "Our particular solution is thus $$y(x) = \\vec{c} \\cdot \\pmatrix{ y_1 \\\\ y_2} = 3\\cos(2x) + 4\\sin(2x).$$"
   ]
  },
  {
   "cell_type": "markdown",
   "metadata": {},
   "source": [
    "### Prob 11\n",
    "We solve the IVP $$y'' -2y' + 2y = 0 \\qq{where} \n",
    "    \\pmatrix{y \\\\ y'}_{x=0} =\n",
    "    \\pmatrix{0 \\\\ 5}$$"
   ]
  },
  {
   "cell_type": "code",
   "execution_count": null,
   "metadata": {},
   "outputs": [],
   "source": [
    "sols = vector((exp(x)*cos(x),exp(x)*sin(x)))\n",
    "print \"Does L(sols[0]) = 0?\"\n",
    "print bool(0 == diff(sols[0], x, 2) - 2*diff(sols[0],x) + 2*sols[0])\n",
    "print \"Does L(sols[1]) = 0?\"\n",
    "print bool(0 == diff(sols[1], x, 2) - 2*diff(sols[1],x) + 2*sols[1])"
   ]
  },
  {
   "cell_type": "code",
   "execution_count": null,
   "metadata": {},
   "outputs": [],
   "source": [
    "A = matrix(RR, 2,2, [sols(x=0),diff(sols,x)(x=0)])\n",
    "print A"
   ]
  },
  {
   "cell_type": "markdown",
   "metadata": {},
   "source": [
    "To satisfy the ICs, we need $\\vec{c} \\in \\RR^2$ such that $A\\vec{c} = \\pmatrix{0 \\\\ 5}$. This is given by"
   ]
  },
  {
   "cell_type": "code",
   "execution_count": null,
   "metadata": {},
   "outputs": [],
   "source": [
    "ics = vector(RR, (0,5))\n",
    "print 'c =', A\\ics"
   ]
  },
  {
   "cell_type": "markdown",
   "metadata": {},
   "source": [
    "Our particular solution is thus $$y(x) = \\vec{c} \\cdot \\pmatrix{ y_1 \\\\ y_2} = 5e^x\\sin(x).$$"
   ]
  },
  {
   "cell_type": "markdown",
   "metadata": {},
   "source": [
    "### Prob 20\n",
    "Define the functions $f$, $g$ for all $x$ in $\\RR$ by $f(x) = \\pi$ and $g(x) = \\cos^2x + \\sin^2x =1$. We see $f = \\pi g$ for any $x$, whence the two functions are linearly dependent on $\\RR$."
   ]
  },
  {
   "cell_type": "markdown",
   "metadata": {},
   "source": [
    "### Prob 21\n",
    "Define the functions $f$, $g$ for all $x$ in $\\RR$ by $f(x) = x^3$ and $g(x) = x^2|x|$. \n",
    "\n",
    "To show $f$ and $g$ are linearly independent, suppose for a moment they are linearly dependent, i.e., suppose there exists a non-trivial $\\vec{c} \\in \\RR^2$ such that $$\\vec{c}\\cdot\\pmatrix{f \\\\ g} \\equiv 0.$$\n",
    "\n",
    "But $$ c_1 x^3 + c_2 x^2|x| = 0 \\implies c_1x+c_2|x| = 0.$$\n",
    "\n",
    "For positive and negative values of $x$, we must have $$c_1 + c_2 = 0 \\qq{and} -c_1 + c_2 = 0,$$ leading to the contradiction $\\vec{c} = \\vec{0}$."
   ]
  },
  {
   "cell_type": "markdown",
   "metadata": {},
   "source": [
    "### Prob 33\n",
    "\n",
    "We find a general solution for the 2nd order linear homogeneous DE $$y'' -3y' + 2y = 0.$$ \n",
    "\n",
    "In terms of differential operators, $$0 = (D^2 - 3D + 2)y = (D-2)(D-1)y.$$\n",
    "\n",
    "We can read off the general solution as $$y(x) = \\vec{c} \\cdot \\pmatrix{\\exp{x} \\\\ \\exp{2x}} \\qq{for} \\vec{c} \\in \\RR^2.$$"
   ]
  },
  {
   "cell_type": "markdown",
   "metadata": {},
   "source": [
    "### Prob 45\n",
    "\n",
    "Given a general solution $$y(x) = \\vec{c} \\cdot \\pmatrix{\\exp{-10x} \\\\ x\\exp{-10x}},$$ we can recognize the differential operator $D+10$ annihilates both $\\exp{-10x}$ and $x\\exp{-10x}$. \n",
    "\n",
    "We deduce $(D+10)^2y = 0$. Thus $y'' + 20y' + 100y = 0.$"
   ]
  },
  {
   "cell_type": "markdown",
   "metadata": {},
   "source": [
    "## &sect; 3.2\n",
    "### Prob 1\n",
    "\n",
    "The set of functions $\\{2x, 3x^2, 5x - 8x^2\\}$ is linearly dependent on $\\RR$. We desire $\\vec{c} \\in \\RR^3$ such that $$\\vec{c}\\cdot \\pmatrix{2x \\\\ 3x^2 \\\\ 5x - 8x^2} \\equiv 0.$$\n",
    "\n",
    "In fact, $\\vec{c} = \\pmatrix{-15 \\\\ 16 \\\\ 6}t$ will do for any real $t$."
   ]
  },
  {
   "cell_type": "markdown",
   "metadata": {},
   "source": [
    "### Prob 5\n",
    "The set of functions $\\{17, \\cos^2x, \\cos2x\\}$ is linearly dependent on $\\RR$. Well, $\\cos2x = 2\\cos^2x - 1$, so choose $$\\vec{c} = \\pmatrix{-1/17 \\\\ 2 \\\\ -1}t \\qq{for} t \\in \\RR$$ then $$\\vec{c} \\cdot \\pmatrix{17 \\\\ \\cos^2x \\\\ \\cos2x} \\equiv 0.$$"
   ]
  },
  {
   "cell_type": "markdown",
   "metadata": {},
   "source": [
    "### Prob 7\n",
    "\n",
    "$1$, $x$, and $x^2$ are solutions on $\\RR$ to the DE $y'' =0$. We know if there exists $x \\in \\RR$ such that $W(x) \\neq 0$, then these solutions are linearly independent.\n",
    "\n",
    "$$\n",
    "W(1,x,x^2)\n",
    "= \\det\\pmatrix{1 & x & x^2 \\\\ 0 & 1 & 2x \\\\ 0 & 0 & 2} = 2,\n",
    "$$ \n",
    "which is overwhelmingly linearly independent.\n",
    "                 "
   ]
  },
  {
   "cell_type": "markdown",
   "metadata": {},
   "source": [
    "### Prob 17\n",
    "We solve the IVP $$y^{(3)} + 9y' = 0 \\qq{with ICs at $x=0$} \\pmatrix{y \\\\ y' \\\\ y''} = \\pmatrix{3 \\\\ -1 \\\\ 2}.$$\n",
    "\n",
    "The choice of constant vector $\\vec{c}$ for the general solution $y(x) = \\vec{c}\\cdot\\pmatrix{1 \\\\ \\cos3x \\\\ \\sin3x}$ should satisfy the initial conditions\n",
    "$$\n",
    "    \\pmatrix{\n",
    "        1 & \\cos3x & \\sin3x \\\\\n",
    "        0 & -3\\sin3x & 3\\cos3x\\\\\n",
    "        0 & -9\\cos3x & -9\\sin3x} \n",
    "    \\vec{c} \n",
    "    = \\pmatrix{3 \\\\ -1 \\\\ 2} \\\\\\underset{x=0}{\\implies}     \n",
    "    \\pmatrix{\n",
    "        1 & 1 & 0 \\\\\n",
    "        0 & 0 & 3\\\\\n",
    "        0 & -9 & 0}\n",
    "    \\vec{c} \n",
    "    = \\pmatrix{3 \\\\ -1 \\\\ 2}\n",
    "$$\n",
    "\n",
    "whence \n",
    "$$\n",
    "    \\vec{c} = \\pmatrix{\n",
    "        1 & 1 & 0 \\\\\n",
    "        0 & 0 & 3\\\\\n",
    "        0 & -9 & 0}^{-1} \n",
    "    \\pmatrix{3 \\\\ -1 \\\\ 2} \n",
    "    = \\pmatrix{29/9 \\\\ -2/9 \\\\ -1/3}.\n",
    "$$"
   ]
  },
  {
   "cell_type": "markdown",
   "metadata": {},
   "source": [
    "### Prob 21\n",
    "We solve the nonhomogeneous linear IVP $$y'' + y = 3x \\qq{with ICs at $x=0$} \\pmatrix{y \\\\ y'} = \\pmatrix{2 \\\\ -2}.$$\n",
    "\n",
    "We are given a particular solution $y_p = 3x$ and a complementary solution $y_c = c_1\\cos x + c_2 \\sin x$. \n",
    "\n",
    "The difference between any solution to a nonhomogeneous linear differential equation and the complementary solution $y_c$ is the particular solution $y_p$. Whence a general solution can be written as \n",
    "$$\n",
    "    y(x) = y_c + y_p = y_c = c_1\\cos x + c_2 \\sin x + 3x\n",
    "$$\n",
    "\n",
    "We choose $\\pmatrix{c_1 \\\\ c_2}$ such that $y$ satisfies the ICs at $x=0$, that is\n",
    "$$\n",
    "\\begin{align}\n",
    "    c_1 + 0 + 0&= 2,\\\\\n",
    "    0 + c_2 + 3 &= -2.\n",
    "\\end{align}\n",
    "$$\n",
    "\n",
    "Our solution to the IVP is therefore\n",
    "$$\n",
    "    y(x) = 2\\cos x -5\\sin x +3x.\n",
    "$$"
   ]
  },
  {
   "cell_type": "markdown",
   "metadata": {},
   "source": [
    "## &sect; 3.3\n",
    "### Prob 1\n",
    "\n",
    "The 2nd order linear homogeneous DE $y'' -4y = 0$ yeilds the characteristic polynomial $r^2 - 4r$. I find the roots $2$ and $-2$, and construct the general solution $$y(x) = \\pmatrix{c_1 \\\\ c_2} \\cdot \\pmatrix{\\exp{2x} \\\\ \\exp{-2x}}.$$"
   ]
  },
  {
   "cell_type": "markdown",
   "metadata": {},
   "source": [
    "### Prob 7\n",
    "\n",
    "The DE $4y'' - 12y' + 9y = 0$ yeilds the characteristic polynomial $4r^2 - 12r + 9$. From it's root $\\frac32$ (with multiplicity $2$) I construct the general solution $$y(x) = \\pmatrix{c_1 \\\\ c_2} \\cdot \\pmatrix{\\exp{3x/2} \\\\ x\\exp{3x/2}}.$$"
   ]
  },
  {
   "cell_type": "markdown",
   "metadata": {},
   "source": [
    "### Prob 11\n",
    "\n",
    "The 4th order linear homogeneous DE $$y^{(4)} - 8y^{(3)} + 16y'' = 0,$$ with characteristic polynomial $r^4 - 8r^3 + 16r^2 = r^2(r-4)^2$ yeilds the general solution (for $\\vec{c} \\in \\RR^4$) $$y(x) = \\vec{c}\\cdot\\pmatrix{1 \\\\ x \\\\ e^{4x} \\\\ xe^{4x}}.$$"
   ]
  },
  {
   "cell_type": "markdown",
   "metadata": {},
   "source": [
    "### Prob 21\n",
    "\n",
    "The 2th order linear homogeneous DE $$y'' - 4y' +3y =0,$$ with characteristic polynomial $r^2 - 4r +3= (r-1)(r-3)$ yeilds the general solution $$ y(x) = c_1e^x +c_2e^{3x}.$$\n",
    "\n",
    "Given the ICs $\\pmatrix{y \\\\ y'} = \\pmatrix{7 \\\\ 11}$ at $x=0$, our solution must satisfy\n",
    "$$\n",
    "\\pmatrix{1 & 1 \\\\ 1 & 3}\\pmatrix{c_1 \\\\ c_2} = \\pmatrix{7 \\\\ 11}\n",
    "$$\n",
    "whence $c_1 = 5$, $c_2 = 2$, and the particular solution is\n",
    "$$y(x) = 5e^x +2e^{3x}.$$"
   ]
  },
  {
   "cell_type": "markdown",
   "metadata": {},
   "source": [
    "### Prob 33\n",
    "\n",
    "Consider the DE $y^{(3)} + 3y'' -54y = 0$ where $y_1 = e^{3x}$ is a known solution on $\\RR$. I express the DE in terms of differential operators\n",
    "$$\n",
    "\\begin{align}\n",
    "(D^3 + 3D^2 -54)y &= (D-3)(D^2 + 6D + 18)y\\\\\n",
    "    &= (D-3)((D+3)^2 + 9)y.\n",
    "\\end{align}\n",
    "$$\n",
    "\n",
    "We inspect to see the polynomial \"in $D$\" has roots $3$ and $-3 \\pm i3$. We write the general solution $$y(x) = \\vec{c}\\cdot\\pmatrix{e^{3x} \\\\ e^{-3x}\\cos{3x} \\\\ e^{-3x}\\sin{3x}}.$$  "
   ]
  },
  {
   "cell_type": "markdown",
   "metadata": {},
   "source": [
    "### Prob 39\n",
    "\n",
    "The solution $(A + Bx + Cx^2)e^{2x}$ is a linear combination of the functions $e^{2x}$, $xe^{2x}$, and $x^2e^{2x}$. Each satisfies the DE $(D-2)^3y=0$.\n",
    "\n",
    "From the binomial theorem, we write the DE as $$\n",
    "\\displaystyle \\left(\\sum_{k=0}^{3}{3 \\choose k} D^k (-2)^{3-k}\\right)y = 0,$$ or simply $$y^{(3)} - 6y'' + 12y' - 8 = 0.$$"
   ]
  },
  {
   "cell_type": "markdown",
   "metadata": {},
   "source": [
    "### Prob 41\n",
    "\n",
    "Suppose $$y(x) = \\vec{c}\\cdot\\pmatrix{\\cos{2x} \\\\ \\sin{2x} \\\\ \\cosh{2x} \\\\ \\sinh{2x}}.$$ To see which differential operators annihilate each basis function, we need only note that the hyperbolic cosine and sine are orthogonal linear combinations of exponential functions (with the same arguments). It's then straightforward to see that $(D-2i)(D+2i)$, or $(D^2 + 4)$, annihilates sine and cosine, and $(D-2)(D+2)$, or $(D^2 -4)$, anihilates hyperbolic sine and cosine. \n",
    "\n",
    "Whence the DE for which $y$ is a general solution is $$(D^2 -4)(D^2 +4)y = 0 \\implies y^{(4)} - 16y = 0.$$"
   ]
  },
  {
   "cell_type": "markdown",
   "metadata": {},
   "source": [
    "### Prob 43\n",
    "a. Suppose $z \\in \\mathbf{C}$ with $z = x_iy$. Then $|z| = \\sqrt{z\\bar{z}} = \\sqrt{(x+iy)(x-iy)} = \\sqrt{x^2 + y^2}$. Denote $r = |z|$. \n",
    "\n",
    "We desire $\\theta$ such that $\\tan\\theta = \\frac yx$. If we require $\\theta \\in (-\\pi, \\pi]$, we should define \n",
    "$$\n",
    "\\theta = \n",
    "    \\begin{cases}\n",
    "    \\arctan{\\frac yx} &\\text{for $x> 0$}\\\\\n",
    "    \\arctan{\\frac yx} + \\pi &\\text{for $x< 0$, $y> 0$}\\\\\n",
    "    \\arctan{\\frac yx} -\\pi &\\text{otherwise}.\n",
    "    \\end{cases}\n",
    "$$\n",
    "\n",
    "Then we may write \n",
    "$$\n",
    "\\begin{align}\n",
    "    r\\exp{i\\theta} &= |z|(\\cos\\theta + i\\sin\\theta) \\\\\n",
    "    &= \\sqrt{x^2 + y^2}\\left(\\frac x{\\sqrt{x^2 + y^2}}+ i\\frac y{\\sqrt{x^2 + y^2}}\\right)\\\\\n",
    "    &= x+iy.\n",
    "\\end{align}\n",
    "$$\n",
    "\n",
    "b. We list a variety of complex numbers in Cartesian and polar forms, where the modulus and arguments are calculated as outlined above.\n",
    "- $4 = 4\\exp{i0}$,\n",
    "- $-2 = 2\\exp{i\\pi}$,\n",
    "- $3i = 3\\exp{i\\pi/2}$,\n",
    "- $1+i = \\sqrt{2}\\exp{i\\pi/4}$, and\n",
    "- $-1+i\\sqrt{3} = 2\\exp{i2\\pi/3}$.\n",
    "\n",
    "c. The number $2-2i\\sqrt{3}$ has square roots $\\pm2\\exp{-\\pi/6}$. The number $2+2i\\sqrt{3}$ is in the opposite quadrant, and therefore has square roots $\\pm2\\exp{\\pi/3}.$\n",
    "    "
   ]
  },
  {
   "cell_type": "markdown",
   "metadata": {},
   "source": [
    "## &sect; 3.4 \n",
    "### Prob 1\n",
    "\n",
    "Given a mass of $4 \\mathrm{kg}$ attached to a spring of $16 \\mathrm{kg}\\cdot\\mathrm{s}^{-2}$, I can determine the frequency and period of simple harmonic motion in the mass-spring system.\n",
    "\n",
    "$$ \\omega_0 = \\sqrt{\\frac{k}{m}} =  2\\ \\mathrm{s}^{-1} \\qq{ and } T = \\frac{2\\pi}{\\omega_0} = \\pi\\ \\mathrm{s}.$$"
   ]
  },
  {
   "cell_type": "markdown",
   "metadata": {},
   "source": [
    "### Prob 3\n",
    "\n",
    "Suppose a spring stretched $0.2\\ \\mathrm{m}$ exerts a $15 \\mathrm{N}$ restoring force. Then $k = 75 \\mathrm{kg}\\cdot\\mathrm{s}^{-1}$ is the spring constant. \n",
    "\n",
    "Consider a frictionless system where mass of $3 \\mathrm{kg}$ attached to a spring with constant $k$. If the mass is perturbed from equilibrium, it will oscillate in simple harmonic motion. The frequency of oscillation is $\\omega_0 = \\sqrt{k/m}$, and the general equation of motion is $$x(t)= \\pmatrix{c_1 \\\\ c_2} \\cdot \\pmatrix{\\cos{\\omega_0t} \\\\ \\sin{\\omega_0t}}.$$ \n",
    "\n",
    "Given the ICs $x(0)=0$ and $\\dot{x}(0) = -10$, we find the particular solution (through matrix multiplication) $$x(t)= \\frac25\\sin(25t).$$ "
   ]
  },
  {
   "cell_type": "markdown",
   "metadata": {},
   "source": [
    "### Prob 5\n",
    "\n",
    "The angle of a simple pendulum is governed by the DE $$\\theta'' + \\frac{g}L\\theta = 0$$ where $g = \\frac{GM}{R^2}$ is the acceleration due to gravity ($G$ universal gravitation constant, $M$ mass of earth, $R$ distance from earth's center of mass) and $L$ is the length of pendulum.\n",
    "\n",
    "Solutions to the DE are simple harmonic with frequency $\\omega_0 = \\sqrt{g/L}$ and period $p = \\frac{2\\pi}{\\omega_0}$. We see that, given two pendulums at different distances $R_1$ and $R_2$ from the center of the earth and with different string lengths $L_1$ and $L_2$, \n",
    "$$\n",
    "    \\frac{p_1}{p_2}= \\frac{\\omega_2}{\\omega_1} = \\frac{R_1\\sqrt{L_1}}{R_2\\sqrt{L_2}}, \\qq{cancelling $\\sqrt{GM}$.}\n",
    "$$"
   ]
  },
  {
   "cell_type": "markdown",
   "metadata": {},
   "source": [
    "### Prob 13\n",
    "Consider a mass-spring-dashpot system with $m = 10$, $c = 9$, $k=2$. In this case, $c^2 > 4mk$, so our system is overdamped. \n",
    "\n",
    "The roots of the characteristic polynomial $mr^2 + cr + k$ are $-1/5$ and $-2/5$. The general solution is thus $$x(t)= \\vec{c}\\cdot\\pmatrix{\\exp{-t/2} \\\\ \\exp{-2t/5}}.$$ \n",
    "\n",
    "ICs imply $$\\pmatrix{x(0) \\\\ \\dot{x}(0)} = \\pmatrix{ 0 \\\\ 5 } \\implies \\pmatrix{1 & 1 \\\\ -1/2 & -2/5} \\vec{c} = \\pmatrix{ 0 \\\\ 5 } \\\\ \\implies \\vec{c} = \\pmatrix{ 50 \\\\ -50 }.$$\n",
    "\n",
    "a. Our particular solution is then $$x(t)= \\pmatrix{ 50 \\\\ -50 }\\cdot\\pmatrix{\\exp{-t/2} \\\\ \\exp{-2t/5}}.$$ \n",
    "\n",
    "Notice that $\\exp{-t/2} < \\exp{-2t/5}$ for all positive $t$. The positive term $50\\exp{-2t/5}$ dominates for small $t$, until both terms decay exponentially. Whence the graph has a maximum after $t=0$.\n",
    "\n",
    "b. At what time $\\tau$ is $\\dot{x}(\\tau) = 0$? Does a time $\\tau$ exist? \n",
    "\n",
    "> Our procedure is \"open minded.\" We may hope to find the unknown satisfying the condition, or we may hope to show that the condition cannot be satisfied. It matters little in one respect: the investigation, if it is well conducted, starts in both cases in the same way, examining the hypothetical situation in which the condition is fulfilled, and shows only in its later course which hope is justified. (G. Polya, 1957)\n",
    "\n",
    "So assume $\\tau$ exists. Then it must satisfy $\\pmatrix{ 50 \\\\ -50 }\\cdot\\pmatrix{\\exp{-\\tau/2} \\\\ \\exp{-2\\tau/5}} = 0$. Using logarithms, we find $\\tau = 10 \\ln(5/4)$. We've found the unknown satifying the condition. \n",
    "\n",
    "Intuitively, we immediately see $x(\\tau) = 4.096$ is the absolute maximum. But rigourously, we can show that $x(\\tau)$ is the absolute max on some compact interval $[0, \\alpha]$ with $\\alpha > \\tau$. Further, $x(t)$ is decreasing for all $t > \\tau$. Both together leads to the conclusion that $x(\\tau)$ is the absolute max."
   ]
  },
  {
   "cell_type": "markdown",
   "metadata": {},
   "source": [
    "### Prob 15\n",
    "Consider a mass-spring-dashpot system modeled by $x$, a function of $t>0$, with mass $m = \\frac12\\ \\mathrm{kg}$, damping coeffecient $c = 3\\ \\mathrm{kg}\\cdot\\mathrm{s}^{-1}$, and spring constant $k = 4\\ \\mathrm{kg}\\cdot\\mathrm{s}^{-2}$. Newton's 2nd law implies $$m\\ddot{x} + c\\dot{x} + kx = 0.$$\n",
    "\n",
    "Given the IC (at $x=0$) $$\\pmatrix{x \\\\ \\dot{x}} = \\pmatrix{2 \\\\ 0}$$ we will determine the time evolution of the system.\n",
    "\n",
    "First notice we have $c^2 > 4mk$. This system is overdampled. From the DE's characteristic polynomial, we find distinct real roots $-4$ and $-2$. Taking the two linearly independent functions that the differential operators $D+2$ and $D+4$ respectively annihilate, we construct the general solution $$x(t) = \\pmatrix{c_1 \\\\ c_2} \\cdot \\pmatrix{\\exp{-4t} \\\\ \\exp{-2t}}.$$\n",
    "\n",
    "ICs imply $$\\pmatrix{1 & 1 \\\\ -4 & -2}\\pmatrix{c_1 \\\\ c_2} = \\pmatrix{2 \\\\ 0}\\\\\n",
    "\\underset{\\mathrm{inv}}{\\implies} \\pmatrix{c_1 \\\\ c_2} = \\pmatrix{-2 \\\\ 4}.$$\n",
    "\n",
    "We find particular solution $$x(t) = -2\\exp{-4t} + 4\\exp{-2t}.$$"
   ]
  },
  {
   "cell_type": "markdown",
   "metadata": {},
   "source": [
    "### Prob 17\n",
    "Consider a mass-spring-dashpot system modeled with mass $m = 1\\ \\mathrm{kg}$, damping coeffecient $c = 8\\ \\mathrm{kg}\\cdot\\mathrm{s}^{-1}$, and spring constant $k = 16\\ \\mathrm{kg}\\cdot\\mathrm{s}^{-2}$. Suppose the IC (at $x=0$) is $$\\pmatrix{x \\\\ \\dot{x}} = \\pmatrix{5 \\\\ -10}.$$\n",
    "\n",
    "In this case, we have $c^2 = 4mk$. This system is critically damped. We find repeated real roots $-4$ and $-4$. The general solution is $$x(t) = \\pmatrix{c_1 \\\\ c_2} \\cdot \\pmatrix{\\exp{-4t} \\\\ t\\exp{-4t}}.$$\n",
    "\n",
    "ICs imply $$\\pmatrix{1 & 0 \\\\ -4 & 1}\\pmatrix{c_1 \\\\ c_2} = \\pmatrix{5 \\\\ -10}\\\\\n",
    "\\underset{\\mathrm{inv}}{\\implies} \\pmatrix{c_1 \\\\ c_2} = \\pmatrix{5 \\\\ 10}.$$\n",
    "\n",
    "We find particular solution $$x(t) = -5\\exp{-4t} + 10t\\exp{-4t}.$$"
   ]
  },
  {
   "cell_type": "markdown",
   "metadata": {},
   "source": [
    "### Prob 22\n",
    "\n",
    "Suppose a mass of $0.375$ slugs stretchs a spring $0.5$ feet when hanging at equilibrium. The magnitude of the force of gravity is equal to the magnitude of the spring's restoring force, whence $k/2 = mg$, or $k = 24 \\frac{\\mathrm{slugs}}{\\mathrm{sec}^2}$. \n",
    "\n",
    "Consider now a mass-spring-dashpot system $m = 0.375$, $c = 3$, and $k = 24$.Suppose the IC (at $x=0$) is $$\\pmatrix{x \\\\ \\dot{x}} = \\pmatrix{-1 \\\\ 0}.$$\n",
    "\n",
    "In this case, we have $c^2 < 4mk$. This system is underdamped. We find complex conjugate roots real roots $-4\\pm i4\\sqrt{3}$. The general solution is $$x(t) = \\exp{-4t}\\pmatrix{c_1 \\\\ c_2} \\cdot \\pmatrix{\\cos{4\\sqrt{3}t}\\\\ \\sin{4\\sqrt{3}t}}.$$\n",
    "\n",
    "ICs imply $$\\pmatrix{1 & 0 \\\\ -4 & -4\\sqrt{3}}\\pmatrix{c_1 \\\\ c_2} = \\pmatrix{-1 \\\\ 0}\\\\\n",
    "\\underset{\\mathrm{inv}}{\\implies} \\pmatrix{c_1 \\\\ c_2} = \\pmatrix{-1 \\\\ \\sqrt{3}/3}.$$\n",
    "\n",
    "a. We find particular solution $$x(t) = \\exp{-4t}\\left(-\\cos{4\\sqrt{3}t} + \\frac{\\sqrt{3}}{3}\\sin{4\\sqrt{3}t}\\right).$$\n",
    "\n",
    "b. The psuedo frequency is $4\\sqrt{3}$ and the envelope is $\\exp{-4t}$. Further, the time varying amplitude is $\\sqrt{1 + \\frac13} = \\frac{2\\sqrt{3}}{3}$ and the phase angle is $\\alpha = \\frac{\\pi}6$ such that $\\tan{\\alpha} = \\frac{\\sqrt{3}}{3}$ (sign error?)."
   ]
  },
  {
   "cell_type": "code",
   "execution_count": null,
   "metadata": {},
   "outputs": [],
   "source": []
  }
 ],
 "metadata": {
  "kernelspec": {
   "display_name": "SageMath 8.0",
   "language": "",
   "name": "sagemath"
  },
  "language_info": {
   "codemirror_mode": {
    "name": "ipython",
    "version": 2
   },
   "file_extension": ".py",
   "mimetype": "text/x-python",
   "name": "python",
   "nbconvert_exporter": "python",
   "pygments_lexer": "ipython2",
   "version": "2.7.13"
  }
 },
 "nbformat": 4,
 "nbformat_minor": 2
}
