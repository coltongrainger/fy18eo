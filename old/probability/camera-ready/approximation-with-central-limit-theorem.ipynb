{
 "cells": [
  {
   "cell_type": "markdown",
   "metadata": {},
   "source": [
    "$\n",
    "    \\def\\given{\\,\\middle|\\,}\n",
    "    \\newcommand{\\setm}{\\setminus}\n",
    "    \\newcommand{\\Pr}[1]{\\mathbf{P}\\left(#1 \\right)}\n",
    "    \\newcommand{\\given}{\\,\\middle|\\,}\n",
    "    \\newcommand{\\qp}[1]{\\left(#1\\right)}\n",
    "    \\newcommand{\\Var}[1]{\\mathrm{Var}\\left[#1\\right]}\n",
    "    \\newcommand{\\E}[1]{\\mathrm{E}\\left[#1\\right]}\n",
    "$"
   ]
  },
  {
   "cell_type": "markdown",
   "metadata": {},
   "source": [
    "# Approximations with the Central Limit Theorem\n",
    "\n",
    "- Submitted by Colton Grainger for Math 451-1: Probability Theory, Engineering Outreach.\n",
    "- Text: Samaniego, J.F., *Stochastic Modeling and Mathematical Statistics*, CRC Press, 2014.\n",
    "    - &sect; 5.5 Prob 24, 27, 28, 31, 35"
   ]
  },
  {
   "cell_type": "markdown",
   "metadata": {},
   "source": [
    "### Prob 24\n",
    "\n",
    "Let the $X_i$ be identitical and indepenedently distributed RVs with pmf $p(1) = \\frac12$, $p(-1) = \\frac12$.\n",
    "\n",
    "For any of the $X_i$, we have \n",
    "\n",
    "- $\\mu = \\E{X_i} = 0$,\n",
    "- $\\sigma^2 = \\Var{X_i} = 1$.\n",
    "\n",
    "Now consider the sum of $n$ of the $X_i$, \n",
    "\n",
    "$$\n",
    "S_n = \\sum_{i=1}^n X_i.\n",
    "$$\n",
    "\n",
    "We'll approximate $S_n$ for large $n$ with a normal distribution. That is, where \n",
    "\n",
    "$$\n",
    "g(x) = \\frac{x - n\\mu}{\\sqrt{n}\\sigma},\n",
    "$$\n",
    "\n",
    "the Central Limit Theorem provides that $g(S_n)$ [converges in distribution](https://en.wikipedia.org/wiki/Convergence_of_random_variables#Convergence_in_distribution) to $Z \\sim N(0,1)$.\n",
    "\n",
    "We desire $\\Pr{S_n \\geq 25}$, or equivalently, as $g$ is a continuous, monotone function, \n",
    "$$\n",
    "\\Pr{g(S_n) \\geq g(25)}.\n",
    "$$\n",
    "\n",
    "With $n = 500$, we approximate \n",
    "$$\n",
    "\\begin{align}\n",
    "    \\Pr{g(S_n) \\geq g(25)} &\\approx \\Pr{ Z \\geq g(25)}\\\\\n",
    "        & \\approx 1 - \\Phi(g(25))\\\\\n",
    "        & \\approx 0.1318.\n",
    "\\end{align}\n",
    "$$"
   ]
  },
  {
   "cell_type": "code",
   "execution_count": null,
   "metadata": {},
   "outputs": [],
   "source": [
    "from scipy.stats import norm\n",
    "\n",
    "mean = 0\n",
    "stddev = 1\n",
    "n = 500\n",
    "\n",
    "def g(x):\n",
    "    # N for numerical approx, rather than symbolic sqrt\n",
    "    return N((x - n*mean)/(stddev*sqrt(n)))\n",
    "\n",
    "print 1 - norm.cdf(g(25))"
   ]
  },
  {
   "cell_type": "markdown",
   "metadata": {},
   "source": [
    "### Prob 27\n",
    "\n",
    "Let the $X_i$ be independent, identically distributed random variables with probability mass function $p(1) = \\frac9{19}$ and $p(-1) = \\frac{10}{19}$. \n",
    "\n",
    "We find\n",
    "- $\\mu = \\E{X_i} = -\\frac{1}{19}$,\n",
    "- $\\sigma^2 = \\Var{X_i} = \\frac{360}{361}$.\n",
    "\n",
    "By the Central Limit Theorem, $\\Pr{\\frac{S_n - n\\mu}{\\sqrt{n}\\sigma} \\leq x} \\approx \\Phi(x)$, for large $n$. In our case, $n = 1000$. \n",
    "\n",
    "We thus approximate \n",
    "$$\n",
    "\\begin{align}    \n",
    "        \\Pr{S_n \\geq 0} &= 1 - \\Pr{S_n \\leq 0}\\\\\n",
    "        &= 1 - \\Pr{\\frac{S_n - n\\mu}{\\sqrt{n}\\sigma}  \\leq -\\frac{n\\mu}{\\sigma \\sqrt{n}}}\n",
    "        \\\\\n",
    "        &\\approx 1 - \\Phi\\left(-\\frac{n\\mu}{\\sqrt{n}\\sigma}\\right)\\\\\n",
    "        &\\approx 0.04779\n",
    "\\end{align}\n",
    "$$"
   ]
  },
  {
   "cell_type": "code",
   "execution_count": null,
   "metadata": {},
   "outputs": [],
   "source": [
    "mean = -1/19\n",
    "stddev = sqrt(1 - (1/19)^2)\n",
    "n = 1000\n",
    "\n",
    "print 1 - norm.cdf(g(0))"
   ]
  },
  {
   "cell_type": "markdown",
   "metadata": {},
   "source": [
    "### Prob 28\n",
    "\n",
    "Suppose the $X_i$ are all $\\stackrel{\\text{iid}}{\\sim} G(1/2)$. \n",
    "\n",
    "Describing the $X_i$, we have\n",
    "\n",
    "- $\\mu = \\E{X_i} = 2$,\n",
    "- $\\sigma^2 = \\Var{X_i} = 2$.\n",
    "\n",
    "Now consider the sum\n",
    "$$\n",
    "S_n = \\sum_{i=1}^n X_i.\n",
    "$$\n",
    "\n",
    "We desire $\\Pr{S_n \\geq 220}$ for $n = 100$. \n",
    "\n",
    "Since $n$ is large, we'll apply the Central Limit Theorem to approximate\n",
    "\n",
    "$$\n",
    "\\begin{align}\n",
    "    1 - \\Pr{S_n \\leq 220} \n",
    "        &= 1- \\Pr{\\frac{S_n - n\\mu}{\\sqrt{n}\\sigma} \\leq \\frac{220 - n\\mu}{\\sqrt{n}\\sigma}}\\\\\n",
    "        &\\approx  1- \\Phi\\left(\\frac{220 - n\\mu}{\\sqrt{n}\\sigma}\\right)\\\\\n",
    "        &\\approx 0.07865.\n",
    "\\end{align}\n",
    "$$"
   ]
  },
  {
   "cell_type": "code",
   "execution_count": null,
   "metadata": {},
   "outputs": [],
   "source": [
    "mean = 2\n",
    "stddev = sqrt(2)\n",
    "n = 100\n",
    "\n",
    "print 1 - norm.cdf(g(220))"
   ]
  },
  {
   "cell_type": "markdown",
   "metadata": {},
   "source": [
    "### Prob 31\n",
    "\n",
    "Suppose the $X_i$ are iid RVs with \n",
    "\n",
    "- $\\mu = \\E{X_i} = 12$,\n",
    "- $\\sigma^2 = \\Var{X_i} = 2$.\n",
    "\n",
    "Then, considering $S = \\sum_{i=1}^{100} X_i$, we have \n",
    "\n",
    "$$\n",
    "\\begin{align}\n",
    "    \\Pr{S \\leq 1230} \n",
    "        &\\approx  \\Phi\\left(\\frac{1230 - 100\\cdot\\mu}{10\\cdot\\sigma}\\right)\\\\\n",
    "        &\\approx 0.9332.\n",
    "\\end{align}\n",
    "$$"
   ]
  },
  {
   "cell_type": "code",
   "execution_count": null,
   "metadata": {},
   "outputs": [],
   "source": [
    "mean = 12\n",
    "stddev = 2\n",
    "n = 100\n",
    "\n",
    "def g(x):\n",
    "# the N() wrapper returns a numerical approx \n",
    "# ... rather than the symbolic square root\n",
    "    return N((x - n*mean)/(stddev*sqrt(n)))\n",
    "\n",
    "print norm.cdf(g(1230))"
   ]
  },
  {
   "cell_type": "markdown",
   "metadata": {},
   "source": [
    "### Prob 35\n",
    "\n",
    "Suppose the $X_i$ are iid $\\mathrm{Exp}\\left(\\frac1{10}\\right)$ RVs.\n",
    "\n",
    "Then\n",
    "\n",
    "- $\\mu = \\E{X_i} = 10$,\n",
    "- $\\sigma^2 = \\Var{X_i} = 100$.\n",
    "\n",
    "Considering $S = \\sum_{i=1}^{100} X_i$, we have \n",
    "\n",
    "$$\n",
    "\\begin{align}\n",
    "    \\Pr{S \\leq 1050} \n",
    "        &\\approx  \\Phi\\left(\\frac{1050 - 1000}{100}\\right)\\\\\n",
    "        &\\approx 0.6915.\n",
    "\\end{align}\n",
    "$$"
   ]
  },
  {
   "cell_type": "code",
   "execution_count": null,
   "metadata": {},
   "outputs": [],
   "source": [
    "mean = 10\n",
    "stddev = 10\n",
    "n = 100\n",
    "\n",
    "print norm.cdf(g(1050))"
   ]
  }
 ],
 "metadata": {
  "kernelspec": {
   "display_name": "SageMath 8.0",
   "language": "",
   "name": "sagemath"
  },
  "language_info": {
   "codemirror_mode": {
    "name": "ipython",
    "version": 2
   },
   "file_extension": ".py",
   "mimetype": "text/x-python",
   "name": "python",
   "nbconvert_exporter": "python",
   "pygments_lexer": "ipython2",
   "version": "2.7.13"
  }
 },
 "nbformat": 4,
 "nbformat_minor": 2
}
