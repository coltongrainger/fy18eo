{
 "cells": [
  {
   "cell_type": "markdown",
   "metadata": {},
   "source": [
    "# Math 451: Homework 8\n",
    "## Bivariate Distributions, Part I\n",
    "\n",
    "- Submitted 11/12/17 by Colton Grainger for Math 451-1: Probability Theory, Engineering Outreach\n",
    "- **Text:** *Stochastic Modeling and Mathematical Statistics* by Francisco J. Samaniego, CRC Press"
   ]
  },
  {
   "cell_type": "markdown",
   "metadata": {},
   "source": [
    "### 4.8 Prob 1\n",
    "\n",
    "Given the discrete pmf,\n",
    "$$p_{X,Y}(x,y) = \\frac{x+y}{27} \\quad \\text{for $x \\in \\{0,1,2\\}$ and $y \\in \\{1,2,3\\}$}$$\n",
    "we can explicitly compute marginal pmfs, conditional pmfs, and various expected values."
   ]
  },
  {
   "cell_type": "code",
   "execution_count": null,
   "metadata": {},
   "outputs": [],
   "source": [
    "x,y = var('x y')\n",
    "p_X_Y(x,y) = (x+y)/27\n",
    "\n",
    "for j in [1..3]:\n",
    "    print ''\n",
    "    for i in [0..2]:\n",
    "        print 'p_X_Y(%d,%d)' % (i,j) + ' = ' + str(p_X_Y(i,j))"
   ]
  },
  {
   "cell_type": "code",
   "execution_count": null,
   "metadata": {},
   "outputs": [],
   "source": [
    "#marginal pmf wrt X\n",
    "p_X(x) = sum(p_X_Y(x,y),y, 1, 3)\n",
    "\n",
    "for i in [0..2]:\n",
    "    print 'p_X(%d)' % i + ' = ' + str(p_X(i))"
   ]
  },
  {
   "cell_type": "code",
   "execution_count": null,
   "metadata": {},
   "outputs": [],
   "source": [
    "#marginal pmf wrt Y\n",
    "p_Y(y) = sum(p_X_Y, x, 0, 2)\n",
    "\n",
    "for j in [1..3]:\n",
    "    print 'p_Y(%d)' % j + ' = ' + str(p_Y(j))"
   ]
  },
  {
   "cell_type": "code",
   "execution_count": null,
   "metadata": {},
   "outputs": [],
   "source": [
    "#conditional pmf of X given Y = y\n",
    "p_X_given_Y(x,y) = p_X_Y(x,y)/p_Y(y)\n",
    "\n",
    "for j in [1..3]:\n",
    "    print ''\n",
    "    for i in [0..2]:\n",
    "        print 'p_X_given_Y(%d,%d)' % (i,j) + ' = ' + str(p_X_given_Y(i,j))"
   ]
  },
  {
   "cell_type": "code",
   "execution_count": null,
   "metadata": {},
   "outputs": [],
   "source": [
    "#conditional pmf of Y given X = x\n",
    "p_Y_given_X(x,y) = p_X_Y(x,y)/p_X(x)\n",
    "\n",
    "for i in [0..2]:\n",
    "    print ''\n",
    "    for j in [1..3]:\n",
    "        print 'p_Y_given_X(%d,%d)' % (i,j) + ' = ' + str(p_Y_given_X(i,j))"
   ]
  },
  {
   "cell_type": "code",
   "execution_count": null,
   "metadata": {},
   "outputs": [],
   "source": [
    "#expected values\n",
    "print 'E[X]     = ' + str(sum(x*p_X(x), x, 0, 2))\n",
    "print 'E[Y]     = ' + str(sum(y*p_Y(y), y, 1, 3))\n",
    "print 'E[X|Y=2] = ' + str(sum(x*p_X_given_Y(x,2), x, 0, 2))"
   ]
  },
  {
   "cell_type": "markdown",
   "metadata": {},
   "source": [
    "### 4.7 Prob 3"
   ]
  },
  {
   "cell_type": "markdown",
   "metadata": {},
   "source": [
    "Given a continuous pdf,\n",
    "$$f_{XY}(x,y) = kx^2(1-y) \\quad \\text{for $(x,y) \\in [0,1]^2$}$$\n",
    "\n",
    "we'll normalize with $k$, find an expected value $E\\left[\\frac{Y}{X}\\right]$, and compute the probability that $X+Y \\leq 1$."
   ]
  },
  {
   "cell_type": "code",
   "execution_count": null,
   "metadata": {},
   "outputs": [],
   "source": [
    "#to normalize\n",
    "k = 1/(integrate(integrate(x^2*(1-y), x, 0, 1), y, 0, 1))\n",
    "print 'k = ' + str(k)"
   ]
  },
  {
   "cell_type": "code",
   "execution_count": null,
   "metadata": {},
   "outputs": [],
   "source": [
    "#here's the joint density function\n",
    "f_X_Y(x,y) = k*x^2*(1-y)\n",
    "show(f_X_Y)"
   ]
  },
  {
   "cell_type": "code",
   "execution_count": null,
   "metadata": {},
   "outputs": [],
   "source": [
    "# plotting the joint density function\n",
    "from sage.manifolds.utilities import set_axes_labels\n",
    "plot = plot3d(f_X_Y, (x, 0, 1), (y, 0, 1))\n",
    "set_axes_labels(plot, 'X=x', 'Y=y', 'f_X_Y', color='red')"
   ]
  },
  {
   "cell_type": "markdown",
   "metadata": {},
   "source": [
    "To compute $E[Y/X]$, we define $g(x, y) = y/x$ and take advantage of the fact that \n",
    "$$E[g(X,Y)] = \\iint_{\\mathbf{R}^2}g(x,y)\\cdot f_{XY}(x, y)\\, dx\\, dy$$"
   ]
  },
  {
   "cell_type": "code",
   "execution_count": null,
   "metadata": {},
   "outputs": [],
   "source": [
    "#expected value of Y/X\n",
    "print 'E[Y/X] = ' + str(integrate(integrate((y/x)*f_X_Y(x,y), x, 0, 1), y, 0, 1))"
   ]
  },
  {
   "cell_type": "code",
   "execution_count": null,
   "metadata": {},
   "outputs": [],
   "source": [
    "#the probability that X + Y ≤ 1\n",
    "print 'Pr(X + Y ≤ 1) = ' + str(integrate(integrate(f_X_Y(x,y), x, 0, y), y, 0, 1))"
   ]
  },
  {
   "cell_type": "markdown",
   "metadata": {},
   "source": [
    "### 4.7 Prob 4\n",
    "Consider a fair coin tossed $3$ times. Let $X$ and $Y$ be discrete RVs representing the number of heads in the first two and last two tosses, respectively. \n",
    "\n",
    "Clearly $X$ and $Y$ are dependent, whence we must explicitly list the joint pmf $p_{X,Y}(x,y)$. To find the joint pmf, I've assigned each point's probability mass ($1/8$) in the domain $\\Omega = [0,1]^3$ to its image under the random vector $(X, Y)$."
   ]
  },
  {
   "cell_type": "code",
   "execution_count": null,
   "metadata": {},
   "outputs": [],
   "source": [
    "def pmf_X_Y(x,y):\n",
    "    return [[1/8, 1/8, 0  ], \n",
    "            [1/8, 1/4, 1/8], \n",
    "            [0,   1/8, 1/8]][x][y]\n",
    "\n",
    "print '(x,y)      pmf_X_Y'\n",
    "for i in range(3):\n",
    "    for j in range(3):\n",
    "        print '(%d,%d)' % (i,j) + ' |--> ' + str(pmf_X_Y(i,j))"
   ]
  },
  {
   "cell_type": "markdown",
   "metadata": {},
   "source": [
    "Here are the marginal pmfs."
   ]
  },
  {
   "cell_type": "code",
   "execution_count": null,
   "metadata": {},
   "outputs": [],
   "source": [
    "def pmf_X(x):\n",
    "    return sum([pmf_X_Y(x, j) for j in range(3)])\n",
    "\n",
    "print 'x      pmf_X'\n",
    "for i in range(3):\n",
    "     print '%d' % i + ' |--> ' + str(pmf_X(i))"
   ]
  },
  {
   "cell_type": "code",
   "execution_count": null,
   "metadata": {},
   "outputs": [],
   "source": [
    "def pmf_Y(y):\n",
    "    return sum([pmf_X_Y(i,j) for i in range(3)])\n",
    "\n",
    "print 'y      pmf_Y'\n",
    "for j in range(3):\n",
    "    print '%d' % j + ' |--> ' + str(pmf_Y(j))"
   ]
  },
  {
   "cell_type": "markdown",
   "metadata": {},
   "source": [
    "Here's the conditional pmf of $X$ given $Y$."
   ]
  },
  {
   "cell_type": "code",
   "execution_count": null,
   "metadata": {},
   "outputs": [],
   "source": [
    "def pmf_X_given_Y(x,y):\n",
    "    return pmf_X_Y(x,y)/pmf_Y(y)\n",
    "\n",
    "for j in range(3):\n",
    "    print \"\\n\" 'x      pmf_X_given_Y=%d' % j\n",
    "    for i in range(3):\n",
    "        print '%d' % i + ' |--> ' + str(pmf_X_given_Y(i,j))"
   ]
  },
  {
   "cell_type": "markdown",
   "metadata": {},
   "source": [
    "Here's a calculation producing the correlation coefficient $\\rho_{X,Y}$."
   ]
  },
  {
   "cell_type": "code",
   "execution_count": null,
   "metadata": {},
   "outputs": [],
   "source": [
    "def nth_moment_X(n):\n",
    "    return sum([x^n*pmf_X(x) for x in range(3)])\n",
    "\n",
    "def nth_moment_Y(n):\n",
    "    return sum([y^n*pmf_Y(y) for y in range(3)])\n",
    "\n",
    "def prod_moment_XY():\n",
    "    return sum([sum([x*y*pmf_X_Y(x,y) for y in range(3)]) for x in range(3)])\n",
    "\n",
    "def correlation_coeff():\n",
    "    return (prod_moment_XY() - nth_moment_X(1)*nth_moment_Y(1))/(sqrt(nth_moment_X(2) - (nth_moment_X(1))^2)*sqrt(nth_moment_Y(2) - (nth_moment_Y(1))^2))\n",
    "\n",
    "print 'the correlation coefficient is'\n",
    "print correlation_coeff()\n",
    "print '\\nthat\\'s approximately'\n",
    "print N(correlation_coeff())"
   ]
  },
  {
   "cell_type": "markdown",
   "metadata": {},
   "source": [
    "### 4.7 Prob 9\n",
    "Suppose a random vector $(X,Y)$ has the joint density function \n",
    "\n",
    "$$f_{X,Y}(x,y) = 24xy \\quad \\text{for positive $x$ and $y$ with $x+y < 1$}$$."
   ]
  },
  {
   "cell_type": "code",
   "execution_count": null,
   "metadata": {},
   "outputs": [],
   "source": [
    "var('x y t')\n",
    "f_X_Y(x,y) = 24*x*y"
   ]
  },
  {
   "cell_type": "markdown",
   "metadata": {},
   "source": [
    "The marginal density of $Y$ is defined for all $y \\in [0,1]$. It's given by the map"
   ]
  },
  {
   "cell_type": "code",
   "execution_count": null,
   "metadata": {},
   "outputs": [],
   "source": [
    "f_Y(y) = integrate(f_X_Y(t,y), t, 0, 1-y)\n",
    "show(f_Y)"
   ]
  },
  {
   "cell_type": "markdown",
   "metadata": {},
   "source": [
    "The conditional density of $X$ given $Y = y$ is defined for all $x \\in [0, 1-y]$ given $y \\in [0,1]$."
   ]
  },
  {
   "cell_type": "code",
   "execution_count": null,
   "metadata": {},
   "outputs": [],
   "source": [
    "f_X_given_Y(x,y) = f_X_Y(x,y)/f_Y(y)\n",
    "show(f_X_given_Y)"
   ]
  },
  {
   "cell_type": "markdown",
   "metadata": {},
   "source": [
    "For an arbitrary $y \\in (0,1)$, we find $E\\left(\\frac1X| Y = y\\right)$."
   ]
  },
  {
   "cell_type": "code",
   "execution_count": null,
   "metadata": {},
   "outputs": [],
   "source": [
    "show(integrate((1/t)*f_X_given_Y(t,y), t, 0, 1-y))"
   ]
  },
  {
   "cell_type": "markdown",
   "metadata": {},
   "source": [
    "### 4.7 Prob 12\n",
    "\n",
    "Let $(X,Y)$ be a random vector with the joint density function \n",
    "\n",
    "$$f_{X,Y}(x,y) = 4xy \\quad \\text{for $(x,y) \\in [0,1]^2$, else $0$.}$$\n",
    "\n",
    "We calculate $\\mathbf{P}(X+Y \\leq 1)$."
   ]
  },
  {
   "cell_type": "code",
   "execution_count": null,
   "metadata": {},
   "outputs": [],
   "source": [
    "var('x y s t')\n",
    "f_X_Y(x,y) = 4*x*y\n",
    "integrate(integrate(f_X_Y(s,t), s, 0, 1-t), t, 0, 1)"
   ]
  },
  {
   "cell_type": "markdown",
   "metadata": {},
   "source": [
    "### 4.7 Prob 13\n",
    "\n",
    "Let $(X,Y)$ be a random vector with the joint density function \n",
    "\n",
    "$$f_{X,Y}(x,y) = \\frac{9x^2}{y} \\quad \\text{for $0<x<y<1$, else $0$.}$$\n",
    "\n",
    "- We show this pdf is normal, i.e., that it integrates to $1$.\n",
    "- We obtain marginal pdfs of $X$ and $Y$ respectively.\n",
    "- We find the conditional expectation $E(X|Y =y)$."
   ]
  },
  {
   "cell_type": "code",
   "execution_count": null,
   "metadata": {},
   "outputs": [],
   "source": [
    "f_X_Y(x,y) = 9*x^2/y\n",
    "\n",
    "# integrating over the support set\n",
    "integrate(integrate(f_X_Y(x,y), x, 0, y,), y, 0, 1)"
   ]
  },
  {
   "cell_type": "code",
   "execution_count": null,
   "metadata": {},
   "outputs": [],
   "source": [
    "# marginal pdf of X\n",
    "var('t')\n",
    "assume(x < 1)\n",
    "\n",
    "f_X(x) = integrate(f_X_Y(x,t), t, x, 1)\n",
    "show(f_X)"
   ]
  },
  {
   "cell_type": "code",
   "execution_count": null,
   "metadata": {},
   "outputs": [],
   "source": [
    "# marginal pdf of Y\n",
    "# assume(0 < y < 1)\n",
    "\n",
    "f_Y(y) = integrate(f_X_Y(t,x), t, 0, y)\n",
    "show(f_Y)"
   ]
  },
  {
   "cell_type": "code",
   "execution_count": null,
   "metadata": {},
   "outputs": [],
   "source": [
    "#conditional expectation of X given Y\n",
    "f_X_given_Y(x,y) = f_X_Y(x,y)/f_Y(y)\n",
    "show(f_X_given_Y(x,y))"
   ]
  },
  {
   "cell_type": "markdown",
   "metadata": {},
   "source": [
    "Note in the above expression for $f_{X|Y}$, we require that $x \\in [0,y]$ for $y \\in [0,1]$."
   ]
  },
  {
   "cell_type": "markdown",
   "metadata": {},
   "source": [
    "### 4.7 Prob 16\n",
    "\n",
    "Let $(X,Y)$ be a random vector with the joint density function \n",
    "\n",
    "$$f_{X,Y}(x,y) = 18x(1-x)y^2 \\quad \\text{for $(x,y)\\in[0,1]^2$, else $0$.}$$\n",
    "\n",
    "We'll calculate $\\mathbf{P}(X>Y)$. The event $X>Y$ occurs in the region $\\{(x,y):0\\leq y<x\\leq 1\\}$. To find the probability mass, we integrate over the region."
   ]
  },
  {
   "cell_type": "code",
   "execution_count": null,
   "metadata": {},
   "outputs": [],
   "source": [
    "f_X_Y(x,y) = 18*x*(1-x)*y^2\n",
    "\n",
    "integrate(integrate(f_X_Y(x,y), y, 0, x,), x, 0, 1)"
   ]
  },
  {
   "cell_type": "markdown",
   "metadata": {},
   "source": [
    "### 4.7 Prob 21\n",
    "\n",
    "Let $(X,Y)$ be a random vector with the joint density function \n",
    "\n",
    "$$f_{X,Y}(x,y) = x+y \\quad \\text{for $(x,y)\\in(0,1)^2$, else $0$.}$$\n",
    "\n",
    "We'll calculate $\\mathbf{P}(X^2 < Y < X)$."
   ]
  },
  {
   "cell_type": "code",
   "execution_count": null,
   "metadata": {},
   "outputs": [],
   "source": [
    "f_X_Y(x,y) = x+y\n",
    "\n",
    "integrate(integrate(f_X_Y(x,y), y, x^2, x,), x, 0, 1)"
   ]
  },
  {
   "cell_type": "markdown",
   "metadata": {},
   "source": [
    "# Appendix\n",
    "\n",
    "Here are some related plots of bivariate distributions. \n",
    "\n",
    "The first two plots are just surfaces drawn over a mesh of $200\\times200$ points on the distribution (hence the axis labels don't correspond to values of the random vector $(X,Y)$).\n",
    "\n",
    "The last plot uses the `ParametricSurface` method, which correctly formats the axis labels."
   ]
  },
  {
   "cell_type": "code",
   "execution_count": null,
   "metadata": {},
   "outputs": [],
   "source": [
    "# bivariate indep distb\n",
    "h = 100\n",
    "T1 = RealDistribution('gaussian', 0.5)\n",
    "T2 = RealDistribution('gaussian', 0.5)\n",
    "surface = [[T1.distribution_function(i/h)*T2.distribution_function(j/h) for i in [-h..h]] for j in [-h..h]]\n",
    "list_plot3d(surface)"
   ]
  },
  {
   "cell_type": "code",
   "execution_count": null,
   "metadata": {},
   "outputs": [],
   "source": [
    "# bivariate indep distb\n",
    "h = 50\n",
    "T1 = RealDistribution('rayleigh', 0.5)\n",
    "T2 = RealDistribution('rayleigh', 0.7)\n",
    "surface = [[T1.distribution_function(i/h)*T2.distribution_function(j/h) for i in [0..2*h]] for j in [0..2*h]]\n",
    "list_plot3d(surface, color='Red')"
   ]
  },
  {
   "cell_type": "code",
   "execution_count": null,
   "metadata": {},
   "outputs": [],
   "source": [
    "from sage.plot.plot3d.parametric_surface import ParametricSurface\n",
    "\n",
    "var('x y')\n",
    "def f(x,y): return x, y, T1.distribution_function(x)*T2.distribution_function(y)\n",
    "P = ParametricSurface(f, (srange(0,2,0.01), srange(0,2,0.01)))\n",
    "P"
   ]
  }
 ],
 "metadata": {
  "kernelspec": {
   "display_name": "SageMath 8.0",
   "language": "",
   "name": "sagemath"
  },
  "language_info": {
   "codemirror_mode": {
    "name": "ipython",
    "version": 2
   },
   "file_extension": ".py",
   "mimetype": "text/x-python",
   "name": "python",
   "nbconvert_exporter": "python",
   "pygments_lexer": "ipython2",
   "version": "2.7.13"
  }
 },
 "nbformat": 4,
 "nbformat_minor": 2
}
