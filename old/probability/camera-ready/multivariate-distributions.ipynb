{
 "cells": [
  {
   "cell_type": "markdown",
   "metadata": {},
   "source": [
    "# Transform Methods\n",
    "\n",
    "- Submitted by Colton Grainger for Math 451-1: Probability Theory, Engineering Outreach.\n",
    "- Text: Samaniego, J.F., *Stochastic Modeling and Mathematical Statistics*, CRC Press, 2014.\n",
    "    - &sect; 4.8 Problems 19, 20, 22, 23, 35, 36, 42, 59\n",
    "    - &sect; 4.8 Problems 58, 69, 70, 81, 82, 83"
   ]
  },
  {
   "cell_type": "markdown",
   "metadata": {},
   "source": [
    "### Prob 59\n",
    "\n",
    "Suppose the RV $X$ has density \n",
    "\n",
    "$$f_X(x) = \\frac x2 \\quad \\text{for $x \\in (0,2)$, else $0$.}$$\n",
    "\n",
    "The density of the variable $Y = X(2-X)$ can be obtained by two equivalent methods:\n",
    "1. Either we write the cdf of $Y$ and integrate to obtain the density $f_Y(y)$,\n",
    "2.  or we consider $Y = g(X)$ with $g(X) = 2X - X^2$, a monotone function on $(0,2)$, and manipulate \n",
    "\n",
    "$$ f_X\\left(g^{-1}(y)\\right) = f_{Y}(y)\\left|\\frac{dg}{dx}\\left(g^{-1}(y)\\right)\\right|.$$\n",
    "\n",
    "We'll take the latter approach."
   ]
  },
  {
   "cell_type": "code",
   "execution_count": null,
   "metadata": {},
   "outputs": [],
   "source": [
    "plot(f_X, (x, 0, 2))"
   ]
  },
  {
   "cell_type": "code",
   "execution_count": null,
   "metadata": {},
   "outputs": [],
   "source": [
    "var('x,y')\n",
    "\n",
    "# distribution of X\n",
    "f_X(x) = x/2\n",
    "\n",
    "# the function g of X\n",
    "g(x) = 2*x - x^2\n",
    "\n",
    "# finding the inverse function\n",
    "g_inv(x) = solve(x == g(y), y)[0].rhs()\n",
    "\n",
    "# distribution of Y\n",
    "f_Y(y) = f_X(g_inv(y))*1/diff(g, x)(g_inv(y))\n",
    "\n",
    "show(f_Y)"
   ]
  },
  {
   "cell_type": "code",
   "execution_count": null,
   "metadata": {},
   "outputs": [],
   "source": [
    "plot(f_Y, (y, 0, 1), ymax = 2)\n",
    "# note that the domain of f_Y is the range of f_X\n",
    "# also note the range of f_Y approaches infinity as y goes to 1 "
   ]
  },
  {
   "cell_type": "code",
   "execution_count": null,
   "metadata": {},
   "outputs": [],
   "source": []
  }
 ],
 "metadata": {
  "kernelspec": {
   "display_name": "SageMath 8.0",
   "language": "",
   "name": "sagemath"
  },
  "language_info": {
   "codemirror_mode": {
    "name": "ipython",
    "version": 2
   },
   "file_extension": ".py",
   "mimetype": "text/x-python",
   "name": "python",
   "nbconvert_exporter": "python",
   "pygments_lexer": "ipython2",
   "version": "2.7.13"
  }
 },
 "nbformat": 4,
 "nbformat_minor": 2
}
