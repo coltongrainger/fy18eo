{
 "cells": [
  {
   "cell_type": "markdown",
   "metadata": {},
   "source": [
    "$\n",
    "    \\newcommand{\\PP}[1]{\\mathbf{P}\\left(#1 \\right)}\n",
    "    \\newcommand{\\Var}[1]{\\mathrm{Var}\\left[#1\\right\\]}\n",
    "    \\newcommand{\\E}[1]{\\mathrm{E}\\left[#1\\right\\]}\n",
    "    \\renewcommand{\\exp}[1]{\\mathrm{exp}\\left[#1\\right]}\n",
    "$\n",
    "\n",
    "# Math 451: Homework 6\n",
    "## Continuous Univariate Random Variables, part I\n",
    "\n",
    "- Submitted 11/5/17 by Colton Grainger for Math 451-1: Probability Theory, Engineering Outreach\n",
    "- **Text:** *Stochastic Modeling and Mathematical Statistics* by Francisco J. Samaniego, CRC Press\n",
    "\n",
    "### 3.7 Prob 1\n",
    "\n",
    "Consider the non-negative function $f(x) = kx^2(1-x)$ \n",
    "restricted to the domain $(0,1)$. \n",
    "\n",
    "a) Let's find the constant of proportionality $k$ such that \n",
    "$f$ is a legitimate density function for the \"MLTN\" distribution $\\sim X$.\n",
    "\n",
    "We require $\\int f = 1$, so $\\frac1k = \\int_0^1 x^2 (1-x)\\, dx$ \n",
    "and thus $ k =12$.\n",
    "\n",
    "b) Let's find the expected value of $X$, given its density is now known.\n",
    "\n",
    "$$E[X] = \\int_0^1 x \\cdot 12 x^2 (1-x)\\, dx = \\frac35.$$\n",
    "\n",
    "c) As $f$ is a polynomial in $x$, we may easily obtain $X$'s \n",
    "higher order moments by integrating, e.g., the second moment is"
   ]
  },
  {
   "cell_type": "code",
   "execution_count": null,
   "metadata": {},
   "outputs": [],
   "source": [
    "f = 12*x^2*(1-x)\n",
    "\n",
    "def moment(f,n):\n",
    "    return integrate(x^n*f, (x, 0, 1))\n",
    "\n",
    "moment(f, 2)"
   ]
  },
  {
   "cell_type": "markdown",
   "metadata": {},
   "source": [
    "From the familiar relation $\\sigma_X^2 = E[X^2] - (E[X])^2$ we calculate the variance to be"
   ]
  },
  {
   "cell_type": "code",
   "execution_count": null,
   "metadata": {},
   "outputs": [],
   "source": [
    "moment(f,2) - (moment(f,1))^2"
   ]
  },
  {
   "cell_type": "markdown",
   "metadata": {},
   "source": [
    "### 3.7 Prob 5\n",
    "Let $X \\sim U(0,1)$. Then suppose $R$, a function of $x \\in X$, is the random variable  representing the ratio of segments, shorter $S$ to the longer $L$, with \n",
    "\n",
    "$$L= \\max\\{x, 1-x\\} \\quad S = \\min\\{x, 1-x\\}.$$\n",
    "\n",
    "We have $R(X(\\Omega)) = [0,1]$ as $0\\leq S/L\\leq 1$. \n",
    "\n",
    "Because $L$ and $S$ are symmetric in $x$ with respect to $1/2$, \n",
    "we have the set equality \n",
    "$$\\{R\\leq 1/3\\} = \\{X \\leq 1/4\\} \\cup \\{X \\geq 3/4\\}.$$\n",
    "\n",
    "Thus $$ \\PP{R\\geq 1/3} = 1 - \\PP{\\{X \\leq 1/4\\} \\cup \\{X \\geq 3/4\\}} = \\frac12.$$\n",
    "\n",
    "### 3.7 Prob 16\n",
    "\n",
    "Suppose $X$ is a random variable with cumulative distribution function\n",
    "\n",
    "$$ F(t) = 1 - \\exp{-x^2} \\quad \\text{for $x \\in (0, \\infty)$} \n",
    "    \\quad \\text{ else $F \\equiv 0$.} $$\n",
    " \n",
    "a) Here's the probability that $X$ is in the interval $(1,2)$.\n",
    "\n",
    "$$\\PP{1 \\leq X \\leq 2} = F(2) - F(1) \n",
    "    = \\frac1e - \\frac1{e^4}$$\n",
    "\n",
    "b) Here's the pdf of $X$, found by differentiating the cdf. \n",
    "\n",
    "$$f_X(x) = \\frac{dF}{dx} = 2xe^{-x^2}.$$\n",
    "\n",
    "(This function, moreover, bears some resemblence to the \n",
    "Maxwell-Boltzman distribution arising in the [kinectic theory of gases](https://en.wikipedia.org/wiki/Maxwell%E2%80%93Boltzmann_distribution).)"
   ]
  },
  {
   "cell_type": "code",
   "execution_count": null,
   "metadata": {},
   "outputs": [],
   "source": [
    "F = 1 - e^(-x^2)\n",
    "f = diff(F, x)\n",
    "p = plot(f, (x, 0, 3)) + plot(f, (x, 1, 2), fill = True)\n",
    "p"
   ]
  },
  {
   "cell_type": "markdown",
   "metadata": {},
   "source": [
    "c) We find the value $m$ such that $\\PP{X \\leq m} = 1/2.$\n",
    "\n",
    "$$ F(m) = 1/2 \\Leftrightarrow 1/2 = e^{-m^2} \n",
    "    \\Leftrightarrow m = \\sqrt{\\ln(2)}. $$"
   ]
  },
  {
   "cell_type": "code",
   "execution_count": null,
   "metadata": {},
   "outputs": [],
   "source": [
    "p = plot(f, (x, 0, 3)) + plot(f, (x, 0, sqrt(ln(2))), fill = True)\n",
    "p"
   ]
  },
  {
   "cell_type": "markdown",
   "metadata": {},
   "source": [
    "### 3.7 Prob 18\n",
    "Suppose $X$ is a random variable representing $|z|$, where the point $z$ is chosen from\n",
    "the unit disc at random. \n",
    "\n",
    "Consider a distance $r \\in [0,1]$. To find $\\PP{X < r}$, we need to \n",
    "account for all of the probability mass in the disc $|z| < r$, which I claim is $\\frac1\\pi \\cdot \\pi r^2$. (As a probability mass of $1$ is distributed uniformly throughout the unit disc, the density of mass per unit area is $1/\\pi$.)\n",
    "\n",
    "It follows that the cumulative density function is given by\n",
    "$$ F(r) = \n",
    "    \\begin{cases}\n",
    "        0 & \\text{for $r<0$},\\\\\n",
    "        r^2 & \\text{for $r \\in [0,1]$},\\\\\n",
    "        1 & \\text{else.}\n",
    "    \\end{cases} $$"
   ]
  },
  {
   "cell_type": "code",
   "execution_count": null,
   "metadata": {},
   "outputs": [],
   "source": [
    "C = circle((0,0), 1, legend_label='unit disc', color = 'black')\n",
    "r = circle((0,0), 1/3, fill = True, legend_label = 'smaller disc')\n",
    "show(C + r)"
   ]
  },
  {
   "cell_type": "markdown",
   "metadata": {},
   "source": [
    "### 3.7 Prob 21\n",
    "Suppose $X \\sim U(0,1)$. Its cdf is given by $F_X(t) = t$, restricted to $t \\in [0,1]$. Suppose $Y$ is also an RV with $Y^2 = X$. What's the cdf of $Y$?\n",
    "\n",
    "\\begin{align}\n",
    "    F_Y(t) &= \\PP{Y \\leq t}\\\\\n",
    "        &= \\PP{X \\leq t^2} \\\\\n",
    "        &= F_X(t^2) \\\\\n",
    "        &= t^2. \n",
    "\\end{align}\n",
    "\n",
    "### 3.7 Prob 27\n",
    "Suppose $U, V$ are independent gamma distributed RVs \n",
    "with parameters $(1,\\mu)$.  Then $U, V \\sim \\mathrm{Exp}(\\mu^{-1})$. \n",
    "If $W = \\min(U, V)$, we have the set equality\n",
    "\n",
    "$$\\{ W \\geq w \\} = \\{U \\geq w \\} \\cap\\{V \\geq w \\}.$$\n",
    "\n",
    "Noticing $W \\geq w$ is a strong hypothesis, we obtain $W$'s cdf:\n",
    "\n",
    "\\begin{align}\n",
    "    \\PP{W\\leq w} &= 1 - \\PP{W \\geq w}\\\\\n",
    "        & = 1 - \\PP{\\{U \\geq w \\} \\cap\\{V \\geq w \\}}\\\\\n",
    "        & = 1 - (\\exp{-w/\\mu})^2  &\\text{(independent RVs)}\\\\\n",
    "        & - 1 - \\exp{\\frac{-2w}\\mu}.\n",
    "\\end{align}\n",
    "\n",
    "Whence $W \\sim \\mathrm{Exp}(2/\\mu)$. \n",
    "\n",
    "*In general*, suppose $X_i \\sim \\Gamma(1, \\mu)$ for $i \\in \\{1, \\ldots, n\\}$. If $W = \\min\\{X_i\\}$, then $W \\sim \\mathrm{Exp}(n/\\mu)$.\n",
    "\n",
    "### 3.7 Prob 28\n",
    "\n",
    "Consider a RV $X$ with density given by \n",
    "$$ f(t)  =  2(t-1) \\text{for $1< x< 2$, else zero.} $$\n",
    "\n",
    "- We show the density is normalized, $\\int f = 1$.\n",
    "- We calculate the expected value $E[X]$.\n",
    "- We integrate to determine the cdf $F(t)$."
   ]
  },
  {
   "cell_type": "code",
   "execution_count": null,
   "metadata": {},
   "outputs": [],
   "source": [
    "# the pdf is normalized\n",
    "f = 2*(x-1)\n",
    "integrate(f, (x, 1, 2))"
   ]
  },
  {
   "cell_type": "code",
   "execution_count": null,
   "metadata": {},
   "outputs": [],
   "source": [
    "# here's the expected value of X\n",
    "integrate(x*f, (x, 1, 2))"
   ]
  },
  {
   "cell_type": "code",
   "execution_count": null,
   "metadata": {},
   "outputs": [],
   "source": [
    "# here's the cdf\n",
    "integrate(f, x)"
   ]
  },
  {
   "cell_type": "markdown",
   "metadata": {},
   "source": [
    "### 3.7 Prob 29\n",
    "\n",
    "Suppose the lifetime of a bulb (in hours) is modeled by an exponential RV with mean $12000$ hours. Let $X \\sim \\mathrm{Exp}(1/12000).$ The probability that a bulb will last less than $1000$ hours is"
   ]
  },
  {
   "cell_type": "code",
   "execution_count": null,
   "metadata": {},
   "outputs": [],
   "source": [
    "mean = 12000\n",
    "f = (1/mean)*e^(-(1/mean)*x)\n",
    "N(integrate(f, (x, 0, 1000)))"
   ]
  },
  {
   "cell_type": "markdown",
   "metadata": {},
   "source": [
    "whence, under a frequentist interpretation of probability, approximately $\\% 8$ of sold bulbs will burn out within $1000$ hours.\n",
    "\n",
    "### 3.7 Prob 31\n",
    "\n",
    "We prove that the Exponential ($\\lambda$) distribution is the only absolutely continuous distribution with the **memorylessness property**, that is\n",
    "\n",
    "$$ X\\sim \\mathrm{Exp}(\\lambda) \n",
    "    \\Leftrightarrow \n",
    "    \\PP{X > t+h \\ \\big|\\ X > t} = \\PP{X > h} \n",
    "        \\quad \\text{for }\\lambda, t, h > 0.$$\n",
    "\n",
    "**Proof.** Suppose $X > t+h$ and $h > 0$. Then obviously $X > t$. \n",
    "We may now assert $\\{X > t+h\\} \\cap \\{ X > t\\} = \\{X>t+h\\}$. \n",
    "The definition of conditional probability then yields \n",
    "\n",
    "$$ \\PP{X > t+h \\ \\big|\\ X > t} = \\frac{\\PP{X > t+h}}{\\PP{X > t}}.$$\n",
    "\n",
    "($\\Rightarrow$) If $X\\sim \\mathrm{Exp}(\\lambda)$, then \n",
    "\n",
    "$$ \\PP{X > t+h \\ \\big|\\ X > t} = \\frac{e^{-\\lambda(t+h)}}{e^{-\\lambda t}} = \\PP{X > h}. $$\n",
    "\n",
    "($\\Leftarrow$) Assume memorylessness, then \n",
    "\n",
    "$$\\PP{X > h}\\PP{X > t} = \\PP{X > t+h}.$$\n",
    "\n",
    "Put $\\phi(t) = \\PP{X > t}$ for $t > 0$. Then $\\phi$ satisfies \n",
    "\n",
    "$$\\phi(t+h) = \\phi(t)\\phi(h).$$\n",
    "\n",
    "By the product form of Cauchy's equation, there exists an $a \\neq 0$ such that $$\\phi(t) = e^{at}, \\quad \\text{for $t>0$}.$$ \n",
    "\n",
    "Since $\\phi(t) = \\PP{X > t} \\to 0$ as $t \\to \\infty$, we must have $a < 0$. With $-\\lambda = a$, we have $$X \\sim \\mathrm{Exp}(\\lambda).$$"
   ]
  }
 ],
 "metadata": {},
 "nbformat": 4,
 "nbformat_minor": 2
}
