{
 "cells": [
  {
   "cell_type": "markdown",
   "metadata": {
    "deletable": true,
    "editable": true
   },
   "source": [
    "$$\n",
    "\\newcommand{\\RR}{\\mathbf{R}}\n",
    "\\newcommand{\\e}{\\mathrm{e}}\n",
    "$$"
   ]
  },
  {
   "cell_type": "markdown",
   "metadata": {
    "deletable": true,
    "editable": true
   },
   "source": [
    "## Number Systems\n",
    "### prob 1"
   ]
  },
  {
   "cell_type": "markdown",
   "metadata": {
    "deletable": true,
    "editable": true
   },
   "source": [
    "Convert to [radix](https://en.wikipedia.org/wiki/Radix) $10$: $(1011011.001)_2$."
   ]
  },
  {
   "cell_type": "code",
   "execution_count": 14,
   "metadata": {
    "collapsed": false,
    "deletable": true,
    "editable": true
   },
   "outputs": [
    {
     "name": "stdout",
     "output_type": "stream",
     "text": [
      "729/8 = 91.1250000000000\n"
     ]
    }
   ],
   "source": [
    "# represent (1011011.001)_2 as a \"float\"\n",
    "mantissa = [1,0,1,1,0,1,1,0,0,1]\n",
    "exponent = 7\n",
    "\n",
    "# init decimal rep\n",
    "c = 0\n",
    "\n",
    "# add powers of 2 to decimal rep\n",
    "for i in range(len(mantissa)):\n",
    "    c = c + mantissa[i]*(2^(-i-1))\n",
    "    \n",
    "# shift decimal pt by necessary exponent\n",
    "c = c*2^exponent\n",
    "\n",
    "print(str(c) + \" = \" + str(n(c)))"
   ]
  },
  {
   "cell_type": "markdown",
   "metadata": {
    "deletable": true,
    "editable": true
   },
   "source": [
    "Convert to radix $2$: $(2018)_{10}$."
   ]
  },
  {
   "cell_type": "code",
   "execution_count": 9,
   "metadata": {
    "collapsed": false
   },
   "outputs": [
    {
     "name": "stdout",
     "output_type": "stream",
     "text": [
      "[1, 1, 1, 1, 1, 1, 0, 0, 0, 1]_2\n"
     ]
    }
   ],
   "source": [
    "# integer to be converted\n",
    "m = 2018\n",
    "\n",
    "# find the greatest i s.th. 2**i < m\n",
    "i = 0\n",
    "while m > 2**i:\n",
    "    i = i + 1\n",
    "i = i - 1\n",
    "\n",
    "# initialize empty list and counter\n",
    "c = []\n",
    "N = 0\n",
    "\n",
    "# remove powers of 2 from m, create binary rep\n",
    "while m != 0 and N < 15: # note stopping condition\n",
    "    if m >= 2**i:\n",
    "        m = m - 2**i\n",
    "        c.append(1)\n",
    "    else:\n",
    "        c.append(0)\n",
    "    i += -1\n",
    "    N += 1\n",
    "print(str(c)+\"_2\")"
   ]
  },
  {
   "cell_type": "markdown",
   "metadata": {
    "deletable": true,
    "editable": true
   },
   "source": [
    "### prob 2"
   ]
  },
  {
   "cell_type": "markdown",
   "metadata": {
    "deletable": true,
    "editable": true
   },
   "source": [
    "The floating point representation of a real number is $x=\\pm\n",
    "(0.d_{1}d_{2}\\ldots d_{n})_\\beta\\cdot \\beta^e$, where\n",
    "$d_{1}\\not=0$, $-M\\leq e\\leq M$. Suppose that $\\beta=2$, $n=6$,\n",
    "$M=5$."
   ]
  },
  {
   "cell_type": "markdown",
   "metadata": {},
   "source": [
    "Here's the smallest (positive) number in this floating point system."
   ]
  },
  {
   "cell_type": "code",
   "execution_count": 16,
   "metadata": {
    "collapsed": false
   },
   "outputs": [
    {
     "name": "stdout",
     "output_type": "stream",
     "text": [
      "1/64 = 0.0156250000000000\n"
     ]
    }
   ],
   "source": [
    "# represent (0.100000)_2 * 2^-5 as a \"float\"\n",
    "mantissa = [1,0,0,0,0,0]\n",
    "exponent = -5\n",
    "\n",
    "# create decimal rep\n",
    "c = 0\n",
    "for i in range(len(mantissa)):\n",
    "    c = c + mantissa[i]*(2^(-i-1))\n",
    "c = c*2^exponent\n",
    "\n",
    "print(str(c) + \" = \" + str(n(c)))"
   ]
  },
  {
   "cell_type": "markdown",
   "metadata": {},
   "source": [
    "Here's the largest number."
   ]
  },
  {
   "cell_type": "code",
   "execution_count": 17,
   "metadata": {
    "collapsed": false
   },
   "outputs": [
    {
     "name": "stdout",
     "output_type": "stream",
     "text": [
      "63/2 = 31.5000000000000\n"
     ]
    }
   ],
   "source": [
    "# represent (0.111111)_2 * 2^5 as a \"float\"\n",
    "mantissa = [1,1,1,1,1,1]\n",
    "exponent = 5\n",
    "\n",
    "# create decimal rep\n",
    "c = 0\n",
    "for i in range(len(mantissa)):\n",
    "    c = c + mantissa[i]*(2^(-i-1))\n",
    "c = c*2^exponent\n",
    "\n",
    "print(str(c) + \" = \" + str(n(c)))"
   ]
  },
  {
   "cell_type": "markdown",
   "metadata": {
    "deletable": true,
    "editable": true
   },
   "source": [
    "### prob 4"
   ]
  },
  {
   "cell_type": "code",
   "execution_count": 48,
   "metadata": {
    "collapsed": false,
    "deletable": true,
    "editable": true
   },
   "outputs": [],
   "source": [
    "def convert_to_binary(n): ## n must be a natural number\n",
    "    q = [n]\n",
    "    a = []\n",
    "    j = 0\n",
    "    while q[-1] != 0:\n",
    "        q.append(q[j] // 2)\n",
    "        a.append(q[j] % 2)\n",
    "        j = j + 1\n",
    "    print(str(list(reversed(a)))+'_2')"
   ]
  },
  {
   "cell_type": "code",
   "execution_count": 49,
   "metadata": {
    "collapsed": false,
    "deletable": true,
    "editable": true
   },
   "outputs": [
    {
     "name": "stdout",
     "output_type": "stream",
     "text": [
      "[1, 0, 0]_2\n"
     ]
    }
   ],
   "source": [
    "convert_to_binary(4)"
   ]
  },
  {
   "cell_type": "code",
   "execution_count": 50,
   "metadata": {
    "collapsed": false,
    "deletable": true,
    "editable": true
   },
   "outputs": [
    {
     "name": "stdout",
     "output_type": "stream",
     "text": [
      "[1, 1, 1, 0, 0, 0]_2\n"
     ]
    }
   ],
   "source": [
    "convert_to_binary(56)"
   ]
  },
  {
   "cell_type": "code",
   "execution_count": 51,
   "metadata": {
    "collapsed": false,
    "deletable": true,
    "editable": true
   },
   "outputs": [
    {
     "name": "stdout",
     "output_type": "stream",
     "text": [
      "[1, 1, 0, 0, 0, 0, 0, 0, 1, 1, 1]_2\n"
     ]
    }
   ],
   "source": [
    "convert_to_binary(1543)"
   ]
  },
  {
   "cell_type": "markdown",
   "metadata": {
    "deletable": true,
    "editable": true
   },
   "source": [
    "## Finite Precision Arithmetic\n",
    "\n",
    "### prob 3\n",
    "\n",
    "Near certain values of $x$ each of the following functions\n",
    "cannot be accurately  computed using the formula as given due to\n",
    "cancellation error. Identify the values of $x$ which are involved\n",
    "(e.g. near $x=0$ or large positive $x$) and propose a\n",
    "reformulation of the function (e.g., using Taylor series,\n",
    "rationalization, trigonometric identities, etc.) to remedy the\n",
    "problem."
   ]
  },
  {
   "cell_type": "markdown",
   "metadata": {
    "deletable": true,
    "editable": true
   },
   "source": [
    "$f(x)=1+\\cos x$"
   ]
  },
  {
   "cell_type": "markdown",
   "metadata": {
    "deletable": true,
    "editable": true
   },
   "source": [
    "$f(x)=\\e^{-x}+\\sin x-1$"
   ]
  },
  {
   "cell_type": "markdown",
   "metadata": {
    "deletable": true,
    "editable": true
   },
   "source": [
    "$f(x)=\\ln x-\\ln(1/x)$"
   ]
  },
  {
   "cell_type": "markdown",
   "metadata": {
    "deletable": true,
    "editable": true
   },
   "source": [
    "$f(x)=\\sqrt{x^2+1}-\\sqrt{x^2+4}$"
   ]
  },
  {
   "cell_type": "markdown",
   "metadata": {
    "deletable": true,
    "editable": true
   },
   "source": [
    "$f(x)=1-2\\sin^2x$"
   ]
  },
  {
   "cell_type": "markdown",
   "metadata": {
    "deletable": true,
    "editable": true
   },
   "source": [
    "$f(x)=\\ln(x+\\sqrt{x^2+1})$"
   ]
  },
  {
   "cell_type": "markdown",
   "metadata": {
    "deletable": true,
    "editable": true
   },
   "source": [
    "### prob 5\n",
    "\n",
    "Use three-digit rounding arithmetic to compute the following\n",
    "sums (sum in the given order).\n",
    "\n",
    "Hint: use floating point representation, e.g. $\\frac{1}{3^6}=0.001371742112483 \\approx 0.137\\times 10^{-2}$ but not $0.001$. "
   ]
  },
  {
   "cell_type": "markdown",
   "metadata": {
    "deletable": true,
    "editable": true
   },
   "source": [
    "$\\sum_{k=1}^6\\frac{1}{3^k}$"
   ]
  },
  {
   "cell_type": "markdown",
   "metadata": {
    "deletable": true,
    "editable": true
   },
   "source": [
    "$\\sum_{k=1}^6\\frac{1}{3^{7-k}}$"
   ]
  },
  {
   "cell_type": "markdown",
   "metadata": {
    "deletable": true,
    "editable": true
   },
   "source": [
    "## Finite Difference Approximation\n",
    "### prob 6\n",
    "\n",
    "Let $f(x)$ be a given function and recall the forward difference approximation of $f'(x)$\n",
    "$$\n",
    "D_+f(x)=\\frac{f(x+h)-f(x)}{h},\n",
    "$$\n",
    "where $h>0$ is the step size.\n",
    "\n",
    "Take $f(x)=\\sin x$, $x=\\pi/4$, $h=2^{-n}$ for $n=1,2,\\ldots,6$. \n",
    "\n",
    "Plot the error versus $h$ (use a log-log plot) and print the following information\n",
    "\n",
    "\n",
    "- $h$\n",
    "- $D_+f$\n",
    "- $f'(\\pi/4)-D_+f$\n",
    "- $(f'(\\pi/4)-D_+f)/h$\n",
    "- $(f'(\\pi/4)-D_+f)/{h^2}$\n",
    "- $(f'(\\pi/4)-D_+f)/{h^3}$\n"
   ]
  },
  {
   "cell_type": "markdown",
   "metadata": {
    "deletable": true,
    "editable": true
   },
   "source": [
    "Repeat for central difference approximation,\n",
    "$$\n",
    "D_0f(x)=\\frac{f(x+h)-f(x-h)}{2h},\n",
    "$$\n",
    "which also approximates $f'(x)$. \n",
    "\n",
    "Which approximation is more accurate?"
   ]
  },
  {
   "cell_type": "markdown",
   "metadata": {
    "deletable": true,
    "editable": true
   },
   "source": [
    "### prob 7\n",
    "\n",
    "The forward and backward finite-difference operators are defined by\n",
    "- $D_+f(x)=\\frac{f(x+h)-f(x)}{h}$\n",
    "- $D_-f(x)=\\frac{f(x)-f(x-h)}{h}$\n",
    "\n",
    "Show that $D_+D_-f(x)=\\frac{f(x+h)-2f(x)+f(x-h)}{h^2}$."
   ]
  },
  {
   "cell_type": "markdown",
   "metadata": {
    "deletable": true,
    "editable": true
   },
   "source": [
    "Use Taylor expansions and the previous result to show that $D_+D_-f(x)=f''(x)+O(h^2)$. Find the asymptotic error constant."
   ]
  },
  {
   "cell_type": "markdown",
   "metadata": {
    "deletable": true,
    "editable": true
   },
   "source": [
    "## Rootfinding\n",
    "### prob 8\n",
    "\n",
    "Consider $f(x) = x^2 - 5$. Since $f(2) < 0$, $f(3) > 0$, \n",
    "it follows that $f(x)$ has a root $p$ in the\n",
    "interval $(2, 3)$. Compute an approximation to $p$ \n",
    "by the following methods. Take $10$ steps in\n",
    "each case. Print the answers to $15$ digits.\n",
    "\n",
    "Print the following information for each method. Do the results agree\n",
    "with the theory discussed in class?\n",
    "- $n$ (step)\n",
    "- $x_n$ (approximation)\n",
    "- $f(x_n)$  (residual)\n",
    "- $|p - x_n|$  (error)"
   ]
  },
  {
   "cell_type": "markdown",
   "metadata": {
    "deletable": true,
    "editable": true
   },
   "source": [
    "bisection method, starting interval $[a, b] = [2, 3]$"
   ]
  },
  {
   "cell_type": "markdown",
   "metadata": {
    "deletable": true,
    "editable": true
   },
   "source": [
    "fixed-point iteration with $g_1(x) = 5/x$ and $g_2(x) = x - f(x)/3$, starting value $x_0 = 2.5$"
   ]
  },
  {
   "cell_type": "markdown",
   "metadata": {
    "deletable": true,
    "editable": true
   },
   "source": [
    "Newton's method, starting value $x_0 = 2.5$."
   ]
  },
  {
   "cell_type": "markdown",
   "metadata": {
    "deletable": true,
    "editable": true
   },
   "source": [
    "### prob 9 \n",
    "\n",
    "Consider the function $g(x)=2x(1-x)$.\n",
    "\n",
    "Verify $x=0$ and $x=1/2$ are fixed points of $g(x)$."
   ]
  },
  {
   "cell_type": "markdown",
   "metadata": {
    "deletable": true,
    "editable": true
   },
   "source": [
    "Why should we expect that fixed point iteration, starting even with a value very close to zero, will fail to converge toward $x=0$?"
   ]
  },
  {
   "cell_type": "markdown",
   "metadata": {
    "deletable": true,
    "editable": true
   },
   "source": [
    "Why should we expect that fixed point iteration, starting with $p_0\\in(0,1)$ will converge toward $x=1/2$? What order of convergence should we expect?"
   ]
  },
  {
   "cell_type": "markdown",
   "metadata": {
    "deletable": true,
    "editable": true
   },
   "source": [
    "Perform seven iterations starting from an arbitrary $p_0\\in(0,1)$ and numerical confirm the order of convergence."
   ]
  },
  {
   "cell_type": "markdown",
   "metadata": {
    "deletable": true,
    "editable": true
   },
   "source": [
    "### prob 10 (suggested)\n",
    "\n",
    "Plot the function $f(x)=1-\\cos x$ over the interval $-5\\times 10^{-8}\\leq x\\leq 5\\times 10^{-8}$. Generate points at 1001 uniformly spaced abscissas and perform all calculations in IEEE standard double precision.\n",
    "\n",
    "Reformulate $f$ to avoid cancellations error and then repeat the previous arithmetic."
   ]
  },
  {
   "cell_type": "markdown",
   "metadata": {
    "deletable": true,
    "editable": true
   },
   "source": [
    "### prob 11 (suggested) \n",
    "Verify that $x=\\sqrt{a}$ is a fixed point of the function\n",
    "$$\n",
    "g(x)=\\frac 12 \\left(x+\\frac ax\\right).\n",
    "$$\n",
    "Use the techniques of Section 2.3 to determine the order of convergence and the asymptotic error constant of the sequence $p_n=g(p_{n-1})$ toward $x=\\sqrt a$."
   ]
  }
 ],
 "metadata": {
  "kernelspec": {
   "display_name": "SageMath 8.0",
   "language": "",
   "name": "sagemath"
  },
  "language_info": {
   "codemirror_mode": {
    "name": "ipython",
    "version": 2
   },
   "file_extension": ".py",
   "mimetype": "text/x-python",
   "name": "python",
   "nbconvert_exporter": "python",
   "pygments_lexer": "ipython2",
   "version": "2.7.13"
  }
 },
 "nbformat": 4,
 "nbformat_minor": 2
}
