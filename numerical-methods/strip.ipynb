{
 "cells": [
  {
   "cell_type": "code",
   "execution_count": null,
   "metadata": {},
   "outputs": [],
   "source": [
    "import hashlib\n",
    "\n",
    "def geohash(latitude, longitude, datedow):\n",
    "    # http://xkcd.com/426/\n",
    "    h = hashlib.md5(datedow).hexdigest()\n",
    "    p, q = [('%f' % float.fromhex('0.' + x)) for x in (h[:16], h[16:32])]\n",
    "    print('%d%s %d%s' % (latitude, p[1:], longitude, q[1:]))"
   ]
  },
  {
   "cell_type": "code",
   "execution_count": null,
   "metadata": {},
   "outputs": [],
   "source": [
    "geohash(47.0486395,-122.9229211,b'2018-02-20-24964.75')"
   ]
  },
  {
   "cell_type": "markdown",
   "metadata": {},
   "source": [
    "nope. that's underwater."
   ]
  },
  {
   "cell_type": "code",
   "execution_count": null,
   "metadata": {},
   "outputs": [],
   "source": []
  }
 ],
 "metadata": {
  "language_info": {
   "name": "python",
   "pygments_lexer": "ipython3"
  }
 },
 "nbformat": 4,
 "nbformat_minor": 2
}
