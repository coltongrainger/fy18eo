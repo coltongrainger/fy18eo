{
 "cells": [
  {
   "cell_type": "code",
   "execution_count": 4,
   "metadata": {
    "collapsed": true
   },
   "outputs": [],
   "source": [
    "import hashlib\n",
    "\n",
    "def geohash(latitude, longitude, datedow):\n",
    "    # http://xkcd.com/426/\n",
    "    h = hashlib.md5(datedow).hexdigest()\n",
    "    p, q = [('%f' % float.fromhex('0.' + x)) for x in (h[:16], h[16:32])]\n",
    "    print('%d%s %d%s' % (latitude, p[1:], longitude, q[1:]))"
   ]
  },
  {
   "cell_type": "code",
   "execution_count": 6,
   "metadata": {
    "collapsed": false
   },
   "outputs": [
    {
     "name": "stdout",
     "output_type": "stream",
     "text": [
      "47.753521 -122.266957\n"
     ]
    }
   ],
   "source": [
    "geohash(47.0486395,-122.9229211,b'2018-02-20-24964.75')"
   ]
  },
  {
   "cell_type": "markdown",
   "metadata": {},
   "source": [
    "nope. that's underwater."
   ]
  },
  {
   "cell_type": "code",
   "execution_count": null,
   "metadata": {
    "collapsed": true
   },
   "outputs": [],
   "source": []
  }
 ],
 "metadata": {
  "kernelspec": {
   "display_name": "Python 3",
   "language": "python",
   "name": "python3"
  },
  "language_info": {
   "codemirror_mode": {
    "name": "ipython",
    "version": 3
   },
   "file_extension": ".py",
   "mimetype": "text/x-python",
   "name": "python",
   "nbconvert_exporter": "python",
   "pygments_lexer": "ipython3",
   "version": "3.6.4"
  }
 },
 "nbformat": 4,
 "nbformat_minor": 2
}
